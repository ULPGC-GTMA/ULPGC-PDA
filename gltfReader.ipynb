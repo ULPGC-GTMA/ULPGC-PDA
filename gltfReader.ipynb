{
 "cells": [
  {
   "cell_type": "code",
   "execution_count": 1,
   "id": "8c424441-7e57-42db-b34b-081ba949b424",
   "metadata": {},
   "outputs": [],
   "source": [
    "# https://examples.vtk.org/site/Cxx/IO/GLTFImporter/\n",
    "\n",
    "import vtk\n",
    "\n",
    "from vtk.vtkCommonColor import vtkNamedColors\n",
    "from vtk.vtkIOGeometry import vtkOBJReader\n",
    "from vtk.vtkIOImport import vtk3DSImporter, vtkOBJImporter, vtkGLTFImporter\n",
    "from vtk.vtkRenderingCore import (\n",
    "    vtkCamera,\n",
    "    vtkRenderWindow,\n",
    "    vtkRenderWindowInteractor,\n",
    "    vtkRenderer\n",
    ")"
   ]
  },
  {
   "cell_type": "code",
   "execution_count": 2,
   "id": "f878226c-d33d-4606-8e3b-26feddf58ab8",
   "metadata": {},
   "outputs": [],
   "source": [
    "colors = vtkNamedColors()"
   ]
  },
  {
   "cell_type": "code",
   "execution_count": 3,
   "id": "fd7c5667-9361-4893-b156-f71eb96bf6e1",
   "metadata": {},
   "outputs": [],
   "source": [
    "fileName = 'data/gltf/FlightHelmet.gltf'"
   ]
  },
  {
   "cell_type": "code",
   "execution_count": 4,
   "id": "767598d2-f1a2-4aad-be9b-334a8287d3df",
   "metadata": {},
   "outputs": [],
   "source": [
    "importer = vtkGLTFImporter()\n",
    "importer.SetFileName(fileName)"
   ]
  },
  {
   "cell_type": "code",
   "execution_count": 5,
   "id": "422827e9-5fa3-4134-9a31-d46f8497c2f2",
   "metadata": {},
   "outputs": [
    {
     "name": "stdout",
     "output_type": "stream",
     "text": [
      "There are 6 actors.\n"
     ]
    }
   ],
   "source": [
    "renderer = vtkRenderer()\n",
    "renWin = vtkRenderWindow()\n",
    "iren = vtkRenderWindowInteractor()\n",
    "\n",
    "renWin.AddRenderer(renderer)\n",
    "renderer.SetBackground(colors.GetColor3d('SlateGray'))\n",
    "renderer.UseHiddenLineRemovalOn()\n",
    "\n",
    "iren.SetRenderWindow(renWin)\n",
    "importer.SetRenderWindow(renWin)\n",
    "importer.Update()\n",
    "\n",
    "# actors = vtkActorCollection()\n",
    "actors = renderer.GetActors()\n",
    "print('There are', actors.GetNumberOfItems(), 'actors.')\n",
    "\n",
    "renWin.SetWindowName('GLTF')\n",
    "renWin.SetSize(640, 512);\n",
    "\n",
    "renWin.Render()\n",
    "\n",
    "\n",
    "renderer.ResetCamera();\n",
    "renderer.GetActiveCamera().Azimuth(20);\n",
    "renderer.GetActiveCamera().Elevation(30);\n",
    "renderer.ResetCameraClippingRange();\n",
    "\n",
    "renWin.Render()\n",
    "iren.Start()\n",
    "\n",
    "del renWin, iren, importer"
   ]
  },
  {
   "cell_type": "code",
   "execution_count": null,
   "id": "3b810b49-4b08-41a4-8f4d-ba1e9ebe5aa3",
   "metadata": {},
   "outputs": [],
   "source": []
  }
 ],
 "metadata": {
  "kernelspec": {
   "display_name": "Python [conda env:jra]",
   "language": "python",
   "name": "conda-env-jra-py"
  },
  "language_info": {
   "codemirror_mode": {
    "name": "ipython",
    "version": 3
   },
   "file_extension": ".py",
   "mimetype": "text/x-python",
   "name": "python",
   "nbconvert_exporter": "python",
   "pygments_lexer": "ipython3",
   "version": "3.10.6"
  }
 },
 "nbformat": 4,
 "nbformat_minor": 5
}
