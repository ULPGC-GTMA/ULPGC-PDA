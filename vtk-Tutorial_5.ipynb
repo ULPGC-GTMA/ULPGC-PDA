{
 "cells": [
  {
   "cell_type": "code",
   "execution_count": 1,
   "id": "7d037abd-6be2-4ae4-9af5-781eeafaa4f5",
   "metadata": {},
   "outputs": [],
   "source": [
    "import time\n",
    "\n",
    "import vtk\n",
    "\n",
    "#import vtk.vtkInteractionStyle, vtk.vtkRenderingOpenGL2\n",
    "\n",
    "from vtk.vtkCommonColor import vtkNamedColors\n",
    "from vtk.vtkFiltersSources import vtkConeSource\n",
    "\n",
    "from vtk.vtkRenderingCore import (\n",
    "    vtkActor,\n",
    "    vtkPolyDataMapper,\n",
    "    vtkProperty,\n",
    "    vtkRenderWindow,\n",
    "    vtkRenderer\n",
    ")"
   ]
  },
  {
   "cell_type": "code",
   "execution_count": 2,
   "id": "c01b9826-4ddd-4285-9ca6-a117e9cf59eb",
   "metadata": {},
   "outputs": [],
   "source": [
    "colors = vtkNamedColors()"
   ]
  },
  {
   "cell_type": "code",
   "execution_count": 3,
   "id": "d9ab1a5d-9272-49aa-b947-475ed1c51cb2",
   "metadata": {},
   "outputs": [],
   "source": [
    "cone = vtkConeSource()\n",
    "cone.SetHeight(3.0)\n",
    "cone.SetRadius(1.0)\n",
    "cone.SetResolution(10)"
   ]
  },
  {
   "cell_type": "code",
   "execution_count": 4,
   "id": "be62dd3a-66ad-4eb3-96a6-b0de3a434607",
   "metadata": {},
   "outputs": [],
   "source": [
    "coneMapper = vtkPolyDataMapper()\n",
    "coneMapper.SetInputConnection(cone.GetOutputPort())"
   ]
  },
  {
   "cell_type": "code",
   "execution_count": 5,
   "id": "f48291d3-782a-408d-bd7e-c7a58bee741b",
   "metadata": {},
   "outputs": [],
   "source": [
    "coneActor = vtkActor()\n",
    "coneActor.SetMapper(coneMapper)\n",
    "coneActor.GetProperty().SetColor(colors.GetColor3d('Bisque'))"
   ]
  },
  {
   "cell_type": "code",
   "execution_count": 6,
   "id": "a2c67463-62ff-4367-812c-0c288c1173e7",
   "metadata": {},
   "outputs": [],
   "source": [
    "ren1 = vtkRenderer()\n",
    "ren1.AddActor(coneActor)\n",
    "ren1.SetBackground(colors.GetColor3d('MidnightBlue'))"
   ]
  },
  {
   "cell_type": "code",
   "execution_count": 7,
   "id": "fda1fe36-42fd-467c-944c-dba83c312a8a",
   "metadata": {},
   "outputs": [],
   "source": [
    "renWin = vtkRenderWindow()\n",
    "renWin.AddRenderer(ren1)\n",
    "renWin.SetSize(300, 300)\n",
    "renWin.SetWindowName('Vtk-Tutorial_5')"
   ]
  },
  {
   "cell_type": "code",
   "execution_count": 8,
   "id": "40223cfe-a1f8-45cb-8d01-2a3869399cb1",
   "metadata": {},
   "outputs": [],
   "source": [
    "iren = vtk.vtkRenderWindowInteractor()\n",
    "iren.SetRenderWindow(renWin)\n",
    "\n",
    "style = vtk.vtkInteractorStyleTrackballCamera()\n",
    "iren.SetInteractorStyle(style)"
   ]
  },
  {
   "cell_type": "code",
   "execution_count": 9,
   "id": "df6399f2-cbfb-420d-ab9c-e96dd29b7187",
   "metadata": {},
   "outputs": [],
   "source": [
    "iren.Start()\n",
    "\n",
    "del renWin, iren"
   ]
  },
  {
   "cell_type": "code",
   "execution_count": null,
   "id": "0f6c761a-d5f8-45db-b7b8-2f74f2b7ee12",
   "metadata": {},
   "outputs": [],
   "source": []
  }
 ],
 "metadata": {
  "kernelspec": {
   "display_name": "Python [conda env:jra] *",
   "language": "python",
   "name": "conda-env-jra-py"
  },
  "language_info": {
   "codemirror_mode": {
    "name": "ipython",
    "version": 3
   },
   "file_extension": ".py",
   "mimetype": "text/x-python",
   "name": "python",
   "nbconvert_exporter": "python",
   "pygments_lexer": "ipython3",
   "version": "3.10.6"
  }
 },
 "nbformat": 4,
 "nbformat_minor": 5
}
