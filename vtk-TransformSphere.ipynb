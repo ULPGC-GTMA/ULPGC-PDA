{
 "cells": [
  {
   "cell_type": "code",
   "execution_count": 1,
   "id": "e10c7d23-7b17-457c-9f55-0cb621627061",
   "metadata": {},
   "outputs": [],
   "source": [
    "import vtk\n",
    "\n",
    "from vtk.vtkCommonColor import vtkNamedColors\n",
    "from vtk.vtkCommonTransforms import vtkTransform\n",
    "from vtk.vtkCommonCore import vtkLookupTable\n",
    "from vtk.vtkFiltersCore import vtkElevationFilter\n",
    "from vtk.vtkFiltersGeneral import vtkTransformFilter\n",
    "from vtk.vtkFiltersSources import vtkSphereSource\n",
    "from vtk.vtkRenderingCore import (\n",
    "    vtkActor,\n",
    "    vtkDataSetMapper,\n",
    "    vtkRenderWindow,\n",
    "    vtkRenderWindowInteractor,\n",
    "    vtkRenderer\n",
    ")"
   ]
  },
  {
   "cell_type": "code",
   "execution_count": 2,
   "id": "a1d6a2ef-efb3-4b2a-bda4-8a7c5d57c6a0",
   "metadata": {},
   "outputs": [],
   "source": [
    "colors = vtkNamedColors()\n",
    "renderer = vtkRenderer()\n",
    "renWin = vtkRenderWindow()\n",
    "renWin.AddRenderer(renderer)\n",
    "iren = vtkRenderWindowInteractor()\n",
    "iren.SetRenderWindow(renWin)"
   ]
  },
  {
   "cell_type": "code",
   "execution_count": 3,
   "id": "d233a5f3-f41c-415f-a6e0-031c20018538",
   "metadata": {},
   "outputs": [],
   "source": [
    "sphere = vtkSphereSource()\n",
    "sphere.SetThetaResolution(12)\n",
    "sphere.SetPhiResolution(12)"
   ]
  },
  {
   "cell_type": "code",
   "execution_count": 4,
   "id": "3a01ed73-36e5-46c1-bdb5-c7c4428e8947",
   "metadata": {},
   "outputs": [],
   "source": [
    "aTransform = vtkTransform()\n",
    "aTransform.Scale(1, 1.5, 2)"
   ]
  },
  {
   "cell_type": "code",
   "execution_count": 5,
   "id": "6c454fb3-95ce-4205-9063-9d3d656cdbfd",
   "metadata": {},
   "outputs": [],
   "source": [
    "transFilter = vtkTransformFilter()\n",
    "transFilter.SetInputConnection(sphere.GetOutputPort())\n",
    "transFilter.SetTransform(aTransform)"
   ]
  },
  {
   "cell_type": "code",
   "execution_count": 6,
   "id": "f193060b-7c5f-4cf9-aa53-fa247cd67036",
   "metadata": {},
   "outputs": [],
   "source": [
    "colorIt = vtkElevationFilter()\n",
    "colorIt.SetInputConnection(transFilter.GetOutputPort())\n",
    "colorIt.SetLowPoint(0, 0, -1)\n",
    "colorIt.SetHighPoint(0, 0, 1)"
   ]
  },
  {
   "cell_type": "code",
   "execution_count": 7,
   "id": "e9564565-80bc-4750-9542-3f2fc1882cf4",
   "metadata": {},
   "outputs": [],
   "source": [
    "lut = vtkLookupTable()\n",
    "lut.SetHueRange(0.667, 0)\n",
    "lut.SetSaturationRange(1, 1)\n",
    "lut.SetValueRange(1, 1)"
   ]
  },
  {
   "cell_type": "code",
   "execution_count": 8,
   "id": "41c6ce84-7020-496c-a9b4-408f55d64e3a",
   "metadata": {},
   "outputs": [],
   "source": [
    "mapper = vtkDataSetMapper()\n",
    "mapper.SetLookupTable(lut)\n",
    "mapper.SetInputConnection(colorIt.GetOutputPort())"
   ]
  },
  {
   "cell_type": "code",
   "execution_count": 9,
   "id": "4799f129-b70b-4c6a-ae93-54c53956ec0f",
   "metadata": {},
   "outputs": [],
   "source": [
    "actor = vtkActor()\n",
    "actor.SetMapper(mapper)"
   ]
  },
  {
   "cell_type": "code",
   "execution_count": 10,
   "id": "6be6e5f5-37ca-4599-8f1b-3a7136726e07",
   "metadata": {},
   "outputs": [],
   "source": [
    "renderer.AddActor(actor)\n",
    "renderer.SetBackground(colors.GetColor3d(\"SlateGray\"))\n",
    "renderer.ResetCamera()\n",
    "renderer.GetActiveCamera().Elevation(60.0)\n",
    "renderer.GetActiveCamera().Azimuth(30.0)\n",
    "renderer.ResetCameraClippingRange()"
   ]
  },
  {
   "cell_type": "code",
   "execution_count": 11,
   "id": "ecfc3029-2ffb-4589-ad30-f3986d5260a1",
   "metadata": {},
   "outputs": [],
   "source": [
    "renWin.SetSize(640, 480)\n",
    "renWin.SetWindowName('TransformSphere')"
   ]
  },
  {
   "cell_type": "code",
   "execution_count": 12,
   "id": "ea62ee59-1811-4b6c-938b-06d06855c23a",
   "metadata": {},
   "outputs": [],
   "source": [
    "renWin.Render()\n",
    "\n",
    "# Interact with the data.\n",
    "iren.Start()\n",
    "\n",
    "del renWin, iren"
   ]
  },
  {
   "cell_type": "code",
   "execution_count": null,
   "id": "de4f0944-fc91-4746-a97c-ca588c94fadc",
   "metadata": {},
   "outputs": [],
   "source": []
  }
 ],
 "metadata": {
  "kernelspec": {
   "display_name": "Python [conda env:jra]",
   "language": "python",
   "name": "conda-env-jra-py"
  },
  "language_info": {
   "codemirror_mode": {
    "name": "ipython",
    "version": 3
   },
   "file_extension": ".py",
   "mimetype": "text/x-python",
   "name": "python",
   "nbconvert_exporter": "python",
   "pygments_lexer": "ipython3",
   "version": "3.10.6"
  }
 },
 "nbformat": 4,
 "nbformat_minor": 5
}
