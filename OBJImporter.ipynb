{
 "cells": [
  {
   "cell_type": "code",
   "execution_count": 1,
   "id": "54adead0-143a-408e-aa03-52c119ee6784",
   "metadata": {},
   "outputs": [],
   "source": [
    "import vtk\n",
    "\n",
    "from vtk.vtkCommonColor import vtkNamedColors\n",
    "from vtk.vtkIOGeometry import vtkOBJReader\n",
    "from vtk.vtkIOImport import vtk3DSImporter, vtkOBJImporter\n",
    "from vtk.vtkRenderingCore import (\n",
    "    vtkCamera,\n",
    "    vtkRenderWindow,\n",
    "    vtkRenderWindowInteractor,\n",
    "    vtkRenderer\n",
    ")"
   ]
  },
  {
   "cell_type": "code",
   "execution_count": 2,
   "id": "85d1ac4e-1cdd-4645-8b78-f2cfe5b65300",
   "metadata": {},
   "outputs": [],
   "source": [
    "fileName    = 'data/D0401253.obj'\n",
    "mtlfileName = 'data/D0401253.mtl'\n",
    "textPath    = 'data/'"
   ]
  },
  {
   "cell_type": "code",
   "execution_count": 3,
   "id": "98e94c31-d60e-4081-8d43-f03a5d406e54",
   "metadata": {},
   "outputs": [],
   "source": [
    "importer = vtkOBJImporter()\n",
    "importer.SetFileName(fileName)\n",
    "importer.SetFileNameMTL(mtlfileName)\n",
    "importer.SetTexturePath(textPath)"
   ]
  },
  {
   "cell_type": "code",
   "execution_count": 4,
   "id": "09429c25-fd1f-4385-8166-4041c3f5e310",
   "metadata": {},
   "outputs": [],
   "source": [
    "colors = vtkNamedColors()"
   ]
  },
  {
   "cell_type": "code",
   "execution_count": 5,
   "id": "ccf049dd-9dab-4084-afe0-ea04481f4012",
   "metadata": {},
   "outputs": [
    {
     "name": "stdout",
     "output_type": "stream",
     "text": [
      "There are 4 actors.\n"
     ]
    }
   ],
   "source": [
    "renderer = vtkRenderer()\n",
    "renWin = vtkRenderWindow()\n",
    "iren = vtkRenderWindowInteractor()\n",
    "\n",
    "renWin.AddRenderer(renderer)\n",
    "\n",
    "iren.SetRenderWindow(renWin)\n",
    "importer.SetRenderWindow(renWin)\n",
    "importer.Update()\n",
    "\n",
    "# actors = vtkActorCollection()\n",
    "actors = renderer.GetActors()\n",
    "print('There are', actors.GetNumberOfItems(), 'actors.')\n",
    "\n",
    "renWin.SetWindowName('OBJImporter')\n",
    "renWin.Render()\n",
    "camera = vtkCamera()\n",
    "camera.SetPosition(0, -1, 0)\n",
    "camera.SetFocalPoint(0, 0, 0)\n",
    "camera.SetViewUp(0, 0, 1)\n",
    "camera.Azimuth(150)\n",
    "camera.Elevation(30)\n",
    "\n",
    "renderer.SetActiveCamera(camera)\n",
    "renderer.ResetCamera()\n",
    "renderer.ResetCameraClippingRange()\n",
    "\n",
    "renWin.Render()\n",
    "iren.Start()"
   ]
  },
  {
   "cell_type": "code",
   "execution_count": 6,
   "id": "6d424af9-bd73-43a4-90fa-da09b5355673",
   "metadata": {},
   "outputs": [],
   "source": [
    "del importer, renWin, iren"
   ]
  },
  {
   "cell_type": "code",
   "execution_count": null,
   "id": "b4add76a-30ba-4925-810e-0b25384abf36",
   "metadata": {},
   "outputs": [],
   "source": []
  },
  {
   "cell_type": "code",
   "execution_count": null,
   "id": "afb71eba-3e84-4191-bba8-fd2bc67267d1",
   "metadata": {},
   "outputs": [],
   "source": []
  }
 ],
 "metadata": {
  "kernelspec": {
   "display_name": "Python [conda env:jra]",
   "language": "python",
   "name": "conda-env-jra-py"
  },
  "language_info": {
   "codemirror_mode": {
    "name": "ipython",
    "version": 3
   },
   "file_extension": ".py",
   "mimetype": "text/x-python",
   "name": "python",
   "nbconvert_exporter": "python",
   "pygments_lexer": "ipython3",
   "version": "3.10.6"
  }
 },
 "nbformat": 4,
 "nbformat_minor": 5
}
