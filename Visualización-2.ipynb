{
 "cells": [
  {
   "cell_type": "code",
   "execution_count": 1,
   "id": "359c02aa-e00d-4584-8081-a79f875fd553",
   "metadata": {},
   "outputs": [],
   "source": [
    "# Necesario para interactuar y renderizar con ventana\n",
    "import vtkmodules.vtkInteractionStyle # Si no se pone, no funciona interacción\n",
    "import vtkmodules.vtkRenderingOpenGL2 # Si no se pone, no abre ventana\n",
    "\n",
    "\n",
    "from vtkmodules.vtkCommonColor import vtkNamedColors\n",
    "\n",
    "from vtkmodules.vtkFiltersSources import vtkConeSource\n",
    "\n",
    "from vtkmodules.vtkRenderingCore import (\n",
    "    vtkActor,\n",
    "    vtkLight,\n",
    "    vtkCamera,\n",
    "    vtkPolyDataMapper,\n",
    "    vtkRenderWindow,\n",
    "    vtkRenderWindowInteractor,\n",
    "    vtkRenderer\n",
    ")"
   ]
  },
  {
   "cell_type": "code",
   "execution_count": 2,
   "id": "05cb9eea-e563-4570-9b03-6efe113cbbc3",
   "metadata": {},
   "outputs": [],
   "source": [
    "colors = vtkNamedColors()"
   ]
  },
  {
   "cell_type": "code",
   "execution_count": 3,
   "id": "88d64dee-f8e3-4998-8497-47e793344ac3",
   "metadata": {},
   "outputs": [],
   "source": [
    "coneSource = vtkConeSource()\n",
    "\n",
    "mapper = vtkPolyDataMapper()\n",
    "mapper.SetInputConnection(coneSource.GetOutputPort())\n",
    "\n",
    "coneActor = vtkActor()\n",
    "coneActor.SetMapper(mapper)"
   ]
  },
  {
   "cell_type": "markdown",
   "id": "15e32f22-be26-4c77-86ce-619f049e0112",
   "metadata": {},
   "source": [
    "## Visualización"
   ]
  },
  {
   "cell_type": "code",
   "execution_count": 4,
   "id": "c2dc7c46-7a3a-4cd8-a120-710616b0cd2c",
   "metadata": {},
   "outputs": [],
   "source": [
    "xGridDimensions = 3\n",
    "yGridDimensions = 1\n",
    "\n",
    "renderList = [vtkRenderer() for i in range(xGridDimensions*yGridDimensions)]\n",
    "cameraList = [vtkCamera() for i in range(xGridDimensions*yGridDimensions)]\n",
    "lightList = [vtkLight() for i in range(xGridDimensions*yGridDimensions)]"
   ]
  },
  {
   "cell_type": "markdown",
   "id": "7c8dec20-2639-45c2-ba57-b27e9f4b5955",
   "metadata": {},
   "source": [
    "### Cámaras"
   ]
  },
  {
   "cell_type": "code",
   "execution_count": 5,
   "id": "460bd4af-87b9-487d-aa18-f70cb8a9298f",
   "metadata": {},
   "outputs": [],
   "source": [
    "pos = [[-3, 0, 3], [0, 0, 3], [3, 0, 3]]\n",
    "\n",
    "for i in range(xGridDimensions*yGridDimensions):\n",
    "    cameraList[i].SetClippingRange(0.1, 10)\n",
    "    cameraList[i].SetFocalPoint(0,0,0)\n",
    "    cameraList[i].SetPosition(*pos[i])\n",
    "    cameraList[i].ComputeViewPlaneNormal()\n",
    "    cameraList[i].SetViewUp(0,1,0)"
   ]
  },
  {
   "cell_type": "markdown",
   "id": "a4a68e8b-1613-4177-8d13-56369487cfe8",
   "metadata": {},
   "source": [
    "### Luces\n",
    "\n",
    "Vamos a situar las luces sobre las cámaras"
   ]
  },
  {
   "cell_type": "code",
   "execution_count": 6,
   "id": "86a64835-2cb7-498b-a84e-475e595b323f",
   "metadata": {},
   "outputs": [],
   "source": [
    "for i in range(xGridDimensions*yGridDimensions):\n",
    "    lightList[i].SetColor(colors.GetColor3d('White'))\n",
    "    lightList[i].SetFocalPoint(cameraList[i].GetFocalPoint())\n",
    "    lightList[i].SetPosition(cameraList[i].GetPosition())"
   ]
  },
  {
   "cell_type": "markdown",
   "id": "32616fa8-6210-4ae0-a1f9-831434262f94",
   "metadata": {},
   "source": [
    "### Renderers"
   ]
  },
  {
   "cell_type": "code",
   "execution_count": 7,
   "id": "c53a8f8d-af11-4683-9e17-09066e4f73b5",
   "metadata": {},
   "outputs": [],
   "source": [
    "viewport = [[0, 0, 0, 0] for i in range(xGridDimensions*yGridDimensions)]\n",
    "\n",
    "for row in range(0, yGridDimensions):\n",
    "    for col in range(0, xGridDimensions):\n",
    "        # (xmin, ymin, xmax, ymax)\n",
    "        index = row * xGridDimensions + col\n",
    "        viewport[index][0] = col / xGridDimensions\n",
    "        viewport[index][1] = (yGridDimensions - (row + 1)) / yGridDimensions\n",
    "        viewport[index][2] = (col + 1) / xGridDimensions\n",
    "        viewport[index][3] = (yGridDimensions - row) / yGridDimensions\n",
    "\n",
    "for i in range(xGridDimensions*yGridDimensions):\n",
    "    renderList[i].SetViewport(viewport[i])\n",
    "    renderList[i].AddActor(coneActor)\n",
    "    renderList[i].AddLight(lightList[i])\n",
    "    renderList[i].SetActiveCamera(cameraList[i])"
   ]
  },
  {
   "cell_type": "markdown",
   "id": "41cdf653-2cb4-41ea-8c07-39f55be8119c",
   "metadata": {},
   "source": [
    "### Ventana de renderizado (no interactiva)"
   ]
  },
  {
   "cell_type": "code",
   "execution_count": 8,
   "id": "13f0f285-1139-411a-a259-a91312cf0006",
   "metadata": {},
   "outputs": [],
   "source": [
    "rendererSize = 256\n",
    "renderWindow = vtkRenderWindow()\n",
    "\n",
    "renderWindow.SetSize(rendererSize * xGridDimensions, rendererSize * yGridDimensions)\n",
    "renderWindow.SetWindowName('Luces fijas con Cámaras')\n",
    "\n",
    "for i in range(xGridDimensions*yGridDimensions):\n",
    "    renderWindow.AddRenderer(renderList[i])\n",
    "    \n",
    "renderWindow.Render()"
   ]
  },
  {
   "cell_type": "code",
   "execution_count": 9,
   "id": "3d7ff747-9e32-4689-a448-13b719d0556d",
   "metadata": {},
   "outputs": [],
   "source": [
    "del renderWindow"
   ]
  },
  {
   "cell_type": "markdown",
   "id": "90ae44d8-e2b5-4c0f-aec8-eeceaea7610c",
   "metadata": {},
   "source": [
    "Ahora vamos a hacer la cámara del segundo render fija para los otros dos"
   ]
  },
  {
   "cell_type": "code",
   "execution_count": 12,
   "id": "10816b4b-580b-4439-811a-d41aca03bcae",
   "metadata": {},
   "outputs": [],
   "source": [
    "lightList[0].SetPosition(lightList[1].GetPosition())\n",
    "lightList[2].SetPosition(lightList[1].GetPosition())\n",
    "\n",
    "rendererSize = 256\n",
    "renderWindow2 = vtkRenderWindow()\n",
    "\n",
    "renderWindow2.SetSize(rendererSize * xGridDimensions, rendererSize * yGridDimensions)\n",
    "renderWindow2.SetWindowName('Luz fija con segunda cámara')\n",
    "\n",
    "for i in range(xGridDimensions*yGridDimensions):\n",
    "    renderWindow2.AddRenderer(renderList[i])\n",
    "    \n",
    "\n",
    "renderWindow2.Render()"
   ]
  },
  {
   "cell_type": "code",
   "execution_count": 13,
   "id": "e052d139-bd0c-4627-877a-96054bc3fdc9",
   "metadata": {},
   "outputs": [],
   "source": [
    "del renderWindow2"
   ]
  },
  {
   "cell_type": "code",
   "execution_count": null,
   "id": "a61f5521-ab38-4c62-9a98-32c51cb371ca",
   "metadata": {},
   "outputs": [],
   "source": []
  }
 ],
 "metadata": {
  "kernelspec": {
   "display_name": "Python [conda env:jra]",
   "language": "python",
   "name": "conda-env-jra-py"
  },
  "language_info": {
   "codemirror_mode": {
    "name": "ipython",
    "version": 3
   },
   "file_extension": ".py",
   "mimetype": "text/x-python",
   "name": "python",
   "nbconvert_exporter": "python",
   "pygments_lexer": "ipython3",
   "version": "3.10.6"
  }
 },
 "nbformat": 4,
 "nbformat_minor": 5
}
