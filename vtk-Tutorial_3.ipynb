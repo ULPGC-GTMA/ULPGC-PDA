{
 "cells": [
  {
   "cell_type": "code",
   "execution_count": 1,
   "id": "7d037abd-6be2-4ae4-9af5-781eeafaa4f5",
   "metadata": {},
   "outputs": [],
   "source": [
    "import time\n",
    "\n",
    "import vtk\n",
    "\n",
    "#import vtk.vtkInteractionStyle, vtk.vtkRenderingOpenGL2\n",
    "\n",
    "from vtk.vtkCommonColor import vtkNamedColors\n",
    "from vtk.vtkFiltersSources import vtkConeSource\n",
    "\n",
    "from vtk.vtkRenderingCore import (\n",
    "    vtkActor,\n",
    "    vtkPolyDataMapper,\n",
    "    vtkRenderWindow,\n",
    "    vtkRenderer\n",
    ")"
   ]
  },
  {
   "cell_type": "code",
   "execution_count": 2,
   "id": "c01b9826-4ddd-4285-9ca6-a117e9cf59eb",
   "metadata": {},
   "outputs": [],
   "source": [
    "colors = vtkNamedColors()"
   ]
  },
  {
   "cell_type": "code",
   "execution_count": 3,
   "id": "d9ab1a5d-9272-49aa-b947-475ed1c51cb2",
   "metadata": {},
   "outputs": [],
   "source": [
    "cone = vtkConeSource()\n",
    "cone.SetHeight(3.0)\n",
    "cone.SetRadius(1.0)\n",
    "cone.SetResolution(10)"
   ]
  },
  {
   "cell_type": "code",
   "execution_count": 4,
   "id": "be62dd3a-66ad-4eb3-96a6-b0de3a434607",
   "metadata": {},
   "outputs": [],
   "source": [
    "coneMapper = vtkPolyDataMapper()\n",
    "coneMapper.SetInputConnection(cone.GetOutputPort())"
   ]
  },
  {
   "cell_type": "code",
   "execution_count": 5,
   "id": "f48291d3-782a-408d-bd7e-c7a58bee741b",
   "metadata": {},
   "outputs": [],
   "source": [
    "coneActor = vtkActor()\n",
    "coneActor.SetMapper(coneMapper)\n",
    "coneActor.GetProperty().SetColor(colors.GetColor3d('MistyRose'))"
   ]
  },
  {
   "cell_type": "code",
   "execution_count": 6,
   "id": "a2c67463-62ff-4367-812c-0c288c1173e7",
   "metadata": {},
   "outputs": [],
   "source": [
    "ren1 = vtkRenderer()\n",
    "ren1.AddActor(coneActor)\n",
    "ren1.SetBackground(colors.GetColor3d('MidnightBlue'))\n",
    "\n",
    "ren1.SetViewport(0.0, 0.0, 0.5, 1.0)"
   ]
  },
  {
   "cell_type": "code",
   "execution_count": 7,
   "id": "faa111df-d9fe-4984-9604-40299242d7e4",
   "metadata": {},
   "outputs": [],
   "source": [
    "ren2 = vtkRenderer()\n",
    "ren2.AddActor(coneActor)\n",
    "ren2.SetBackground(colors.GetColor3d('DodgerBlue'))\n",
    "ren2.SetViewport(0.5, 0.0, 1.0, 1.0)\n",
    "\n",
    "ren2.SetViewport(0.5, 0.0, 1.0, 1.0)"
   ]
  },
  {
   "cell_type": "code",
   "execution_count": 8,
   "id": "fda1fe36-42fd-467c-944c-dba83c312a8a",
   "metadata": {},
   "outputs": [],
   "source": [
    "renWin = vtkRenderWindow()\n",
    "renWin.AddRenderer(ren1)\n",
    "renWin.AddRenderer(ren2)\n",
    "renWin.SetSize(300, 300)\n",
    "renWin.SetWindowName('Vtk-Tutorial_3')"
   ]
  },
  {
   "cell_type": "code",
   "execution_count": 9,
   "id": "6e1aa0bf-995c-4260-a160-8d5e0a292e06",
   "metadata": {},
   "outputs": [],
   "source": [
    "for i in range(0, 360):\n",
    "    # Renderizar la imagen\n",
    "    renWin.Render()\n",
    "    # Rotar la cámara activa 1º\n",
    "    ren1.GetActiveCamera().Azimuth(1)\n",
    "    ren2.GetActiveCamera().Azimuth(1)\n",
    "    time.sleep(0.01)"
   ]
  },
  {
   "cell_type": "code",
   "execution_count": 10,
   "id": "df6399f2-cbfb-420d-ab9c-e96dd29b7187",
   "metadata": {},
   "outputs": [],
   "source": [
    "del renWin"
   ]
  },
  {
   "cell_type": "code",
   "execution_count": null,
   "id": "f7ee416b-6af7-4153-81fa-e22c1cd7dbc9",
   "metadata": {},
   "outputs": [],
   "source": []
  }
 ],
 "metadata": {
  "kernelspec": {
   "display_name": "Python [conda env:jra] *",
   "language": "python",
   "name": "conda-env-jra-py"
  },
  "language_info": {
   "codemirror_mode": {
    "name": "ipython",
    "version": 3
   },
   "file_extension": ".py",
   "mimetype": "text/x-python",
   "name": "python",
   "nbconvert_exporter": "python",
   "pygments_lexer": "ipython3",
   "version": "3.10.6"
  }
 },
 "nbformat": 4,
 "nbformat_minor": 5
}
