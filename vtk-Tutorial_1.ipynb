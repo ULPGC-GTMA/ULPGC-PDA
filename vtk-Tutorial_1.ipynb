{
 "cells": [
  {
   "cell_type": "code",
   "execution_count": 1,
   "id": "7d037abd-6be2-4ae4-9af5-781eeafaa4f5",
   "metadata": {},
   "outputs": [],
   "source": [
    "import time\n",
    "\n",
    "import vtk\n",
    "\n",
    "#import vtk.vtkInteractionStyle, vtk.vtkRenderingOpenGL2\n",
    "\n",
    "from vtk.vtkCommonColor import vtkNamedColors\n",
    "from vtk.vtkFiltersSources import vtkConeSource\n",
    "from vtk.vtkRenderingAnnotation import vtkAxesActor\n",
    "\n",
    "from vtk.vtkRenderingCore import (\n",
    "    vtkActor,\n",
    "    vtkPolyDataMapper,\n",
    "    vtkRenderWindow,\n",
    "    vtkRenderer\n",
    ")"
   ]
  },
  {
   "cell_type": "code",
   "execution_count": 2,
   "id": "c01b9826-4ddd-4285-9ca6-a117e9cf59eb",
   "metadata": {},
   "outputs": [],
   "source": [
    "colors = vtkNamedColors()"
   ]
  },
  {
   "cell_type": "code",
   "execution_count": 3,
   "id": "3d267bd0-d1d1-4851-bd06-c2dcdb98d82e",
   "metadata": {},
   "outputs": [],
   "source": [
    "cone = vtkConeSource()\n",
    "cone.SetHeight(3.0)\n",
    "cone.SetRadius(1.0)\n",
    "cone.SetResolution(10)"
   ]
  },
  {
   "cell_type": "code",
   "execution_count": 4,
   "id": "4856d2f5-1d31-4011-8762-192e1d0dd784",
   "metadata": {},
   "outputs": [
    {
     "name": "stdout",
     "output_type": "stream",
     "text": [
      "vtkConeSource (000001CF5DEA17A0)\n",
      "  Debug: Off\n",
      "  Modified Time: 98\n",
      "  Reference Count: 2\n",
      "  Registered Events: (none)\n",
      "  Executive: 000001CF5C9918D0\n",
      "  ErrorCode: No error\n",
      "  Information: 000001CF5E1BDB90\n",
      "  AbortExecute: Off\n",
      "  Progress: 0\n",
      "  Progress Text: (None)\n",
      "  Resolution: 10\n",
      "  Height: 3\n",
      "  Radius: 1\n",
      "  Capping: On\n",
      "  Center: (0, 0, 0)\n",
      "  Direction: (1, 0, 0)\n",
      "  Output Points Precision: 0\n",
      "\n",
      "\n",
      "Clase:  <class 'vtkmodules.vtkCommonDataModel.vtkPolyData'> \n",
      "\n",
      "vtkPolyData (000001CF5C7B2190)\n",
      "  Debug: Off\n",
      "  Modified Time: 205\n",
      "  Reference Count: 2\n",
      "  Registered Events: (none)\n",
      "  Information: 000001CF5E1BDCE0\n",
      "  Data Released: False\n",
      "  Global Release Data: Off\n",
      "  UpdateTime: 206\n",
      "  Field Data:\n",
      "    Debug: Off\n",
      "    Modified Time: 177\n",
      "    Reference Count: 1\n",
      "    Registered Events: (none)\n",
      "    Number Of Arrays: 0\n",
      "    Number Of Components: 0\n",
      "    Number Of Tuples: 0\n",
      "  Number Of Points: 11\n",
      "  Number Of Cells: 11\n",
      "  Cell Data:\n",
      "    Debug: Off\n",
      "    Modified Time: 185\n",
      "    Reference Count: 1\n",
      "    Registered Events: \n",
      "      Registered Observers:\n",
      "        vtkObserver (000001CF5E10CA90)\n",
      "          Event: 33\n",
      "          EventName: ModifiedEvent\n",
      "          Command: 000001CF5E28C430\n",
      "          Priority: 0\n",
      "          Tag: 1\n",
      "    Number Of Arrays: 0\n",
      "    Number Of Components: 0\n",
      "    Number Of Tuples: 0\n",
      "    Copy Tuple Flags: ( 1 1 1 1 1 0 1 1 1 1 1 )\n",
      "    Interpolate Flags: ( 1 1 1 1 1 0 0 1 1 1 1 )\n",
      "    Pass Through Flags: ( 1 1 1 1 1 1 1 1 1 1 1 )\n",
      "    Scalars: (none)\n",
      "    Vectors: (none)\n",
      "    Normals: (none)\n",
      "    TCoords: (none)\n",
      "    Tensors: (none)\n",
      "    GlobalIds: (none)\n",
      "    PedigreeIds: (none)\n",
      "    EdgeFlag: (none)\n",
      "    Tangents: (none)\n",
      "    RationalWeights: (none)\n",
      "    HigherOrderDegrees: (none)\n",
      "  Point Data:\n",
      "    Debug: Off\n",
      "    Modified Time: 187\n",
      "    Reference Count: 1\n",
      "    Registered Events: \n",
      "      Registered Observers:\n",
      "        vtkObserver (000001CF5E10CA30)\n",
      "          Event: 33\n",
      "          EventName: ModifiedEvent\n",
      "          Command: 000001CF5E28C430\n",
      "          Priority: 0\n",
      "          Tag: 1\n",
      "    Number Of Arrays: 0\n",
      "    Number Of Components: 0\n",
      "    Number Of Tuples: 0\n",
      "    Copy Tuple Flags: ( 1 1 1 1 1 0 1 1 1 1 1 )\n",
      "    Interpolate Flags: ( 1 1 1 1 1 0 0 1 1 1 1 )\n",
      "    Pass Through Flags: ( 1 1 1 1 1 1 1 1 1 1 1 )\n",
      "    Scalars: (none)\n",
      "    Vectors: (none)\n",
      "    Normals: (none)\n",
      "    TCoords: (none)\n",
      "    Tensors: (none)\n",
      "    GlobalIds: (none)\n",
      "    PedigreeIds: (none)\n",
      "    EdgeFlag: (none)\n",
      "    Tangents: (none)\n",
      "    RationalWeights: (none)\n",
      "    HigherOrderDegrees: (none)\n",
      "  Bounds: \n",
      "    Xmin,Xmax: (-1.5, 1.5)\n",
      "    Ymin,Ymax: (-1, 1)\n",
      "    Zmin,Zmax: (-0.951057, 0.951057)\n",
      "  Compute Time: 218\n",
      "  Editable: false\n",
      "  Number Of Points: 11\n",
      "  Point Coordinates: 000001CF5DFEF260\n",
      "  PointLocator: 0000000000000000\n",
      "  CellLocator: 0000000000000000\n",
      "  Number Of Vertices: 0\n",
      "  Number Of Lines: 0\n",
      "  Number Of Polygons: 11\n",
      "  Number Of Triangle Strips: 0\n",
      "  Number Of Pieces: 1\n",
      "  Piece: 0\n",
      "  Ghost Level: 0\n",
      "  CellsBounds: \n",
      "    Xmin,Xmax: (-1.5, 1.5)\n",
      "    Ymin,Ymax: (-1, 1)\n",
      "    Zmin,Zmax: (-0.951057, 0.951057)\n",
      "  CellsBounds Time: 219\n",
      "\n",
      "\n"
     ]
    }
   ],
   "source": [
    "# Vamos a visualizar los atributos de la fuente\n",
    "\n",
    "print(cone)\n",
    "\n",
    "# Y también su salida\n",
    "# que será un vtkPolyData\n",
    "\n",
    "# Necesario para que se ejecute antes de pedirle el resultado \n",
    "# con un mapper\n",
    "cone.Update()\n",
    "\n",
    "\n",
    "cone_pd = cone.GetOutput()\n",
    "print('Clase: ', type(cone_pd), '\\n')\n",
    "print(cone_pd)"
   ]
  },
  {
   "cell_type": "code",
   "execution_count": 5,
   "id": "7d1a6349-538c-4689-a2fb-deda633932f0",
   "metadata": {},
   "outputs": [
    {
     "data": {
      "text/plain": [
       "(1.5, 0.0, 0.0)"
      ]
     },
     "execution_count": 5,
     "metadata": {},
     "output_type": "execute_result"
    }
   ],
   "source": [
    "# Podemos obtener los puntos \n",
    "cone_pd.GetPoints().GetPoint(0)"
   ]
  },
  {
   "cell_type": "code",
   "execution_count": 6,
   "id": "be62dd3a-66ad-4eb3-96a6-b0de3a434607",
   "metadata": {},
   "outputs": [],
   "source": [
    "coneMapper = vtkPolyDataMapper()\n",
    "coneMapper.SetInputConnection(cone.GetOutputPort())"
   ]
  },
  {
   "cell_type": "code",
   "execution_count": 7,
   "id": "f48291d3-782a-408d-bd7e-c7a58bee741b",
   "metadata": {},
   "outputs": [],
   "source": [
    "coneActor = vtkActor()\n",
    "coneActor.SetMapper(coneMapper)\n",
    "coneActor.GetProperty().SetColor(colors.GetColor3d('MistyRose'))\n",
    "coneActor.GetProperty().SetOpacity(0.5)"
   ]
  },
  {
   "cell_type": "code",
   "execution_count": 8,
   "id": "8d7b6e63-f5b6-41ff-a1fa-712b7db19527",
   "metadata": {},
   "outputs": [],
   "source": [
    "axes = vtkAxesActor()\n",
    "axes.SetTotalLength((2,1,1))"
   ]
  },
  {
   "cell_type": "code",
   "execution_count": 9,
   "id": "a2c67463-62ff-4367-812c-0c288c1173e7",
   "metadata": {},
   "outputs": [],
   "source": [
    "ren1 = vtkRenderer()\n",
    "ren1.AddActor(coneActor)\n",
    "ren1.AddActor(axes)\n",
    "ren1.SetBackground(colors.GetColor3d('MidnightBlue'))"
   ]
  },
  {
   "cell_type": "code",
   "execution_count": 10,
   "id": "fda1fe36-42fd-467c-944c-dba83c312a8a",
   "metadata": {},
   "outputs": [],
   "source": [
    "renWin = vtkRenderWindow()\n",
    "renWin.AddRenderer(ren1)\n",
    "renWin.SetSize(300, 300)\n",
    "renWin.SetWindowName('vtk-Tutorial_1')"
   ]
  },
  {
   "cell_type": "code",
   "execution_count": 11,
   "id": "6e1aa0bf-995c-4260-a160-8d5e0a292e06",
   "metadata": {},
   "outputs": [],
   "source": [
    "for i in range(0, 360):\n",
    "    # Renderizar la imagen\n",
    "    renWin.Render()\n",
    "    # Rotar la cámara activa 1º\n",
    "    ren1.GetActiveCamera().Azimuth(1)\n",
    "    time.sleep(0.01)"
   ]
  },
  {
   "cell_type": "code",
   "execution_count": 12,
   "id": "df6399f2-cbfb-420d-ab9c-e96dd29b7187",
   "metadata": {},
   "outputs": [],
   "source": [
    "del renWin"
   ]
  },
  {
   "cell_type": "code",
   "execution_count": null,
   "id": "f81bede4-473d-458f-99a3-354330a54aa2",
   "metadata": {},
   "outputs": [],
   "source": []
  }
 ],
 "metadata": {
  "kernelspec": {
   "display_name": "Python [conda env:jra]",
   "language": "python",
   "name": "conda-env-jra-py"
  },
  "language_info": {
   "codemirror_mode": {
    "name": "ipython",
    "version": 3
   },
   "file_extension": ".py",
   "mimetype": "text/x-python",
   "name": "python",
   "nbconvert_exporter": "python",
   "pygments_lexer": "ipython3",
   "version": "3.10.6"
  }
 },
 "nbformat": 4,
 "nbformat_minor": 5
}
