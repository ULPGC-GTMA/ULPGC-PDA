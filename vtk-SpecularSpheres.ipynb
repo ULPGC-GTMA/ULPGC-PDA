{
 "cells": [
  {
   "cell_type": "code",
   "execution_count": 1,
   "id": "c2067f2e-39d7-40e2-b3c3-9565c075f829",
   "metadata": {},
   "outputs": [],
   "source": [
    "# noinspection PyUnresolvedReferences\n",
    "import vtkmodules.vtkInteractionStyle\n",
    "# noinspection PyUnresolvedReferences\n",
    "import vtkmodules.vtkRenderingOpenGL2\n",
    "from vtkmodules.vtkCommonColor import vtkNamedColors\n",
    "from vtkmodules.vtkFiltersSources import vtkSphereSource\n",
    "from vtkmodules.vtkRenderingCore import (\n",
    "    vtkActor,\n",
    "    vtkLight,\n",
    "    vtkPolyDataMapper,\n",
    "    vtkRenderWindow,\n",
    "    vtkRenderWindowInteractor,\n",
    "    vtkRenderer\n",
    ")"
   ]
  },
  {
   "cell_type": "code",
   "execution_count": 2,
   "id": "1a010d7f-47fe-4657-9c29-094daeb11bee",
   "metadata": {},
   "outputs": [],
   "source": [
    "colors = vtkNamedColors()\n",
    "\n",
    "# Set the background color.\n",
    "colors.SetColor('bkg', [26, 51, 102, 255])"
   ]
  },
  {
   "cell_type": "code",
   "execution_count": 3,
   "id": "2e8ccfa2-18dc-477a-bb35-39840816b45c",
   "metadata": {},
   "outputs": [],
   "source": [
    "# The following lines create a sphere represented by polygons.\n",
    "#\n",
    "sphere = vtkSphereSource()\n",
    "sphere.SetThetaResolution(100)\n",
    "sphere.SetPhiResolution(50)"
   ]
  },
  {
   "cell_type": "code",
   "execution_count": 4,
   "id": "ba7362bd-c638-4469-9469-a1a3f48c1cc1",
   "metadata": {},
   "outputs": [],
   "source": [
    "# The mapper is responsible for pushing the geometry into the graphics\n",
    "# library. It may also do color mapping, if scalars or other attributes\n",
    "# are defined.\n",
    "#\n",
    "sphereMapper = vtkPolyDataMapper()\n",
    "sphereMapper.SetInputConnection(sphere.GetOutputPort())\n"
   ]
  },
  {
   "cell_type": "code",
   "execution_count": 5,
   "id": "3688ed5e-97df-4b9a-861f-e683fc9ad6be",
   "metadata": {},
   "outputs": [],
   "source": [
    "# The actor is a grouping mechanism: besides the geometry (mapper), it\n",
    "# also has a property, transformation matrix, and/or texture map.\n",
    "# In this example we create eight different spheres (two rows of four\n",
    "# spheres) and set the specular lighting coefficients. A little ambient\n",
    "# is turned on so the sphere is not completely black on the back side.\n",
    "#\n",
    "numberOfSpheres = 8\n",
    "spheres = list()\n",
    "ambient = 0.3\n",
    "diffuse = 0.5\n",
    "specular = 1.0\n",
    "spBase = 5.0\n",
    "spScale = 1.0\n",
    "position = [0, 0, 0]\n",
    "for i in range(0, numberOfSpheres):\n",
    "    specularPower = spBase * spScale\n",
    "    spheres.append(vtkActor())\n",
    "    spheres[i].SetMapper(sphereMapper)\n",
    "    spheres[i].GetProperty().SetColor(colors.GetColor3d('Red'))\n",
    "    spheres[i].GetProperty().SetAmbient(ambient)\n",
    "    spheres[i].GetProperty().SetDiffuse(diffuse)\n",
    "    spheres[i].GetProperty().SetSpecular(specular)\n",
    "    spheres[i].GetProperty().SetSpecularPower(specularPower)\n",
    "    spheres[i].GetProperty().SetSpecularColor(colors.GetColor3d('White'))\n",
    "    spheres[i].AddPosition(position)\n",
    "    spScale = spScale * 2.0\n",
    "    position[0] += 1.25\n",
    "    if i == 3:\n",
    "        specular = 0.5\n",
    "        spScale = 1.0\n",
    "        position[0] = 0\n",
    "        position[1] = 1.25"
   ]
  },
  {
   "cell_type": "code",
   "execution_count": 6,
   "id": "db83c84c-f4a4-40f8-8436-d149256fa99f",
   "metadata": {},
   "outputs": [],
   "source": [
    "# Create the graphics structure. The renderer renders into the\n",
    "# render window. The render window interactor captures mouse events\n",
    "# and will perform appropriate camera or actor manipulation\n",
    "# depending on the nature of the events.\n",
    "#\n",
    "ren = vtkRenderer()\n",
    "renWin = vtkRenderWindow()\n",
    "renWin.AddRenderer(ren)\n",
    "iren = vtkRenderWindowInteractor()\n",
    "iren.SetRenderWindow(renWin)"
   ]
  },
  {
   "cell_type": "code",
   "execution_count": 7,
   "id": "f6dfee0e-86ae-44cf-8c93-5829bf3e9b2e",
   "metadata": {},
   "outputs": [],
   "source": [
    "# Add the actors to the renderer, set the background and size.\n",
    "#\n",
    "for i in range(0, numberOfSpheres):\n",
    "    ren.AddActor(spheres[i])\n",
    "\n",
    "ren.SetBackground(colors.GetColor3d('bkg'))\n",
    "renWin.SetSize(640, 480)\n",
    "renWin.SetWindowName('SpecularSpheres')"
   ]
  },
  {
   "cell_type": "code",
   "execution_count": 8,
   "id": "0893d85a-98bd-48ed-bddc-9e760e60dfbd",
   "metadata": {},
   "outputs": [],
   "source": [
    "# Set up the lighting.\n",
    "#\n",
    "light = vtkLight()\n",
    "light.SetFocalPoint(1.875, 0.6125, 0)\n",
    "light.SetPosition(0.875, 1.6125, 1)\n",
    "ren.AddLight(light)"
   ]
  },
  {
   "cell_type": "code",
   "execution_count": 9,
   "id": "5ef8b3d4-928d-4f94-9ac9-befb289c5a1e",
   "metadata": {},
   "outputs": [],
   "source": [
    "    # We want to eliminate perspective effects on the apparent lighting.\n",
    "    # Parallel camera projection will be used. To zoom in parallel projection\n",
    "    # mode, the ParallelScale is set.\n",
    "    #\n",
    "    ren.GetActiveCamera().SetFocalPoint(0, 0, 0)\n",
    "    ren.GetActiveCamera().SetPosition(0, 0, 1)\n",
    "    ren.GetActiveCamera().SetViewUp(0, 1, 0)\n",
    "    ren.GetActiveCamera().ParallelProjectionOn()\n",
    "    ren.ResetCamera()\n",
    "    ren.GetActiveCamera().SetParallelScale(2.0)\n",
    "    # This starts the event loop and invokes an initial render.\n",
    "    #\n",
    "    iren.Initialize()\n",
    "    renWin.Render()\n",
    "    iren.Start()"
   ]
  },
  {
   "cell_type": "code",
   "execution_count": 11,
   "id": "9e939994-8a90-42cb-be80-6f5a3ab495fb",
   "metadata": {},
   "outputs": [],
   "source": [
    "del renWin, iren"
   ]
  },
  {
   "cell_type": "code",
   "execution_count": null,
   "id": "e6bbd1cb-924d-4242-bd26-50519d6dbc7d",
   "metadata": {},
   "outputs": [],
   "source": []
  }
 ],
 "metadata": {
  "kernelspec": {
   "display_name": "Python [conda env:jra] *",
   "language": "python",
   "name": "conda-env-jra-py"
  },
  "language_info": {
   "codemirror_mode": {
    "name": "ipython",
    "version": 3
   },
   "file_extension": ".py",
   "mimetype": "text/x-python",
   "name": "python",
   "nbconvert_exporter": "python",
   "pygments_lexer": "ipython3",
   "version": "3.10.6"
  }
 },
 "nbformat": 4,
 "nbformat_minor": 5
}
