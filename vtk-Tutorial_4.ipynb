{
 "cells": [
  {
   "cell_type": "code",
   "execution_count": 1,
   "id": "7d037abd-6be2-4ae4-9af5-781eeafaa4f5",
   "metadata": {},
   "outputs": [],
   "source": [
    "import time\n",
    "\n",
    "import vtk\n",
    "\n",
    "#import vtk.vtkInteractionStyle, vtk.vtkRenderingOpenGL2\n",
    "\n",
    "from vtk.vtkCommonColor import vtkNamedColors\n",
    "from vtk.vtkFiltersSources import vtkConeSource\n",
    "\n",
    "from vtk.vtkRenderingCore import (\n",
    "    vtkActor,\n",
    "    vtkPolyDataMapper,\n",
    "    vtkProperty,\n",
    "    vtkRenderWindow,\n",
    "    vtkRenderer\n",
    ")"
   ]
  },
  {
   "cell_type": "code",
   "execution_count": 2,
   "id": "c01b9826-4ddd-4285-9ca6-a117e9cf59eb",
   "metadata": {},
   "outputs": [],
   "source": [
    "colors = vtkNamedColors()"
   ]
  },
  {
   "cell_type": "code",
   "execution_count": 3,
   "id": "d9ab1a5d-9272-49aa-b947-475ed1c51cb2",
   "metadata": {},
   "outputs": [],
   "source": [
    "cone = vtkConeSource()\n",
    "cone.SetHeight(3.0)\n",
    "cone.SetRadius(1.0)\n",
    "cone.SetResolution(10)"
   ]
  },
  {
   "cell_type": "code",
   "execution_count": 4,
   "id": "be62dd3a-66ad-4eb3-96a6-b0de3a434607",
   "metadata": {},
   "outputs": [],
   "source": [
    "coneMapper = vtkPolyDataMapper()\n",
    "coneMapper.SetInputConnection(cone.GetOutputPort())"
   ]
  },
  {
   "cell_type": "code",
   "execution_count": 5,
   "id": "f48291d3-782a-408d-bd7e-c7a58bee741b",
   "metadata": {},
   "outputs": [],
   "source": [
    "coneActor = vtkActor()\n",
    "coneActor.SetMapper(coneMapper)\n",
    "#coneActor.GetProperty().SetColor(colors.GetColor3d('MistyRose'))\n",
    "\n",
    "coneActor.GetProperty().SetColor(0.2, 0.63, 0.79)\n",
    "coneActor.GetProperty().SetDiffuse(0.7)\n",
    "coneActor.GetProperty().SetSpecular(0.4)\n",
    "coneActor.GetProperty().SetSpecularPower(20)"
   ]
  },
  {
   "cell_type": "code",
   "execution_count": 6,
   "id": "e220f870-ea58-4e48-b1c9-2ff83ffd3586",
   "metadata": {},
   "outputs": [
    {
     "name": "stdout",
     "output_type": "stream",
     "text": [
      "vtkOpenGLProperty (00000210D57392E0)\n",
      "  Debug: Off\n",
      "  Modified Time: 214\n",
      "  Reference Count: 2\n",
      "  Registered Events: (none)\n",
      "  Ambient: 0\n",
      "  Ambient Color: (0.2, 0.63, 0.79)\n",
      "  Diffuse: 0.7\n",
      "  Diffuse Color: (0.2, 0.63, 0.79)\n",
      "  Edge Color: (0, 0, 0)\n",
      "  Edge Visibility: Off\n",
      "  Vertex Color: (0.5, 1, 0.5)\n",
      "  Vertex Visibility: Off\n",
      "  Interpolation: VTK_GOURAUD\n",
      "  Opacity: 1\n",
      "  Representation: VTK_SURFACE\n",
      "  Specular: 0.4\n",
      "  Specular Color: (0.2, 0.63, 0.79)\n",
      "  Specular Power: 20\n",
      "  Backface Culling: Off\n",
      "  Frontface Culling: Off\n",
      "  Point size: 1\n",
      "  Line width: 1\n",
      "  Line stipple pattern: 65535\n",
      "  Line stipple repeat factor: 1\n",
      "  Lighting: On\n",
      "  RenderPointsAsSpheres: Off\n",
      "  RenderLinesAsTubes: Off\n",
      "  ShowTexturesOnBackface: On\n",
      "  Shading: Off\n",
      "  MaterialName: (none)\n",
      "  Color: (0.2, 0.63, 0.79)\n",
      "  EmissiveFactor: (1, 1, 1)\n",
      "  NormalScale: 1\n",
      "  OcclusionStrength: 1\n",
      "  Metallic: 0\n",
      "  Roughness: 0.5\n",
      "\n",
      "\n"
     ]
    }
   ],
   "source": [
    "print(coneActor.GetProperty())"
   ]
  },
  {
   "cell_type": "code",
   "execution_count": 7,
   "id": "263280db-1e24-4d81-87f0-057a930a8191",
   "metadata": {},
   "outputs": [],
   "source": [
    "property = vtkProperty()\n",
    "property.SetColor(colors.GetColor3d(\"Tomato\"))\n",
    "property.SetDiffuse(0.7)\n",
    "property.SetSpecular(0.4)\n",
    "property.SetSpecularPower(20)"
   ]
  },
  {
   "cell_type": "code",
   "execution_count": 8,
   "id": "2aa71516-97a0-407b-8b32-d968907a9fa2",
   "metadata": {},
   "outputs": [
    {
     "name": "stdout",
     "output_type": "stream",
     "text": [
      "vtkOpenGLProperty (00000210D5739740)\n",
      "  Debug: Off\n",
      "  Modified Time: 221\n",
      "  Reference Count: 1\n",
      "  Registered Events: (none)\n",
      "  Ambient: 0\n",
      "  Ambient Color: (1, 0.388235, 0.278431)\n",
      "  Diffuse: 0.7\n",
      "  Diffuse Color: (1, 0.388235, 0.278431)\n",
      "  Edge Color: (0, 0, 0)\n",
      "  Edge Visibility: Off\n",
      "  Vertex Color: (0.5, 1, 0.5)\n",
      "  Vertex Visibility: Off\n",
      "  Interpolation: VTK_GOURAUD\n",
      "  Opacity: 1\n",
      "  Representation: VTK_SURFACE\n",
      "  Specular: 0.4\n",
      "  Specular Color: (1, 0.388235, 0.278431)\n",
      "  Specular Power: 20\n",
      "  Backface Culling: Off\n",
      "  Frontface Culling: Off\n",
      "  Point size: 1\n",
      "  Line width: 1\n",
      "  Line stipple pattern: 65535\n",
      "  Line stipple repeat factor: 1\n",
      "  Lighting: On\n",
      "  RenderPointsAsSpheres: Off\n",
      "  RenderLinesAsTubes: Off\n",
      "  ShowTexturesOnBackface: On\n",
      "  Shading: Off\n",
      "  MaterialName: (none)\n",
      "  Color: (1, 0.388235, 0.278431)\n",
      "  EmissiveFactor: (1, 1, 1)\n",
      "  NormalScale: 1\n",
      "  OcclusionStrength: 1\n",
      "  Metallic: 0\n",
      "  Roughness: 0.5\n",
      "\n",
      "\n"
     ]
    }
   ],
   "source": [
    "print(property)"
   ]
  },
  {
   "cell_type": "code",
   "execution_count": 9,
   "id": "b07b2940-4ab0-4b9a-a7b2-521dbcb1a325",
   "metadata": {},
   "outputs": [],
   "source": [
    "coneActor2 = vtkActor()\n",
    "coneActor2.SetMapper(coneMapper)\n",
    "coneActor2.GetProperty().SetColor(colors.GetColor3d(\"LightSeaGreen\"))\n",
    "coneActor2.SetProperty(property)\n",
    "coneActor2.SetPosition(0, 2, 0)"
   ]
  },
  {
   "cell_type": "code",
   "execution_count": 10,
   "id": "a2c67463-62ff-4367-812c-0c288c1173e7",
   "metadata": {},
   "outputs": [],
   "source": [
    "ren1 = vtkRenderer()\n",
    "ren1.AddActor(coneActor)\n",
    "ren1.AddActor(coneActor2)\n",
    "ren1.SetBackground(colors.GetColor3d(\"CornflowerBlue\"))"
   ]
  },
  {
   "cell_type": "code",
   "execution_count": 17,
   "id": "fda1fe36-42fd-467c-944c-dba83c312a8a",
   "metadata": {},
   "outputs": [],
   "source": [
    "renWin = vtkRenderWindow()\n",
    "renWin.AddRenderer(ren1)\n",
    "renWin.SetSize(300, 300)\n",
    "renWin.SetWindowName('Vtk-Tutorial_4')"
   ]
  },
  {
   "cell_type": "code",
   "execution_count": 18,
   "id": "6e1aa0bf-995c-4260-a160-8d5e0a292e06",
   "metadata": {},
   "outputs": [],
   "source": [
    "for i in range(0, 360):\n",
    "    # Renderizar la imagen\n",
    "    renWin.Render()\n",
    "    # Rotar la cámara activa 1º\n",
    "    ren1.GetActiveCamera().Azimuth(1)\n",
    "    time.sleep(0.1)"
   ]
  },
  {
   "cell_type": "code",
   "execution_count": 14,
   "id": "df6399f2-cbfb-420d-ab9c-e96dd29b7187",
   "metadata": {},
   "outputs": [],
   "source": [
    "del renWin"
   ]
  },
  {
   "cell_type": "code",
   "execution_count": null,
   "id": "ebff0ad0-d331-4cec-9a8f-b768a9c6d4ea",
   "metadata": {},
   "outputs": [],
   "source": []
  }
 ],
 "metadata": {
  "kernelspec": {
   "display_name": "Python [conda env:jra]",
   "language": "python",
   "name": "conda-env-jra-py"
  },
  "language_info": {
   "codemirror_mode": {
    "name": "ipython",
    "version": 3
   },
   "file_extension": ".py",
   "mimetype": "text/x-python",
   "name": "python",
   "nbconvert_exporter": "python",
   "pygments_lexer": "ipython3",
   "version": "3.10.6"
  }
 },
 "nbformat": 4,
 "nbformat_minor": 5
}
