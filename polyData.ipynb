{
 "cells": [
  {
   "cell_type": "code",
   "execution_count": 1,
   "id": "236c5934-9cf5-4647-9631-4e11637cc831",
   "metadata": {},
   "outputs": [],
   "source": [
    "import vtk\n",
    "\n",
    "from vtkmodules.vtkCommonColor import vtkNamedColors\n",
    "from vtkmodules.vtkCommonCore import (\n",
    "    vtkPoints,\n",
    "    vtkUnsignedCharArray,\n",
    "    vtkFloatArray,\n",
    "    vtkIdList\n",
    ")\n",
    "from vtkmodules.vtkFiltersSources import (\n",
    "    vtkPointSource,\n",
    "    vtkLineSource,\n",
    "    vtkPlaneSource,\n",
    "    vtkDiskSource,\n",
    "    vtkRegularPolygonSource,\n",
    "    vtkCubeSource\n",
    ")\n",
    "from vtkmodules.vtkCommonDataModel import (\n",
    "    vtkVertex,\n",
    "    vtkPolyVertex,\n",
    "    vtkLine,\n",
    "    vtkPolyLine,\n",
    "    vtkTriangle,\n",
    "    vtkTriangleStrip,\n",
    "    vtkPixel,\n",
    "    vtkQuad,\n",
    "    vtkPolygon,\n",
    "    vtkCellArray,\n",
    "    vtkPolyData\n",
    ")\n",
    "from vtkmodules.vtkRenderingCore import (\n",
    "    vtkProperty,\n",
    "    vtkActor,\n",
    "    vtkPolyDataMapper,\n",
    "    vtkRenderWindow,\n",
    "    vtkRenderWindowInteractor,\n",
    "    vtkRenderer\n",
    ")"
   ]
  },
  {
   "cell_type": "code",
   "execution_count": 2,
   "id": "905bb6aa-e55b-4336-8f61-f001a5e7d71b",
   "metadata": {},
   "outputs": [],
   "source": [
    "def visualize(renderer: vtkRenderer, name = ''):\n",
    "    # create render window\n",
    "    renderWindow = vtkRenderWindow()\n",
    "    renderWindow.SetWindowName(name)\n",
    "    renderWindow.AddRenderer(renderer)\n",
    "    \n",
    "    #create window interaction\n",
    "    renderWindowInteractor = vtkRenderWindowInteractor()\n",
    "    renderWindowInteractor.SetRenderWindow(renderWindow)\n",
    "    \n",
    "    # Show\n",
    "    renderWindow.Render()\n",
    "    renderWindowInteractor.Start()\n",
    "    \n",
    "    del renderWindowInteractor, renderWindow"
   ]
  },
  {
   "cell_type": "code",
   "execution_count": 3,
   "id": "e457e4db-95fa-45bb-9731-6243b8e05444",
   "metadata": {},
   "outputs": [],
   "source": [
    "colors = vtkNamedColors()"
   ]
  },
  {
   "cell_type": "markdown",
   "id": "0303a41f-b51a-4135-bac1-f049d1027410",
   "metadata": {},
   "source": [
    "El conjunto de datos poligonal consta de vértices, polivértices, líneas, polilíneas, polígonos y tiras triangulares. La topología y geometría de los datos poligonales no están estructuradas y las celdas que componen ese conjunto de datos varían en dimensión topológica. El conjunto de datos poligonal forma un puente entre datos, algoritmos y gráficos por computadora de alta velocidad.\n",
    "\n",
    "Las celdas tridimensionales no pueden incluirse en vtkPolyData, salvo que se haga descomponiéndolas en las anteriores a partir de sus caras."
   ]
  },
  {
   "cell_type": "markdown",
   "id": "e5c96d83-0521-40f5-b971-f6fcc8e354c3",
   "metadata": {},
   "source": [
    "# Puntos\n",
    "\n",
    "Las celdas son objetos de clase *vtkVertex* (puntos individuales) o *vtkPolyVertex* (conjuntos de puntos)\n",
    "\n",
    "## Usando la clase vtkVertex (cada celda es un punto)"
   ]
  },
  {
   "cell_type": "code",
   "execution_count": 4,
   "id": "b340d4ad-add6-4f79-b461-c6cdb0b02414",
   "metadata": {},
   "outputs": [],
   "source": [
    "# Create the polydata where we will store all the geometric data\n",
    "pointsPolyData = vtkPolyData()\n",
    "\n",
    "# Create the geometry of the dataset (the point coordinates)\n",
    "p0 = [0.0, 0.0, 0.0]\n",
    "p1 = [1.0, 1.0, 0.0]\n",
    "\n",
    "points = vtkPoints()\n",
    "points.InsertNextPoint(p0)\n",
    "points.InsertNextPoint(p1)\n",
    "\n",
    "# Add the points to the polydata container\n",
    "pointsPolyData.SetPoints(points)"
   ]
  },
  {
   "cell_type": "code",
   "execution_count": 5,
   "id": "71ad7f4b-30ae-4d9c-893b-8c35414abf41",
   "metadata": {},
   "outputs": [],
   "source": [
    "# Create the topology of the dataset (one or more cells with vertexes)\n",
    "# In this example each point forms a cell, and each cell consists of a single point\n",
    "cells = vtkCellArray()\n",
    "\n",
    "# Option 1: create explicitly the cells and add them to the CellArray\n",
    "vertex = vtkVertex()\n",
    "vertex.GetPointIds().SetId(0, 0)\n",
    "cells.InsertNextCell(vertex)\n",
    "vertex = vtkVertex()\n",
    "vertex.GetPointIds().SetId(0, 1)\n",
    "cells.InsertNextCell(vertex)\n",
    "\n",
    "# Option 2: implicitly create the cells by pointing to the points  \n",
    "#vertices.InsertNextCell(1, [0])\n",
    "#vertices.InsertNextCell(1, [1])\n",
    "\n",
    "# Set the vertices we created as the topology of the polydata\n",
    "pointsPolyData.SetVerts(cells)"
   ]
  },
  {
   "cell_type": "code",
   "execution_count": 6,
   "id": "43ca48cb-4383-4124-b1d1-26a4c770abd5",
   "metadata": {},
   "outputs": [
    {
     "name": "stdout",
     "output_type": "stream",
     "text": [
      "Number of points:  2\n",
      "Number of cells:  2\n"
     ]
    }
   ],
   "source": [
    "print('Number of points: ', pointsPolyData.GetNumberOfPoints())\n",
    "print('Number of cells: ', pointsPolyData.GetNumberOfCells())"
   ]
  },
  {
   "cell_type": "code",
   "execution_count": 7,
   "id": "cf882d90-aeba-4531-b227-1df76cb69545",
   "metadata": {},
   "outputs": [],
   "source": [
    "# Create attribute data for points and/or cells\n",
    "# The attribute is stored in a vtk array with so many components as points or cells\n",
    "# In this example, points and cells have the same attribut data in reverse order\n",
    "\n",
    "scalars_p = vtkFloatArray()\n",
    "scalars_p.InsertTuple1(0,0)\n",
    "scalars_p.InsertTuple1(1,1)\n",
    "\n",
    "scalars_c = vtkFloatArray()\n",
    "scalars_c.InsertTuple1(0,1)\n",
    "scalars_c.InsertTuple1(1,0)\n",
    "\n",
    "pointsPolyData.GetPointData().SetScalars(scalars_p);\n",
    "pointsPolyData.GetCellData().SetScalars(scalars_c);"
   ]
  },
  {
   "cell_type": "code",
   "execution_count": 8,
   "id": "f09ca4cc-1559-4dbb-a0e7-bdb518e9a696",
   "metadata": {},
   "outputs": [],
   "source": [
    "mapper = vtkPolyDataMapper()\n",
    "mapper.SetInputData(pointsPolyData)\n",
    "\n",
    "mapper.SetScalarVisibility(1) # controla si se usa el color del actor o el de los datos escalares\n",
    "mapper.SetScalarRange(0,1) # Si no se pone, utiliza el rango completo para el color map (rojo a azul)\n",
    "# Por defecto se usan los datos escalares de los puntos para el color\n",
    "# mapper.SetScalarModeToUseCellData() # usar datos escalares de las celdas para el color"
   ]
  },
  {
   "cell_type": "code",
   "execution_count": 9,
   "id": "31803754-22f2-44ad-a0b2-1660b7713173",
   "metadata": {},
   "outputs": [],
   "source": [
    "actor = vtkActor()\n",
    "actor.SetMapper(mapper)\n",
    "actor.GetProperty().SetColor(colors.GetColor3d('Tomato'))\n",
    "actor.GetProperty().SetPointSize(20)"
   ]
  },
  {
   "cell_type": "code",
   "execution_count": 10,
   "id": "6c62baf9-4515-47fb-88e3-007aeccecaae",
   "metadata": {},
   "outputs": [],
   "source": [
    "renderer = vtkRenderer()\n",
    "renderer.AddActor(actor)\n",
    "renderer.SetBackground(colors.GetColor3d('DarkGreen'))\n",
    "\n",
    "visualize(renderer, 'Point')"
   ]
  },
  {
   "cell_type": "markdown",
   "id": "8d6d445f-eb30-4269-8fd8-7739713cb998",
   "metadata": {},
   "source": [
    "## Usando la clase vtkPolyVertex (cada celda tiene varios puntos, incluso todos)\n",
    "\n",
    "Usamos la misma geometría que en el ejemplo anterior"
   ]
  },
  {
   "cell_type": "code",
   "execution_count": 11,
   "id": "1186a7c9-2ac2-4a4c-b123-5ba3486607b5",
   "metadata": {},
   "outputs": [],
   "source": [
    "# Create the topology of the dataset (one polyvertex)\n",
    "# In this example each cell (polyvertex) consists of several points\n",
    "# We might also have several polyvertex, but we'll use just one\n",
    "cells = vtkCellArray()\n",
    "\n",
    "polyVertex = vtkPolyVertex()\n",
    "polyVertex.GetPointIds().SetNumberOfIds(2)\n",
    "for i in range(0, 2):\n",
    "    polyVertex.GetPointIds().SetId(i, i)\n",
    "\n",
    "cells.InsertNextCell(polyVertex);\n",
    "\n",
    "pointsPolyData.SetVerts(cells)"
   ]
  },
  {
   "cell_type": "code",
   "execution_count": 12,
   "id": "9909ed42-7732-4134-8bdd-c34602562dcc",
   "metadata": {},
   "outputs": [
    {
     "name": "stdout",
     "output_type": "stream",
     "text": [
      "Number of points:  2\n",
      "Number of cells:  1\n"
     ]
    }
   ],
   "source": [
    "print('Number of points: ', pointsPolyData.GetNumberOfPoints())\n",
    "print('Number of cells: ', pointsPolyData.GetNumberOfCells())"
   ]
  },
  {
   "cell_type": "code",
   "execution_count": 13,
   "id": "28c5b915-0dac-41ee-947e-f6531d6bbccf",
   "metadata": {},
   "outputs": [],
   "source": [
    "# Create attribute data for points and/or cells\n",
    "# The attribute is stored in a vtk array with so many components as points or cells\n",
    "# In this example, points and cells have the same attribut data in reverse order\n",
    "\n",
    "scalars_p = vtkFloatArray()\n",
    "scalars_p.InsertTuple1(0,0)\n",
    "scalars_p.InsertTuple1(1,1)\n",
    "\n",
    "scalars_c = vtkFloatArray()\n",
    "scalars_c.InsertTuple1(0,1)\n",
    "\n",
    "pointsPolyData.GetPointData().SetScalars(scalars_p);\n",
    "pointsPolyData.GetCellData().SetScalars(scalars_c);"
   ]
  },
  {
   "cell_type": "code",
   "execution_count": 14,
   "id": "e45b5d01-0f0f-435f-bc35-c7abf7298505",
   "metadata": {},
   "outputs": [],
   "source": [
    "mapper = vtkPolyDataMapper()\n",
    "mapper.SetInputData(pointsPolyData)\n",
    "\n",
    "mapper.SetScalarVisibility(1) # controla si se usa el color del actor o el de los datos escalares\n",
    "mapper.SetScalarRange(0,1) # Si no se pone, utiliza el rango completo para el color map (rojo a azul)\n",
    "# Por defecto se usan los datos escalares de los puntos para el color\n",
    "mapper.SetScalarModeToUseCellData() # usar datos escalares de las celdas para el color"
   ]
  },
  {
   "cell_type": "code",
   "execution_count": 15,
   "id": "c1751f3a-2da4-43f0-ac90-e65d61806b19",
   "metadata": {},
   "outputs": [],
   "source": [
    "actor = vtkActor()\n",
    "actor.SetMapper(mapper)\n",
    "actor.GetProperty().SetColor(colors.GetColor3d('Tomato'))\n",
    "actor.GetProperty().SetPointSize(20)"
   ]
  },
  {
   "cell_type": "code",
   "execution_count": 16,
   "id": "19a47bfb-c009-429a-87c6-85a24469d8bb",
   "metadata": {},
   "outputs": [],
   "source": [
    "renderer = vtkRenderer()\n",
    "renderer.AddActor(actor)\n",
    "renderer.SetBackground(colors.GetColor3d('DarkGreen'))\n",
    "\n",
    "visualize(renderer, 'Point')"
   ]
  },
  {
   "cell_type": "markdown",
   "id": "1434ab83-de03-4526-b2ee-2309979a551b",
   "metadata": {},
   "source": [
    "## Objeto fuente de nube de puntos"
   ]
  },
  {
   "cell_type": "code",
   "execution_count": 17,
   "id": "7605f953-c304-4fe9-ae9f-40a69bfca2b9",
   "metadata": {},
   "outputs": [],
   "source": [
    "# Create a point cloud\n",
    "src = vtkPointSource()\n",
    "src.SetCenter(0, 0, 0)\n",
    "src.SetNumberOfPoints(50)\n",
    "src.SetRadius(5)"
   ]
  },
  {
   "cell_type": "code",
   "execution_count": 18,
   "id": "f00b9c27-dce6-4f80-b5da-0c3e848774de",
   "metadata": {},
   "outputs": [
    {
     "name": "stdout",
     "output_type": "stream",
     "text": [
      "Number of points:  50\n",
      "Number of cells:  1\n"
     ]
    }
   ],
   "source": [
    "# Get PolyData\n",
    "src.Update()\n",
    "pointsPolyData = src.GetOutput()\n",
    "\n",
    "print('Number of points: ', pointsPolyData.GetNumberOfPoints())\n",
    "print('Number of cells: ', pointsPolyData.GetNumberOfCells())"
   ]
  },
  {
   "cell_type": "code",
   "execution_count": 19,
   "id": "bcfa2f65-27e6-4eb9-8f7c-a9030d09b15b",
   "metadata": {},
   "outputs": [],
   "source": [
    "scalars_p = vtkFloatArray()\n",
    "\n",
    "for p in range(0,50):\n",
    "    scalars_p.InsertTuple1(p,p)\n",
    "    \n",
    "pointsPolyData.GetPointData().SetScalars(scalars_p);"
   ]
  },
  {
   "cell_type": "code",
   "execution_count": 20,
   "id": "b19dd6ec-1632-4038-ba98-47c95ff1f67d",
   "metadata": {},
   "outputs": [],
   "source": [
    "# mapper\n",
    "mapper = vtkPolyDataMapper()\n",
    "mapper.SetInputData(pointsPolyData)\n",
    "#mapper.SetInputConnection(src.GetOutputPort()) # si usamos directamente la fuente\n",
    "\n",
    "mapper.SetScalarVisibility(1) # controla si se usa el color del actor o el de los datos escalares\n",
    "mapper.SetScalarRange(0,49)"
   ]
  },
  {
   "cell_type": "code",
   "execution_count": 21,
   "id": "4917e6db-c5c1-4ade-a8cf-7db0cd80ecda",
   "metadata": {},
   "outputs": [],
   "source": [
    "# actor\n",
    "actor = vtkActor()\n",
    "actor.SetMapper(mapper)\n",
    "actor.GetProperty().SetColor(colors.GetColor3d('Tomato'))\n",
    "actor.GetProperty().SetPointSize(4)"
   ]
  },
  {
   "cell_type": "code",
   "execution_count": 22,
   "id": "2acdf809-c630-4879-b94c-303f28e7530e",
   "metadata": {},
   "outputs": [],
   "source": [
    "renderer = vtkRenderer()\n",
    "\n",
    "renderer.AddActor(actor)\n",
    "renderer.SetBackground(colors.GetColor3d('DarkGreen'))\n",
    "\n",
    "visualize(renderer, 'PointSource')"
   ]
  },
  {
   "cell_type": "markdown",
   "id": "6f2aeaf1-053a-4e3a-9cb1-e96f71633b06",
   "metadata": {},
   "source": [
    "# Líneas\n",
    "\n",
    "Las celdas son objetos de clase *vtkLine* (líneass individuales) o *vtkPolyLine* (conjuntos de líneas)\n",
    "\n",
    "## Usando la clase vtkLine (cada celda es una línea)"
   ]
  },
  {
   "cell_type": "code",
   "execution_count": 24,
   "id": "b014c8b7-ceb9-462a-a342-072a459440d6",
   "metadata": {},
   "outputs": [],
   "source": [
    "# Create a polydata to store everything in\n",
    "linesPolyData = vtkPolyData()\n",
    "\n",
    "# Create five points.\n",
    "origin = [0.0, 0.0, 0.0]\n",
    "p0 = [1.0, 0.0, 0.0]\n",
    "p1 = [0.0, 1.0, 0.0]\n",
    "p2 = [0.0, 1.0, 2.0]\n",
    "p3 = [1.0, 2.0, 3.0]\n",
    "\n",
    "# Create a vtkPoints object and store the points in it\n",
    "points = vtkPoints()\n",
    "points.InsertNextPoint(origin)\n",
    "points.InsertNextPoint(p0)\n",
    "points.InsertNextPoint(p1)\n",
    "points.InsertNextPoint(p2)\n",
    "points.InsertNextPoint(p3)\n",
    "\n",
    "# Add the points to the dataset\n",
    "linesPolyData.SetPoints(points)"
   ]
  },
  {
   "cell_type": "code",
   "execution_count": 25,
   "id": "081074b0-af0d-48ae-87a1-437b7d8491ef",
   "metadata": {},
   "outputs": [],
   "source": [
    "# Create a cell array to store the lines in and add the lines to it\n",
    "lines = vtkCellArray()\n",
    "\n",
    "for i in range(0, 4):\n",
    "    line = vtkLine()\n",
    "    line.GetPointIds().SetId(0, i)\n",
    "    line.GetPointIds().SetId(1, i + 1)\n",
    "    lines.InsertNextCell(line)\n",
    "\n",
    "# Add the lines to the dataset\n",
    "linesPolyData.SetLines(lines)"
   ]
  },
  {
   "cell_type": "code",
   "execution_count": 26,
   "id": "e4b1524a-7ac6-4d9f-b100-b9b89bc240e2",
   "metadata": {},
   "outputs": [],
   "source": [
    "scalars_p = vtkFloatArray()\n",
    "\n",
    "for p in range(0,5):\n",
    "    scalars_p.InsertTuple1(p,p)\n",
    "    \n",
    "linesPolyData.GetPointData().SetScalars(scalars_p);\n",
    "\n",
    "\n",
    "scalars_c = vtkFloatArray()\n",
    "\n",
    "for c in range(0,4):\n",
    "    scalars_c.InsertTuple1(c,c)\n",
    "    \n",
    "linesPolyData.GetCellData().SetScalars(scalars_c);"
   ]
  },
  {
   "cell_type": "code",
   "execution_count": 30,
   "id": "7f5ef1cc-41b7-44e5-a133-fda98fb1143e",
   "metadata": {},
   "outputs": [],
   "source": [
    "mapper = vtkPolyDataMapper()\n",
    "mapper.SetInputData(linesPolyData)\n",
    "\n",
    "mapper.SetScalarVisibility(1) # controla si se usa el color del actor o el de los datos escalares\n",
    "mapper.SetScalarRange(0, 4)\n",
    "\n",
    "# Visualizar celdas\n",
    "#mapper.SetScalarModeToUseCellData() # usar datos escalares de las celdas para el color\n",
    "#mapper.SetScalarRange(0,3)"
   ]
  },
  {
   "cell_type": "code",
   "execution_count": 31,
   "id": "75fad903-33d8-42b3-82b3-81f80df678ee",
   "metadata": {},
   "outputs": [],
   "source": [
    "actor = vtkActor()\n",
    "actor.SetMapper(mapper)\n",
    "actor.GetProperty().SetLineWidth(4)\n",
    "actor.GetProperty().SetColor(colors.GetColor3d('Peacock'))"
   ]
  },
  {
   "cell_type": "code",
   "execution_count": 32,
   "id": "0683204f-df28-4fc5-9788-d9f1e75b69dd",
   "metadata": {},
   "outputs": [],
   "source": [
    "renderer = vtkRenderer()\n",
    "renderer.AddActor(actor)\n",
    "\n",
    "renderer.ResetCamera()\n",
    "renderer.GetActiveCamera().Azimuth(30)\n",
    "renderer.GetActiveCamera().Elevation(30)\n",
    "renderer.ResetCameraClippingRange()\n",
    "\n",
    "renderer.SetBackground(colors.GetColor3d('Silver'))\n",
    "\n",
    "visualize(renderer, 'LongLine')"
   ]
  },
  {
   "cell_type": "markdown",
   "id": "af907699-c2f6-43fc-8d5a-717983516212",
   "metadata": {},
   "source": [
    "### Otro ejemplo con varias celdas vtkLine\n",
    "\n",
    "Definimos colores, no escalares que se visualizan con mapas de color, como en los ejemplos anteriores"
   ]
  },
  {
   "cell_type": "code",
   "execution_count": 33,
   "id": "a9ca6459-2bf6-4fbe-9e94-f8e69740b606",
   "metadata": {},
   "outputs": [],
   "source": [
    "# Create the polydata where we will store all the geometric data\n",
    "linesPolyData = vtkPolyData()\n",
    "\n",
    "# Create three points\n",
    "origin = [0.0, 0.0, 0.0]\n",
    "p0 = [1.0, 0.0, 0.0]\n",
    "p1 = [0.0, 1.0, 0.0]\n",
    "\n",
    "# Create a vtkPoints container and store the points in it\n",
    "pts = vtkPoints()\n",
    "pts.InsertNextPoint(origin)\n",
    "pts.InsertNextPoint(p0)\n",
    "pts.InsertNextPoint(p1)\n",
    "\n",
    "# Add the points to the polydata container\n",
    "linesPolyData.SetPoints(pts)"
   ]
  },
  {
   "cell_type": "code",
   "execution_count": 34,
   "id": "cff3d064-d9ae-4286-9736-b0ec0b108b0f",
   "metadata": {},
   "outputs": [],
   "source": [
    "# Create the first line (between Origin and P0)\n",
    "line0 = vtkLine()\n",
    "line0.GetPointIds().SetId(0, 0)  # the second 0 is the index of the Origin in linesPolyData's points\n",
    "line0.GetPointIds().SetId(1, 1)  # the second 1 is the index of P0 in linesPolyData's points\n",
    "\n",
    "# Create the second line (between Origin and P1)\n",
    "line1 = vtkLine()\n",
    "line1.GetPointIds().SetId(0, 0)  # the second 0 is the index of the Origin in linesPolyData's points\n",
    "line1.GetPointIds().SetId(1, 2)  # 2 is the index of P1 in linesPolyData's points\n",
    "\n",
    "# Create a vtkCellArray container and store the lines in it\n",
    "lines = vtkCellArray()\n",
    "lines.InsertNextCell(line0)\n",
    "lines.InsertNextCell(line1)\n",
    "\n",
    "# Add the lines to the polydata container\n",
    "linesPolyData.SetLines(lines)"
   ]
  },
  {
   "cell_type": "code",
   "execution_count": 35,
   "id": "c15e94a7-f51d-433d-9824-e72b1e59f9ae",
   "metadata": {},
   "outputs": [],
   "source": [
    "# Create a vtkUnsignedCharArray container and store the colors in it\n",
    "colorTuples = vtkUnsignedCharArray()\n",
    "colorTuples.SetNumberOfComponents(3)\n",
    "try:\n",
    "    colorTuples.InsertNextTupleValue(colors.GetColor3ub(\"Tomato\"))\n",
    "    colorTuples.InsertNextTupleValue(colors.GetColor3ub(\"Mint\"))\n",
    "except AttributeError:\n",
    "    # For compatibility with new VTK generic data arrays.\n",
    "    colorTuples.InsertNextTypedTuple(colors.GetColor3ub(\"Tomato\"))\n",
    "    colorTuples.InsertNextTypedTuple(colors.GetColor3ub(\"Mint\"))\n",
    "\n",
    "# Color the lines.\n",
    "# SetScalars() automatically associates the values in the data array passed as parameter\n",
    "# to the elements in the same indices of the cell data array on which it is called.\n",
    "# This means the first component (red) of the colors array\n",
    "# is matched with the first component of the cell array (line 0)\n",
    "# and the second component (green) of the colors array\n",
    "# is matched with the second component of the cell array (line 1)\n",
    "    \n",
    "linesPolyData.GetCellData().SetScalars(colorTuples);"
   ]
  },
  {
   "cell_type": "code",
   "execution_count": 36,
   "id": "3e44343d-4b09-4d9d-afa3-9ef17508205f",
   "metadata": {},
   "outputs": [],
   "source": [
    "mapper = vtkPolyDataMapper()\n",
    "mapper.SetInputData(linesPolyData)"
   ]
  },
  {
   "cell_type": "code",
   "execution_count": 37,
   "id": "77fe22b3-cb64-4c12-97fc-88e8a31c9808",
   "metadata": {},
   "outputs": [],
   "source": [
    "actor = vtkActor()\n",
    "actor.SetMapper(mapper)\n",
    "actor.GetProperty().SetLineWidth(4)"
   ]
  },
  {
   "cell_type": "code",
   "execution_count": 38,
   "id": "f4f22145-25d3-43ed-ac63-f7a520d197ed",
   "metadata": {},
   "outputs": [],
   "source": [
    "renderer = vtkRenderer()\n",
    "renderer.AddActor(actor)\n",
    "renderer.SetBackground(colors.GetColor3d(\"SlateGray\"))\n",
    "\n",
    "visualize(renderer, 'ColoredLines')"
   ]
  },
  {
   "cell_type": "markdown",
   "id": "a0974fc5-0282-4425-b531-a81e496ed122",
   "metadata": {},
   "source": [
    "## PolyLine (cada celda tiene varias líneas, incluso todas)"
   ]
  },
  {
   "cell_type": "code",
   "execution_count": 39,
   "id": "a06aff67-9f7d-4b4a-b0cd-20f4c4dc5cf8",
   "metadata": {},
   "outputs": [],
   "source": [
    "# Create a polydata to store everything in\n",
    "polyData = vtkPolyData()\n",
    "\n",
    "# Create five points.\n",
    "origin = [0.0, 0.0, 0.0]\n",
    "p0 = [1.0, 0.0, 0.0]\n",
    "p1 = [0.0, 1.0, 0.0]\n",
    "p2 = [0.0, 1.0, 2.0]\n",
    "p3 = [1.0, 2.0, 3.0]\n",
    "\n",
    "# Create a vtkPoints object and store the points in it\n",
    "points = vtkPoints()\n",
    "points.InsertNextPoint(origin)\n",
    "points.InsertNextPoint(p0)\n",
    "points.InsertNextPoint(p1)\n",
    "points.InsertNextPoint(p2)\n",
    "points.InsertNextPoint(p3)\n",
    "\n",
    "# Add the points to the dataset\n",
    "polyData.SetPoints(points)"
   ]
  },
  {
   "cell_type": "code",
   "execution_count": 45,
   "id": "7f1e3fd7-9bae-4b36-9a13-cee198bb340e",
   "metadata": {},
   "outputs": [],
   "source": [
    "# Create a cell array to store the lines in and add the lines to it\n",
    "cells = vtkCellArray()\n",
    "\n",
    "polyLine = vtkPolyLine()\n",
    "polyLine.GetPointIds().SetNumberOfIds(5)\n",
    "for i in range(0, 5):\n",
    "    polyLine.GetPointIds().SetId(i, i)\n",
    "\n",
    "cells.InsertNextCell(polyLine)\n",
    "\n",
    "# Add the lines to the dataset\n",
    "polyData.SetLines(cells)"
   ]
  },
  {
   "cell_type": "code",
   "execution_count": 47,
   "id": "1cf5cfee-3296-4514-8bf8-c8122509b5d5",
   "metadata": {},
   "outputs": [
    {
     "name": "stdout",
     "output_type": "stream",
     "text": [
      "Number of points:  5\n",
      "Number of cells:  1\n"
     ]
    }
   ],
   "source": [
    "print('Number of points: ', polyData.GetNumberOfPoints())\n",
    "print('Number of cells: ', polyData.GetNumberOfCells())"
   ]
  },
  {
   "cell_type": "code",
   "execution_count": 53,
   "id": "69bf917f-256e-4873-96e7-357b22e4f6cb",
   "metadata": {},
   "outputs": [],
   "source": [
    "scalars_p = vtkFloatArray()\n",
    "\n",
    "for p in range(0,5):\n",
    "    scalars_p.InsertTuple1(p,p)\n",
    "    \n",
    "polyData.GetPointData().SetScalars(scalars_p);\n",
    "\n",
    "\n",
    "scalars_c = vtkFloatArray()\n",
    "\n",
    "scalars_c.InsertTuple1(0,0)\n",
    "    \n",
    "polyData.GetCellData().SetScalars(scalars_c);"
   ]
  },
  {
   "cell_type": "code",
   "execution_count": 54,
   "id": "9ca111e3-21bd-457c-be1a-50b538b8dd89",
   "metadata": {},
   "outputs": [],
   "source": [
    "mapper = vtkPolyDataMapper()\n",
    "mapper.SetInputData(polyData)\n",
    "\n",
    "mapper.SetScalarVisibility(1) # controla si se usa el color del actor o el de los datos escalares\n",
    "mapper.SetScalarRange(0, 4)\n",
    "\n",
    "# Visualizar celdas\n",
    "mapper.SetScalarModeToUseCellData() # usar datos escalares de las celdas para el color"
   ]
  },
  {
   "cell_type": "code",
   "execution_count": 55,
   "id": "be15a519-7a43-4a2a-ab83-d2d940f895a0",
   "metadata": {},
   "outputs": [],
   "source": [
    "actor = vtkActor()\n",
    "actor.SetMapper(mapper)\n",
    "actor.GetProperty().SetColor(colors.GetColor3d('Tomato'))"
   ]
  },
  {
   "cell_type": "code",
   "execution_count": 56,
   "id": "f08bc2d4-6544-4fda-9460-67c0cadd993a",
   "metadata": {},
   "outputs": [],
   "source": [
    "# Setup render window, renderer, and interactor\n",
    "renderer = vtkRenderer()\n",
    "renderer.AddActor(actor)\n",
    "renderer.SetBackground(colors.GetColor3d('DarkOliveGreen'))\n",
    "\n",
    "visualize(renderer, 'PolyLine')"
   ]
  },
  {
   "cell_type": "markdown",
   "id": "b0657342-5a9e-417a-9b57-ac174bcfc435",
   "metadata": {},
   "source": [
    "## Objeto fuente de línea"
   ]
  },
  {
   "cell_type": "code",
   "execution_count": 57,
   "id": "17b318c4-f1ae-4c95-b779-5202ab211d31",
   "metadata": {},
   "outputs": [],
   "source": [
    "lineSource = vtkLineSource()\n",
    "\n",
    "# Create two points, P0 and P1\n",
    "p0 = [1.0, 0.0, 0.0]\n",
    "p1 = [0.0, 1.0, 0.0]\n",
    "\n",
    "lineSource.SetPoint1(p0)\n",
    "lineSource.SetPoint2(p1)"
   ]
  },
  {
   "cell_type": "code",
   "execution_count": 58,
   "id": "f402195d-d00d-4d27-84ef-d143c1f86e0c",
   "metadata": {},
   "outputs": [
    {
     "name": "stdout",
     "output_type": "stream",
     "text": [
      "Number of points:  2\n",
      "Number of cells:  1\n"
     ]
    }
   ],
   "source": [
    "# Get PolyData\n",
    "lineSource.Update()\n",
    "linePolyData = lineSource.GetOutput()\n",
    "\n",
    "print('Number of points: ', linePolyData.GetNumberOfPoints())\n",
    "print('Number of cells: ', linePolyData.GetNumberOfCells())"
   ]
  },
  {
   "cell_type": "code",
   "execution_count": 67,
   "id": "c6a83403-d261-4d6b-8529-9485a7a5711a",
   "metadata": {},
   "outputs": [],
   "source": [
    "scalars_p = vtkFloatArray()\n",
    "\n",
    "scalars_p.InsertTuple1(0,0)\n",
    "scalars_p.InsertTuple1(1,1)\n",
    "\n",
    "linePolyData.GetPointData().SetScalars(scalars_p);\n",
    "\n",
    "\n",
    "scalars_c = vtkFloatArray()\n",
    "scalars_c.InsertTuple1(0,0)\n",
    "    \n",
    "linePolyData.GetCellData().SetScalars(scalars_c);"
   ]
  },
  {
   "cell_type": "code",
   "execution_count": 68,
   "id": "e9e540b6-b013-45b5-9adc-fe53892d7734",
   "metadata": {},
   "outputs": [],
   "source": [
    "mapper = vtkPolyDataMapper()\n",
    "mapper.SetInputConnection(lineSource.GetOutputPort())\n",
    "\n",
    "mapper.SetScalarVisibility(1) # controla si se usa el color del actor o el de los datos escalares\n",
    "mapper.SetScalarRange(0, 1)\n",
    "\n",
    "# Visualizar celdas\n",
    "#mapper.SetScalarModeToUseCellData() # usar datos escalares de las celdas para el color"
   ]
  },
  {
   "cell_type": "code",
   "execution_count": 69,
   "id": "327a05d9-6313-4e48-8d35-ea519eb50f79",
   "metadata": {},
   "outputs": [],
   "source": [
    "actor = vtkActor()\n",
    "actor.SetMapper(mapper)\n",
    "actor.GetProperty().SetLineWidth(4)\n",
    "actor.GetProperty().SetColor(colors.GetColor3d(\"Peacock\"))"
   ]
  },
  {
   "cell_type": "code",
   "execution_count": 71,
   "id": "1d0a1eeb-8658-4423-a766-24aea4affbc3",
   "metadata": {},
   "outputs": [],
   "source": [
    "renderer = vtkRenderer()\n",
    "\n",
    "renderer.SetBackground(colors.GetColor3d(\"Silver\"))\n",
    "renderer.AddActor(actor)\n",
    "\n",
    "visualize(renderer, 'Line')"
   ]
  },
  {
   "cell_type": "markdown",
   "id": "84198e2f-c0a5-46f8-8234-dcd3f8043a8f",
   "metadata": {},
   "source": [
    "# Triángulo"
   ]
  },
  {
   "cell_type": "code",
   "execution_count": 72,
   "id": "0ecf18ef-cbcf-435e-a691-56e27d3f9e9e",
   "metadata": {},
   "outputs": [],
   "source": [
    "# Create a polydata object\n",
    "trianglePolyData = vtkPolyData()\n",
    "\n",
    "# Create a triangle\n",
    "points = vtkPoints()\n",
    "points.InsertNextPoint(1.0, 0.0, 0.0)\n",
    "points.InsertNextPoint(0.0, 0.0, 0.0)\n",
    "points.InsertNextPoint(0.0, 1.0, 0.0)\n",
    "\n",
    "trianglePolyData.SetPoints(points)"
   ]
  },
  {
   "cell_type": "code",
   "execution_count": 73,
   "id": "6f0458e0-8b98-492b-955e-5da1cbdb649f",
   "metadata": {},
   "outputs": [],
   "source": [
    "cells = vtkCellArray()\n",
    "\n",
    "triangle = vtkTriangle()\n",
    "triangle.GetPointIds().SetId(0, 0)\n",
    "triangle.GetPointIds().SetId(1, 1)\n",
    "triangle.GetPointIds().SetId(2, 2)\n",
    "\n",
    "cells.InsertNextCell(triangle)\n",
    "\n",
    "trianglePolyData.SetPolys(cells)"
   ]
  },
  {
   "cell_type": "code",
   "execution_count": 85,
   "id": "0074d03b-bc7c-43d5-b491-edb372dac450",
   "metadata": {},
   "outputs": [],
   "source": [
    "scalars_p = vtkFloatArray()\n",
    "\n",
    "for p in range(0,3):\n",
    "    scalars_p.InsertTuple1(p,p)\n",
    "    \n",
    "trianglePolyData.GetPointData().SetScalars(scalars_p);\n",
    "\n",
    "\n",
    "scalars_c = vtkFloatArray()\n",
    "\n",
    "scalars_c.InsertTuple1(0,1)\n",
    "    \n",
    "trianglePolyData.GetCellData().SetScalars(scalars_c);"
   ]
  },
  {
   "cell_type": "code",
   "execution_count": 89,
   "id": "4824b756-3bf4-4edf-bd8e-95f43ac4b38d",
   "metadata": {},
   "outputs": [],
   "source": [
    "mapper = vtkPolyDataMapper()\n",
    "mapper.SetInputData(trianglePolyData)\n",
    "\n",
    "mapper.SetScalarVisibility(1) # controla si se usa el color del actor o el de los datos escalares\n",
    "mapper.SetScalarRange(0, 2)\n",
    "\n",
    "# Visualizar celdas\n",
    "#mapper.SetScalarModeToUseCellData() # usar datos escalares de las celdas para el color"
   ]
  },
  {
   "cell_type": "code",
   "execution_count": 90,
   "id": "99f0ba6e-a0cd-454a-8c53-7a44ff300431",
   "metadata": {},
   "outputs": [],
   "source": [
    "actor = vtkActor()\n",
    "actor.GetProperty().SetColor(colors.GetColor3d('PeachPuff'))\n",
    "actor.SetMapper(mapper)"
   ]
  },
  {
   "cell_type": "code",
   "execution_count": 91,
   "id": "9d41cb20-bff6-4d2f-9fa9-ac1ab733a3a3",
   "metadata": {},
   "outputs": [],
   "source": [
    "# Create a renderer, render window, and an interactor\n",
    "renderer = vtkRenderer()\n",
    "renderer.AddActor(actor)\n",
    "renderer.SetBackground(colors.GetColor3d('DarkGreen'))\n",
    "\n",
    "visualize(renderer, 'Triangle')"
   ]
  },
  {
   "cell_type": "markdown",
   "id": "ef7ddd85-c521-4446-9dd4-85c4aadac7d5",
   "metadata": {},
   "source": [
    "# Tira de triángulos (Triangle strip)"
   ]
  },
  {
   "cell_type": "code",
   "execution_count": 20,
   "id": "21fadadc-92bf-4d1a-96de-4aaf3e548858",
   "metadata": {},
   "outputs": [],
   "source": [
    "polydata = vtkPolyData()\n",
    "\n",
    "points = vtkPoints()\n",
    "points.InsertNextPoint(0, 0, 0.5)\n",
    "points.InsertNextPoint(0, 1, 0)\n",
    "points.InsertNextPoint(1, 0, 0)\n",
    "points.InsertNextPoint(1.5, 1, 0)\n",
    "points.InsertNextPoint(1.5, 1, 1)\n",
    "\n",
    "polydata.SetPoints(points)"
   ]
  },
  {
   "cell_type": "code",
   "execution_count": 21,
   "id": "1bb0670a-653a-46b6-a611-3d04da1d6181",
   "metadata": {},
   "outputs": [],
   "source": [
    "cells = vtkCellArray()\n",
    "\n",
    "triangleStrip = vtkTriangleStrip()\n",
    "triangleStrip.GetPointIds().SetNumberOfIds(5)\n",
    "triangleStrip.GetPointIds().SetId(0, 0)\n",
    "triangleStrip.GetPointIds().SetId(1, 1)\n",
    "triangleStrip.GetPointIds().SetId(2, 2)\n",
    "triangleStrip.GetPointIds().SetId(3, 3)\n",
    "triangleStrip.GetPointIds().SetId(4, 4)\n",
    "\n",
    "cells.InsertNextCell(triangleStrip)\n",
    "\n",
    "polydata.SetStrips(cells)"
   ]
  },
  {
   "cell_type": "code",
   "execution_count": 22,
   "id": "b89ac886-7174-4f83-bcd3-5bc891cc2528",
   "metadata": {},
   "outputs": [],
   "source": [
    "scalars_p = vtkFloatArray()\n",
    "\n",
    "for p in range(0,5):\n",
    "    scalars_p.InsertTuple1(p,p)\n",
    "    \n",
    "polydata.GetPointData().SetScalars(scalars_p);\n",
    "\n",
    "\n",
    "scalars_c = vtkFloatArray()\n",
    "\n",
    "scalars_c.InsertTuple1(0,1)\n",
    "    \n",
    "polydata.GetCellData().SetScalars(scalars_c);"
   ]
  },
  {
   "cell_type": "code",
   "execution_count": 23,
   "id": "164ba7ae-a71b-4c7b-aa73-c61519b6f166",
   "metadata": {},
   "outputs": [],
   "source": [
    "mapper = vtkPolyDataMapper()\n",
    "mapper.SetInputData(polydata)\n",
    "\n",
    "mapper.SetScalarVisibility(1) # controla si se usa el color del actor o el de los datos escalares\n",
    "mapper.SetScalarRange(0, 4)\n",
    "\n",
    "# Visualizar celdas\n",
    "#mapper.SetScalarModeToUseCellData() # usar datos escalares de las celdas para el color"
   ]
  },
  {
   "cell_type": "code",
   "execution_count": 24,
   "id": "084bbe58-3f28-4bfb-8230-5a5a8595cce7",
   "metadata": {},
   "outputs": [],
   "source": [
    "actor = vtkActor()\n",
    "actor.SetMapper(mapper)\n",
    "actor.GetProperty().SetColor(colors.GetColor3d('PeachPuff'))\n",
    "#actor.GetProperty().SetRepresentationToWireframe()"
   ]
  },
  {
   "cell_type": "code",
   "execution_count": 25,
   "id": "2345c876-5cc1-4308-ab1f-b09c6cbfc7bc",
   "metadata": {},
   "outputs": [],
   "source": [
    "renderer = vtkRenderer()\n",
    "renderer.AddActor(actor)\n",
    "renderer.SetBackground(colors.GetColor3d('DarkGreen'))\n",
    "\n",
    "visualize(renderer, 'TriangleStrip')"
   ]
  },
  {
   "cell_type": "markdown",
   "id": "df53a31d-60e8-410e-84ab-43444d5b90ad",
   "metadata": {},
   "source": [
    "# Píxel"
   ]
  },
  {
   "cell_type": "code",
   "execution_count": 26,
   "id": "49155d80-5161-4598-9f5a-8e2bee40c55f",
   "metadata": {},
   "outputs": [],
   "source": [
    "polydata = vtkPolyData()\n",
    "\n",
    "# Create four points (must be in counter clockwise order)\n",
    "p0 = [0.0, 0.0, 0.0]\n",
    "p1 = [1.0, 0.0, 0.0]\n",
    "p2 = [1.0, 1.0, 0.0]\n",
    "p3 = [0.0, 1.0, 0.0]\n",
    "\n",
    "# Add the points to a vtkPoints object\n",
    "points = vtkPoints()\n",
    "points.InsertNextPoint(p0)\n",
    "points.InsertNextPoint(p1)\n",
    "points.InsertNextPoint(p2)\n",
    "points.InsertNextPoint(p3)\n",
    "\n",
    "polydata.SetPoints(points)"
   ]
  },
  {
   "cell_type": "code",
   "execution_count": 35,
   "id": "125353a5-47ab-4aab-9d50-c2a8ae464bbf",
   "metadata": {},
   "outputs": [],
   "source": [
    "# Create a cell array to store the quad in\n",
    "cells = vtkCellArray()\n",
    "\n",
    "# Create a quad on the four points\n",
    "pixel = vtkPixel()\n",
    "pixel.GetPointIds().SetId(0, 0)\n",
    "pixel.GetPointIds().SetId(1, 1)\n",
    "pixel.GetPointIds().SetId(2, 2)\n",
    "pixel.GetPointIds().SetId(3, 3)\n",
    "\n",
    "cells.InsertNextCell(pixel)\n",
    "\n",
    "polydata.SetPolys(cells)"
   ]
  },
  {
   "cell_type": "code",
   "execution_count": 38,
   "id": "08d4c45b-fdf6-4ca1-978f-9d5e6a2b5716",
   "metadata": {},
   "outputs": [],
   "source": [
    "scalars_p = vtkFloatArray()\n",
    "\n",
    "for p in range(0,3):\n",
    "    scalars_p.InsertTuple1(p,p)\n",
    "    \n",
    "polydata.GetPointData().SetScalars(scalars_p);\n",
    "\n",
    "\n",
    "scalars_c = vtkFloatArray()\n",
    "\n",
    "scalars_c.InsertTuple1(0,1)\n",
    "    \n",
    "polydata.GetCellData().SetScalars(scalars_c);"
   ]
  },
  {
   "cell_type": "code",
   "execution_count": 49,
   "id": "69e2e593-ab1b-426d-a4dd-56d669417c08",
   "metadata": {},
   "outputs": [],
   "source": [
    "mapper = vtkPolyDataMapper()\n",
    "mapper.SetInputData(polydata)\n",
    "\n",
    "mapper.SetScalarVisibility(1) # controla si se usa el color del actor o el de los datos escalares\n",
    "mapper.SetScalarRange(0, 2)\n",
    "\n",
    "# Visualizar celdas\n",
    "#mapper.SetScalarModeToUseCellData() # usar datos escalares de las celdas para el color"
   ]
  },
  {
   "cell_type": "code",
   "execution_count": 50,
   "id": "19935eb0-837c-4784-972c-23a7647766ec",
   "metadata": {},
   "outputs": [],
   "source": [
    "actor = vtkActor()\n",
    "actor.SetMapper(mapper)\n",
    "actor.GetProperty().SetColor(colors.GetColor3d('Silver'))"
   ]
  },
  {
   "cell_type": "code",
   "execution_count": 51,
   "id": "61287d9b-86a9-41c8-9fab-f1e381e559ab",
   "metadata": {},
   "outputs": [],
   "source": [
    "renderer = vtkRenderer()\n",
    "renderer.AddActor(actor)\n",
    "renderer.SetBackground(colors.GetColor3d('Gray'))\n",
    "\n",
    "visualize(renderer, 'Quad')"
   ]
  },
  {
   "cell_type": "markdown",
   "id": "72ec26d9-ff24-419e-a49b-17d51c0d8f45",
   "metadata": {},
   "source": [
    "# Cuadrilátero"
   ]
  },
  {
   "cell_type": "code",
   "execution_count": 52,
   "id": "286cd22d-dfb4-4200-8efc-2fac238f7f05",
   "metadata": {},
   "outputs": [],
   "source": [
    "polydata = vtkPolyData()\n",
    "\n",
    "# Create four points (must be in counter clockwise order)\n",
    "p0 = [0.0, 0.0, 0.0]\n",
    "p1 = [2.0, 0.0, 0.0]\n",
    "p2 = [1.0, 1.0, 0.0]\n",
    "p3 = [0.5, 1.0, 0.0]\n",
    "\n",
    "# Add the points to a vtkPoints object\n",
    "points = vtkPoints()\n",
    "points.InsertNextPoint(p0)\n",
    "points.InsertNextPoint(p1)\n",
    "points.InsertNextPoint(p2)\n",
    "points.InsertNextPoint(p3)\n",
    "\n",
    "polydata.SetPoints(points)"
   ]
  },
  {
   "cell_type": "code",
   "execution_count": 53,
   "id": "fa0f9c03-cd9c-458b-8105-1397989a2c2f",
   "metadata": {},
   "outputs": [],
   "source": [
    "# Create a cell array to store the quad in\n",
    "cells = vtkCellArray()\n",
    "\n",
    "# Create a quad on the four points\n",
    "quad = vtkQuad()\n",
    "quad.GetPointIds().SetId(0, 0)\n",
    "quad.GetPointIds().SetId(1, 1)\n",
    "quad.GetPointIds().SetId(2, 2)\n",
    "quad.GetPointIds().SetId(3, 3)\n",
    "\n",
    "cells.InsertNextCell(quad)\n",
    "\n",
    "polydata.SetPolys(cells)"
   ]
  },
  {
   "cell_type": "code",
   "execution_count": 57,
   "id": "6b38e938-5bb8-4704-bc8c-8ceced01f639",
   "metadata": {},
   "outputs": [],
   "source": [
    "scalars_p = vtkFloatArray()\n",
    "\n",
    "for p in range(0,3):\n",
    "    scalars_p.InsertTuple1(p,p)\n",
    "    \n",
    "polydata.GetPointData().SetScalars(scalars_p);\n",
    "\n",
    "\n",
    "scalars_c = vtkFloatArray()\n",
    "\n",
    "scalars_c.InsertTuple1(0,1)\n",
    "    \n",
    "polydata.GetCellData().SetScalars(scalars_c);"
   ]
  },
  {
   "cell_type": "code",
   "execution_count": 58,
   "id": "d6425811-49b6-4ec8-97a0-d1aebbd7954d",
   "metadata": {},
   "outputs": [],
   "source": [
    "mapper = vtkPolyDataMapper()\n",
    "mapper.SetInputData(polydata)\n",
    "\n",
    "mapper.SetScalarVisibility(1) # controla si se usa el color del actor o el de los datos escalares\n",
    "mapper.SetScalarRange(0, 2)\n",
    "\n",
    "# Visualizar celdas\n",
    "#mapper.SetScalarModeToUseCellData() # usar datos escalares de las celdas para el color"
   ]
  },
  {
   "cell_type": "code",
   "execution_count": 59,
   "id": "7d2cf0f0-9ad2-425d-b53d-db86f669d6af",
   "metadata": {},
   "outputs": [],
   "source": [
    "actor = vtkActor()\n",
    "actor.SetMapper(mapper)\n",
    "actor.GetProperty().SetColor(colors.GetColor3d('Silver'))"
   ]
  },
  {
   "cell_type": "code",
   "execution_count": 61,
   "id": "cf9a79a5-fbcf-4c42-a9e4-53bf61f83d45",
   "metadata": {},
   "outputs": [],
   "source": [
    "renderer = vtkRenderer()\n",
    "renderer.AddActor(actor)\n",
    "renderer.SetBackground(colors.GetColor3d('Gray'))\n",
    "\n",
    "visualize(renderer, 'Quad')"
   ]
  },
  {
   "cell_type": "markdown",
   "id": "86d90f88-716e-49ec-b14c-f67260c9a676",
   "metadata": {},
   "source": [
    "## Objeto fuente plano"
   ]
  },
  {
   "cell_type": "code",
   "execution_count": 62,
   "id": "53099cf8-509e-4b2b-9c51-1ff4d8ad7f57",
   "metadata": {},
   "outputs": [],
   "source": [
    "# Create a plane\n",
    "planeSource = vtkPlaneSource()\n",
    "planeSource.SetCenter(1.0, 0.0, 0.0)\n",
    "planeSource.SetNormal(1.0, 0.0, 1.0)\n",
    "planeSource.Update()\n",
    "\n",
    "# Get PolyData\n",
    "plane = planeSource.GetOutput()"
   ]
  },
  {
   "cell_type": "code",
   "execution_count": 63,
   "id": "bbd19663-6eab-43af-bcbd-f21d0339b1f9",
   "metadata": {},
   "outputs": [],
   "source": [
    "mapper = vtkPolyDataMapper()\n",
    "mapper.SetInputData(plane)"
   ]
  },
  {
   "cell_type": "code",
   "execution_count": 64,
   "id": "f8f3f689-53e5-4acc-b498-8d8ff65d3ab3",
   "metadata": {},
   "outputs": [],
   "source": [
    "actor = vtkActor()\n",
    "actor.SetMapper(mapper)\n",
    "actor.GetProperty().SetColor(colors.GetColor3d('Banana'))"
   ]
  },
  {
   "cell_type": "code",
   "execution_count": 65,
   "id": "85ae95b7-7e36-4f0d-beaa-4851ad5d3a9e",
   "metadata": {},
   "outputs": [],
   "source": [
    "# Create a renderer, render window and interactor\n",
    "renderer = vtkRenderer()\n",
    "\n",
    "renderer.AddActor(actor)\n",
    "renderer.SetBackground(colors.GetColor3d('BkgColor'))\n",
    "    \n",
    "renderer.AddActor(actor)\n",
    "colors.SetColor('BkgColor', [26, 51, 77, 255])\n",
    "renderer.SetBackground(colors.GetColor3d('BkgColor'))\n",
    "\n",
    "visualize(renderer, 'Plane')"
   ]
  },
  {
   "cell_type": "markdown",
   "id": "a739c2b0-feff-4c1c-b675-057812016e04",
   "metadata": {},
   "source": [
    "# Polígono"
   ]
  },
  {
   "cell_type": "code",
   "execution_count": 66,
   "id": "9a9c1df3-f355-4580-8602-f3d530858922",
   "metadata": {},
   "outputs": [],
   "source": [
    "# Create a PolyData\n",
    "polygonPolyData = vtkPolyData()\n",
    "\n",
    "# Setup four points\n",
    "points = vtkPoints()\n",
    "points.InsertNextPoint(0.0, 0.0, 0.0)\n",
    "points.InsertNextPoint(1.0, 0.0, 0.0)\n",
    "points.InsertNextPoint(1.0, 1.0, 0.0)\n",
    "points.InsertNextPoint(0.0, 1.0, 0.0)\n",
    "\n",
    "polygonPolyData.SetPoints(points)"
   ]
  },
  {
   "cell_type": "code",
   "execution_count": 67,
   "id": "05655064-52b0-43b5-84b0-c91a31ed5d5b",
   "metadata": {},
   "outputs": [],
   "source": [
    "# Add the polygon to a list of polygons\n",
    "polygons = vtkCellArray()\n",
    "    \n",
    "# Create the polygon\n",
    "polygon = vtkPolygon()\n",
    "polygon.GetPointIds().SetNumberOfIds(4)  # make a quad\n",
    "polygon.GetPointIds().SetId(0, 0)\n",
    "polygon.GetPointIds().SetId(1, 1)\n",
    "polygon.GetPointIds().SetId(2, 2)\n",
    "polygon.GetPointIds().SetId(3, 3)\n",
    "\n",
    "polygons.InsertNextCell(polygon)\n",
    "\n",
    "polygonPolyData.SetPolys(polygons)"
   ]
  },
  {
   "cell_type": "code",
   "execution_count": 68,
   "id": "34ac9ed5-e5d7-4007-8e12-56f74cbc0881",
   "metadata": {},
   "outputs": [],
   "source": [
    "mapper = vtkPolyDataMapper()\n",
    "mapper.SetInputData(polygonPolyData)"
   ]
  },
  {
   "cell_type": "code",
   "execution_count": 69,
   "id": "b2dc9261-9054-4a05-9b80-e4973b6d3919",
   "metadata": {},
   "outputs": [],
   "source": [
    "actor = vtkActor()\n",
    "actor.SetMapper(mapper)\n",
    "actor.GetProperty().SetColor(colors.GetColor3d('Silver'))"
   ]
  },
  {
   "cell_type": "code",
   "execution_count": 70,
   "id": "9ec8c0cd-cf2e-4505-97de-6c444f702108",
   "metadata": {},
   "outputs": [],
   "source": [
    "renderer = vtkRenderer()\n",
    "renderer.AddActor(actor)\n",
    "renderer.SetBackground(colors.GetColor3d('Salmon'))\n",
    "\n",
    "visualize(renderer, 'Polygon')"
   ]
  },
  {
   "cell_type": "markdown",
   "id": "7fd8f4b1-d02c-4792-8c98-5cae8f576657",
   "metadata": {},
   "source": [
    "## Objeto fuente disco"
   ]
  },
  {
   "cell_type": "code",
   "execution_count": 82,
   "id": "b2ebabdd-d04b-45b5-9ee3-7ac742ce3c17",
   "metadata": {},
   "outputs": [],
   "source": [
    "diskSource = vtkDiskSource()"
   ]
  },
  {
   "cell_type": "code",
   "execution_count": 83,
   "id": "2f74e015-4105-40a5-8558-22b2b2649dc0",
   "metadata": {},
   "outputs": [
    {
     "name": "stdout",
     "output_type": "stream",
     "text": [
      "Number of points:  12\n",
      "Number of cells:  6\n"
     ]
    }
   ],
   "source": [
    "# Get PolyData\n",
    "diskSource.Update()\n",
    "diskPolyData = diskSource.GetOutput()\n",
    "\n",
    "print('Number of points: ', diskPolyData.GetNumberOfPoints())\n",
    "print('Number of cells: ', diskPolyData.GetNumberOfCells())"
   ]
  },
  {
   "cell_type": "code",
   "execution_count": 101,
   "id": "8b8b68eb-2a08-44e9-85b8-776335ed2189",
   "metadata": {},
   "outputs": [],
   "source": [
    "scalars_p = vtkFloatArray()\n",
    "\n",
    "for p in range(0,11):\n",
    "    scalars_p.InsertTuple1(p,p)\n",
    "    \n",
    "diskPolyData.GetPointData().SetScalars(scalars_p);\n",
    "\n",
    "\n",
    "scalars_c = vtkFloatArray()\n",
    "\n",
    "for c in range(0,6):\n",
    "    scalars_c.InsertTuple1(c,c)\n",
    "    \n",
    "diskPolyData.GetCellData().SetScalars(scalars_c);"
   ]
  },
  {
   "cell_type": "code",
   "execution_count": 102,
   "id": "389a708d-5149-4392-bbf9-c5b16ec1fc01",
   "metadata": {},
   "outputs": [],
   "source": [
    "mapper = vtkPolyDataMapper()\n",
    "mapper.SetInputConnection(diskSource.GetOutputPort())\n",
    "\n",
    "mapper.SetScalarVisibility(1) # controla si se usa el color del actor o el de los datos escalares\n",
    "mapper.SetScalarRange(0, 11)\n",
    "\n",
    "# Visualizar celdas\n",
    "mapper.SetScalarModeToUseCellData() # usar datos escalares de las celdas para el color\n",
    "mapper.SetScalarRange(0, 5)"
   ]
  },
  {
   "cell_type": "code",
   "execution_count": 103,
   "id": "8b8cee28-8155-4b58-88bd-8e2cd9298543",
   "metadata": {},
   "outputs": [],
   "source": [
    "actor = vtkActor()\n",
    "actor.GetProperty().SetColor(colors.GetColor3d(\"Cornsilk\"))\n",
    "actor.SetMapper(mapper)"
   ]
  },
  {
   "cell_type": "code",
   "execution_count": 104,
   "id": "18af1064-c44d-4908-bd4d-c76dfcbf0053",
   "metadata": {},
   "outputs": [],
   "source": [
    "renderer = vtkRenderer()\n",
    "renderer.AddActor(actor)\n",
    "renderer.SetBackground(colors.GetColor3d(\"Gray\"))\n",
    "\n",
    "visualize(renderer, 'Disk')"
   ]
  },
  {
   "cell_type": "markdown",
   "id": "958243bb-6ede-46e0-9923-fad08d562fd5",
   "metadata": {},
   "source": [
    "## Objeto fuente polígono regular"
   ]
  },
  {
   "cell_type": "code",
   "execution_count": 105,
   "id": "53208eb1-23b6-42c3-8d9b-3c0940900251",
   "metadata": {},
   "outputs": [],
   "source": [
    "# Create a pentagon\n",
    "polygonSource = vtkRegularPolygonSource()\n",
    "\n",
    "polygonSource.SetNumberOfSides(5)\n",
    "polygonSource.SetRadius(5)\n",
    "polygonSource.SetCenter(0, 0, 0)"
   ]
  },
  {
   "cell_type": "code",
   "execution_count": 106,
   "id": "61be899b-1c3f-4b59-baa0-001e0c68cb1f",
   "metadata": {},
   "outputs": [],
   "source": [
    "mapper = vtkPolyDataMapper()\n",
    "mapper.SetInputConnection(polygonSource.GetOutputPort())"
   ]
  },
  {
   "cell_type": "code",
   "execution_count": 107,
   "id": "e0069b07-efc0-4bd6-8ccd-670cfbedd8c1",
   "metadata": {},
   "outputs": [],
   "source": [
    "actor = vtkActor()\n",
    "actor.SetMapper(mapper)\n",
    "actor.GetProperty().EdgeVisibilityOn()\n",
    "actor.GetProperty().SetLineWidth(5)\n",
    "actor.GetProperty().SetColor(colors.GetColor3d('Banana'))\n",
    "\n",
    "#cara trasera con color distinto a la delantera\n",
    "back = vtkProperty()\n",
    "back.SetColor(colors.GetColor3d('Tomato'))\n",
    "actor.SetBackfaceProperty(back)"
   ]
  },
  {
   "cell_type": "code",
   "execution_count": 108,
   "id": "f52a7ca8-f850-4511-bb18-a5edb9761e40",
   "metadata": {},
   "outputs": [],
   "source": [
    "renderer = vtkRenderer()\n",
    "renderer.AddActor(actor)\n",
    "renderer.SetBackground(colors.GetColor3d('Silver'))\n",
    "\n",
    "visualize(renderer, 'RegularPolygonSource')"
   ]
  },
  {
   "cell_type": "markdown",
   "id": "d286e250-695d-453e-aebd-0d456788a9c0",
   "metadata": {},
   "source": [
    "# Cubo\n",
    "\n",
    "## Construcción programática del cubo"
   ]
  },
  {
   "cell_type": "code",
   "execution_count": 109,
   "id": "9b2c78bd-9e8b-46b3-90eb-c82015b85806",
   "metadata": {},
   "outputs": [],
   "source": [
    "hexaPolyData = vtkPolyData()\n",
    "\n",
    "# Set up the eight points\n",
    "# For the hexahedron setup the coordinates of eight points.\n",
    "# The two faces must be in counter clockwise order as viewed from the\n",
    "# outside.\n",
    "points = vtkPoints()\n",
    "\n",
    "pointCoordinates = list()\n",
    "pointCoordinates.append([0.0, 0.0, 0.0])  # Face 1\n",
    "pointCoordinates.append([1.0, 0.0, 0.0])\n",
    "pointCoordinates.append([1.0, 1.0, 0.0])\n",
    "pointCoordinates.append([0.0, 1.0, 0.0])\n",
    "pointCoordinates.append([0.0, 0.0, 1.0])  # Face 2\n",
    "pointCoordinates.append([1.0, 0.0, 1.0])\n",
    "pointCoordinates.append([1.0, 1.0, 1.0])\n",
    "pointCoordinates.append([0.0, 1.0, 1.0])\n",
    "\n",
    "\n",
    "for i in range(0, len(pointCoordinates)):\n",
    "    points.InsertNextPoint(pointCoordinates[i])\n",
    "\n",
    "hexaPolyData.SetPoints(points)"
   ]
  },
  {
   "cell_type": "code",
   "execution_count": 110,
   "id": "b63d212e-fbec-4a12-b411-c8df310e602c",
   "metadata": {},
   "outputs": [],
   "source": [
    "#Nota: si quisiéramos utilizar una celda 3D (ej vtkHexahedron) tendríamos que utilizar \"unstructured grids\", no vtkPolyD\n",
    "\n",
    "def mkVtkIdList(it):\n",
    "    \"\"\"\n",
    "    Makes a vtkIdList from a Python iterable. \n",
    "\n",
    "    \"\"\"\n",
    "    vil = vtkIdList()\n",
    "    for i in it:\n",
    "        vil.InsertNextId(int(i))\n",
    "    return vil\n",
    "\n",
    "# pts = array of 6 4-tuples of vtkIdType (int) representing the faces\n",
    "#     of the cube in terms of the above vertices\n",
    "pts = [(0, 3, 2, 1), (4, 5, 6, 7), (0, 1, 5, 4),\n",
    "        (1, 2, 6, 5), (2, 3, 7, 6), (3, 0, 4, 7)]\n",
    "\n",
    "# Creat cell array with six components, one for each face\n",
    "cells = vtkCellArray()\n",
    "\n",
    "for pt in pts:\n",
    "    cells.InsertNextCell(mkVtkIdList(pt))\n",
    "\n",
    "hexaPolyData.SetPolys(cells)"
   ]
  },
  {
   "cell_type": "code",
   "execution_count": 111,
   "id": "46dbe429-03a2-469f-9d69-a0ad7a958d4c",
   "metadata": {},
   "outputs": [],
   "source": [
    "scalars = vtkFloatArray()\n",
    "\n",
    "# Set point data\n",
    "for i, _ in enumerate(pointCoordinates):\n",
    "    scalars.InsertTuple1(i, i)\n",
    "    \n",
    "hexaPolyData.GetPointData().SetScalars(scalars)\n",
    "\n",
    "# Set cell data\n",
    "for i, _ in enumerate(pts):\n",
    "    scalars.InsertTuple1(i, i)\n",
    "    \n",
    "hexaPolyData.GetCellData().SetScalars(scalars)\n",
    "\n",
    "hexaPolyData.GetPointData().SetScalars(scalars);\n",
    "hexaPolyData.GetCellData().SetScalars(scalars);"
   ]
  },
  {
   "cell_type": "code",
   "execution_count": 112,
   "id": "f8dc853f-dd6c-4d5c-a9a8-e8a37545dbc4",
   "metadata": {},
   "outputs": [],
   "source": [
    "mapper = vtkPolyDataMapper()\n",
    "mapper.SetInputData(hexaPolyData)\n",
    "\n",
    "mapper.SetScalarVisibility(1) # controla si se usa el color del actor o el de los datos escalares\n",
    "mapper.SetScalarRange(0,5) # Si no se pone, utiliza el rango completo para el color map (rojo a azul)\n",
    "# Por defecto se usan los datos escalares de los puntos para el color\n",
    "#mapper.SetScalarModeToUseCellData() # usar datos escalares de las celdas para el color"
   ]
  },
  {
   "cell_type": "code",
   "execution_count": 113,
   "id": "f5fedabb-202f-4c29-91aa-12cf5016ab7e",
   "metadata": {},
   "outputs": [],
   "source": [
    "actor = vtkActor()\n",
    "actor.GetProperty().SetColor(colors.GetColor3d(\"PeachPuff\"))\n",
    "actor.SetMapper(mapper)"
   ]
  },
  {
   "cell_type": "code",
   "execution_count": 114,
   "id": "15717b12-cb73-4062-875a-13005104cb6e",
   "metadata": {},
   "outputs": [],
   "source": [
    "# Set the background color.\n",
    "colors.SetColor(\"BkgColor\", [51, 77, 102, 255])\n",
    "    \n",
    "renderer = vtkRenderer()\n",
    "renderer.AddActor(actor)\n",
    "renderer.SetBackground(colors.GetColor3d(\"BkgColor\"))\n",
    "renderer.ResetCamera()\n",
    "renderer.GetActiveCamera().Azimuth(30)\n",
    "renderer.GetActiveCamera().Elevation(30)\n",
    "\n",
    "visualize(renderer, 'Hexahedron')"
   ]
  },
  {
   "cell_type": "markdown",
   "id": "3636b732-1683-4097-91d5-858f784976ae",
   "metadata": {},
   "source": [
    "## Objeto fuente cubo\n",
    "\n",
    "Los objetos geométricos simples creados por filtros de fuente, tienen tantas celdas como caras, que son poligonales.\n",
    "\n",
    "Pensar cómo hacer una cara transparente, y poner colores diferentes en el interior y exterior"
   ]
  },
  {
   "cell_type": "code",
   "execution_count": 4,
   "id": "2261d8dc-55ad-4751-9de1-a774e81d0f9f",
   "metadata": {},
   "outputs": [],
   "source": [
    "# Create cube.\n",
    "cube = vtkCubeSource()"
   ]
  },
  {
   "cell_type": "code",
   "execution_count": 5,
   "id": "a5df747a-27a8-4877-a731-9fdd25106896",
   "metadata": {},
   "outputs": [
    {
     "name": "stdout",
     "output_type": "stream",
     "text": [
      "Number of points:  24\n",
      "Number of cells:  6\n"
     ]
    }
   ],
   "source": [
    "# Get PolyData\n",
    "cube.Update()\n",
    "cubePolyData = cube.GetOutput()\n",
    "\n",
    "print('Number of points: ', cubePolyData.GetNumberOfPoints())\n",
    "print('Number of cells: ', cubePolyData.GetNumberOfCells())"
   ]
  },
  {
   "cell_type": "code",
   "execution_count": 11,
   "id": "8df28e74-3fc3-49e8-9295-755ddef637bc",
   "metadata": {},
   "outputs": [],
   "source": [
    "scalars_p = vtkFloatArray()\n",
    "\n",
    "for p in range(0,24):\n",
    "    scalars_p.InsertTuple1(p,p)\n",
    "    \n",
    "cubePolyData.GetPointData().SetScalars(scalars_p);\n",
    "\n",
    "\n",
    "scalars_c = vtkFloatArray()\n",
    "\n",
    "for c in range(0,6):\n",
    "    scalars_c.InsertTuple1(c,c)\n",
    "    \n",
    "cubePolyData.GetCellData().SetScalars(scalars_c);"
   ]
  },
  {
   "cell_type": "code",
   "execution_count": 12,
   "id": "e874bc55-09cc-40f4-8f21-065a4de28f48",
   "metadata": {},
   "outputs": [],
   "source": [
    "# mapper\n",
    "mapper = vtkPolyDataMapper()\n",
    "mapper.SetInputData(cube.GetOutput())\n",
    "\n",
    "mapper.SetScalarVisibility(1) # controla si se usa el color del actor o el de los datos escalares\n",
    "mapper.SetScalarRange(0, 23)\n",
    "\n",
    "# Visualizar celdas\n",
    "mapper.SetScalarModeToUseCellData() # usar datos escalares de las celdas para el color\n",
    "mapper.SetScalarRange(0, 5)"
   ]
  },
  {
   "cell_type": "code",
   "execution_count": 13,
   "id": "d894e58f-8245-40f9-8904-e9680d1cc1a9",
   "metadata": {},
   "outputs": [],
   "source": [
    "# Actor.\n",
    "cubeActor = vtkActor()\n",
    "cubeActor.SetMapper(mapper)\n",
    "cubeActor.GetProperty().SetColor(colors.GetColor3d('Banana'))"
   ]
  },
  {
   "cell_type": "code",
   "execution_count": 14,
   "id": "a3452fa9-9314-476c-810e-cfd846ee86d2",
   "metadata": {},
   "outputs": [],
   "source": [
    "renderer = vtkRenderer()\n",
    "\n",
    "renderer.AddActor(cubeActor)\n",
    "renderer.ResetCamera()\n",
    "renderer.GetActiveCamera().Azimuth(30)\n",
    "renderer.GetActiveCamera().Elevation(30)\n",
    "renderer.ResetCameraClippingRange()\n",
    "renderer.SetBackground(colors.GetColor3d('Silver'))\n",
    "\n",
    "visualize(renderer, 'Cube')"
   ]
  }
 ],
 "metadata": {
  "kernelspec": {
   "display_name": "Python [conda env:jra]",
   "language": "python",
   "name": "conda-env-jra-py"
  },
  "language_info": {
   "codemirror_mode": {
    "name": "ipython",
    "version": 3
   },
   "file_extension": ".py",
   "mimetype": "text/x-python",
   "name": "python",
   "nbconvert_exporter": "python",
   "pygments_lexer": "ipython3",
   "version": "3.10.6"
  }
 },
 "nbformat": 4,
 "nbformat_minor": 5
}
