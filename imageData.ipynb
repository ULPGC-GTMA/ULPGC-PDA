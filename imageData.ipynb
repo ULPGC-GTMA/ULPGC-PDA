{
 "cells": [
  {
   "cell_type": "code",
   "execution_count": 1,
   "id": "b2252073-9a7e-4363-85f2-325263c36d04",
   "metadata": {},
   "outputs": [],
   "source": [
    "import vtkmodules.vtkRenderingOpenGL2\n",
    "from vtkmodules.vtkCommonColor import vtkNamedColors\n",
    "from vtkmodules.vtkImagingColor import vtkImageMapToWindowLevelColors\n",
    "from vtkmodules.vtkIOImage import vtkImageReader2Factory\n",
    "from vtkmodules.vtkInteractionStyle import vtkInteractorStyleImage\n",
    "from vtkmodules.vtkRenderingCore import (\n",
    "    vtkImageActor,\n",
    "    vtkRenderWindow,\n",
    "    vtkRenderWindowInteractor,\n",
    "    vtkRenderer\n",
    ")"
   ]
  },
  {
   "cell_type": "code",
   "execution_count": 2,
   "id": "b0ff46ce-a159-44ce-af8e-fd6b89094778",
   "metadata": {},
   "outputs": [],
   "source": [
    "colors = vtkNamedColors()"
   ]
  },
  {
   "cell_type": "code",
   "execution_count": null,
   "id": "b55a74a1-8db9-4e13-8fe5-900cf4cc84a6",
   "metadata": {},
   "outputs": [],
   "source": [
    "fileName = 'images/Gourds.png'\n",
    "\n",
    "# Read the image.\n",
    "readerFactory = vtkImageReader2Factory()\n",
    "reader = readerFactory.CreateImageReader2(fileName)\n",
    "reader.SetFileName(fileName)\n",
    "reader.Update()"
   ]
  },
  {
   "cell_type": "code",
   "execution_count": null,
   "id": "79b89469-a585-4d4d-b4b2-7b1bb433b826",
   "metadata": {},
   "outputs": [],
   "source": [
    "imageActor = vtkImageActor()\n",
    "imageActor.GetMapper().SetInputConnection(\n",
    "    reader.GetOutputPort())"
   ]
  },
  {
   "cell_type": "code",
   "execution_count": null,
   "id": "3451dbe5-c3ed-4124-b82e-30e8c0ca898e",
   "metadata": {},
   "outputs": [],
   "source": [
    "renderer = vtkRenderer()\n",
    "renderer.AddActor(imageActor)\n",
    "renderer.ResetCamera()\n",
    "renderer.SetBackground(colors.GetColor3d(\"SlateGray\"))"
   ]
  },
  {
   "cell_type": "code",
   "execution_count": null,
   "id": "6e5016d2-c817-4fad-a5d8-5741552ebda9",
   "metadata": {},
   "outputs": [],
   "source": [
    "renderWindow = vtkRenderWindow()\n",
    "renderWindow.SetSize(600, 300)\n",
    "renderWindow.SetWindowName('Image')\n",
    "renderWindow.AddRenderer(renderer)\n",
    "\n",
    "renderWindowInteractor = vtkRenderWindowInteractor()\n",
    "style = vtkInteractorStyleImage()\n",
    "\n",
    "renderWindowInteractor.SetInteractorStyle(style)\n",
    "\n",
    "renderWindowInteractor.SetRenderWindow(renderWindow)\n",
    "renderWindowInteractor.Initialize()\n",
    "\n",
    "renderWindowInteractor.Start()\n",
    "\n",
    "del renderWindow, renderWindowInteractor"
   ]
  },
  {
   "cell_type": "markdown",
   "id": "534db118-12c1-4130-9251-e8686eae6b14",
   "metadata": {},
   "source": []
  },
  {
   "cell_type": "code",
   "execution_count": null,
   "id": "c767f1a9-e15b-4e1b-a525-d8844958d950",
   "metadata": {},
   "outputs": [],
   "source": []
  },
  {
   "cell_type": "markdown",
   "id": "cb453eb2-b1a4-4e7f-a9dd-5212b0902db7",
   "metadata": {},
   "source": [
    "# Imagen volumétrica"
   ]
  },
  {
   "cell_type": "code",
   "execution_count": 3,
   "id": "94a6677b-fa55-4efd-aa5e-3f3cec8deb6c",
   "metadata": {},
   "outputs": [
    {
     "name": "stdout",
     "output_type": "stream",
     "text": [
      "Range: [0.0, 4095.0]\n",
      "Extent:  0 255 0 255 0 93\n"
     ]
    }
   ],
   "source": [
    "# Read the image.\n",
    "\n",
    "fileName = 'data/FullHead.mhd'\n",
    "\n",
    "readerFactory = vtkImageReader2Factory()\n",
    "reader = readerFactory.CreateImageReader2(fileName)\n",
    "reader.SetFileName(fileName)\n",
    "reader.Update()\n",
    "\n",
    "scalarRange = [0] * 2\n",
    "scalarRange[0] = reader.GetOutput().GetPointData().GetScalars().GetRange()[0]\n",
    "scalarRange[1] = reader.GetOutput().GetPointData().GetScalars().GetRange()[1]\n",
    "print(\"Range:\", scalarRange)\n",
    "middleSlice = 22\n",
    "\n",
    "print(\"Extent: \", reader.GetDataExtent()[0], reader.GetDataExtent()[1],\n",
    "    reader.GetDataExtent()[2], reader.GetDataExtent()[3],\n",
    "    reader.GetDataExtent()[4], reader.GetDataExtent()[5])"
   ]
  },
  {
   "cell_type": "code",
   "execution_count": 4,
   "id": "f9887aae-ba48-4bf6-9f7e-31889a401032",
   "metadata": {},
   "outputs": [],
   "source": [
    "middleSlice = 22\n",
    "\n",
    "colorWindow = (scalarRange[1] - scalarRange[0])\n",
    "colorLevel = colorWindow / 2\n",
    "\n",
    "# Map the image through the lookup table.\n",
    "originalColor = vtkImageMapToWindowLevelColors()\n",
    "originalColor.SetWindow(colorWindow)\n",
    "originalColor.SetLevel(colorLevel)\n",
    "originalColor.SetInputConnection(reader.GetOutputPort())"
   ]
  },
  {
   "cell_type": "code",
   "execution_count": 16,
   "id": "86f8a0ec-ad00-45f7-b3ee-706b86ac0657",
   "metadata": {},
   "outputs": [],
   "source": [
    "originalActor = vtkImageActor()\n",
    "originalActor.GetMapper().SetInputConnection(originalColor.GetOutputPort())\n",
    "originalActor.GetProperty().SetInterpolationTypeToNearest()\n",
    "originalActor.SetDisplayExtent(\n",
    "    reader.GetDataExtent()[0], reader.GetDataExtent()[1],\n",
    "    reader.GetDataExtent()[2], reader.GetDataExtent()[3],\n",
    "    reader.GetDataExtent()[4], reader.GetDataExtent()[5])\n",
    "\n",
    "        #    middleSlice, middleSlice)\n",
    "    "
   ]
  },
  {
   "cell_type": "code",
   "execution_count": 17,
   "id": "b088ca72-0b6c-410f-877c-7b4aa2cf3c2e",
   "metadata": {},
   "outputs": [],
   "source": [
    "# Setup the renderers.\n",
    "originalRenderer = vtkRenderer()\n",
    "originalRenderer.AddActor(originalActor)\n",
    "\n",
    "\n",
    "renderWindow = vtkRenderWindow()\n",
    "renderWindow.SetSize(600, 300)\n",
    "renderWindow.SetWindowName('Image')\n",
    "renderWindow.AddRenderer(originalRenderer)\n",
    "\n",
    "renderWindowInteractor = vtkRenderWindowInteractor()\n",
    "style = vtkInteractorStyleImage()\n",
    "\n",
    "#style.SetInteractionModeToImage3D()\n",
    "style.SetInteractionModeToImageSlicing()\n",
    "\n",
    "renderWindowInteractor.SetInteractorStyle(style)"
   ]
  },
  {
   "cell_type": "code",
   "execution_count": null,
   "id": "2333247d-6c11-4e1f-928d-d6116b330ef6",
   "metadata": {},
   "outputs": [],
   "source": [
    "renderWindowInteractor.SetRenderWindow(renderWindow)\n",
    "renderWindowInteractor.Initialize()\n",
    "\n",
    "renderWindowInteractor.Start()\n",
    "\n",
    "del renderWindow, renderWindowInteractor"
   ]
  },
  {
   "cell_type": "code",
   "execution_count": null,
   "id": "e707fc3c-5776-4e51-896e-bd713d0e32c4",
   "metadata": {},
   "outputs": [],
   "source": []
  },
  {
   "cell_type": "code",
   "execution_count": null,
   "id": "ecc09764-727e-4799-826f-2321b13bb62e",
   "metadata": {},
   "outputs": [],
   "source": []
  },
  {
   "cell_type": "code",
   "execution_count": null,
   "id": "0f6ee263-d0f7-4af9-a2e2-de85ef6e6be5",
   "metadata": {},
   "outputs": [],
   "source": []
  },
  {
   "cell_type": "code",
   "execution_count": null,
   "id": "9b1b7871-b26d-4392-ba4a-05368d1460c7",
   "metadata": {},
   "outputs": [],
   "source": []
  }
 ],
 "metadata": {
  "kernelspec": {
   "display_name": "Python [conda env:jra]",
   "language": "python",
   "name": "conda-env-jra-py"
  },
  "language_info": {
   "codemirror_mode": {
    "name": "ipython",
    "version": 3
   },
   "file_extension": ".py",
   "mimetype": "text/x-python",
   "name": "python",
   "nbconvert_exporter": "python",
   "pygments_lexer": "ipython3",
   "version": "3.10.6"
  }
 },
 "nbformat": 4,
 "nbformat_minor": 5
}
