{
 "cells": [
  {
   "cell_type": "markdown",
   "id": "dee1eec1-2c48-4c77-9dd6-99da3c6fbe92",
   "metadata": {},
   "source": [
    "# Ejercicio práctico con Vtk\n",
    "\n",
    "1. Situar en un mundo virtual un cubo, un cono y una esfera, darles propiedades (color, localización y otras) y representarlos junto a unos ejes de referecnia"
   ]
  },
  {
   "cell_type": "code",
   "execution_count": 1,
   "id": "77d88cf4-0ad0-438c-b60b-128bd9b4a085",
   "metadata": {},
   "outputs": [],
   "source": [
    "import vtk\n",
    "\n",
    "from vtk.vtkCommonColor import vtkNamedColors\n",
    "from vtk.vtkCommonTransforms import vtkTransform\n",
    "from vtk.vtkFiltersSources import vtkSphereSource, vtkConeSource, vtkCubeSource\n",
    "from vtk.vtkRenderingAnnotation import vtkAxesActor\n",
    "from vtk.vtkRenderingCore import (\n",
    "    vtkActor,\n",
    "    vtkPolyDataMapper,\n",
    "    vtkRenderWindow,\n",
    "    vtkRenderWindowInteractor,\n",
    "    vtkRenderer\n",
    ")"
   ]
  },
  {
   "cell_type": "code",
   "execution_count": 7,
   "id": "43e73fcd-308a-4e4e-b98e-c2deaa42d3b5",
   "metadata": {},
   "outputs": [],
   "source": [
    "colors = vtkNamedColors()"
   ]
  },
  {
   "cell_type": "code",
   "execution_count": 8,
   "id": "18fd804d-ba6e-4cea-b25f-dac1a51e7ae1",
   "metadata": {},
   "outputs": [],
   "source": [
    "# Crear fuentes\n",
    "\n",
    "cube = vtkCubeSource()\n",
    "cone = vtkConeSource()\n",
    "sphere = vtkSphereSource()"
   ]
  },
  {
   "cell_type": "code",
   "execution_count": 9,
   "id": "538635c8-b055-4954-be52-5fac3e0b257b",
   "metadata": {},
   "outputs": [],
   "source": [
    "# mappers\n",
    "\n",
    "cubeMapper = vtkPolyDataMapper()\n",
    "cubeMapper.SetInputData(cube.GetOutput())\n",
    "\n",
    "coneMapper = vtkPolyDataMapper()\n",
    "coneMapper.SetInputData(cone.GetOutput())\n",
    "\n",
    "sphereMapper = vtkPolyDataMapper()\n",
    "sphereMapper.SetInputData(sphere.GetOutput())\n"
   ]
  },
  {
   "cell_type": "code",
   "execution_count": 10,
   "id": "5a9b1a83-e51a-4911-94da-f46590bf6e0b",
   "metadata": {},
   "outputs": [],
   "source": [
    "# actores\n",
    "\n",
    "cubeActor = vtkActor()\n",
    "cubeActor.SetMapper(cubeMapper)\n",
    "cubeActor.GetProperty().SetColor(colors.GetColor3d('Banana'))\n",
    "\n",
    "coneActor = vtkActor()\n",
    "coneActor.SetMapper(coneMapper)\n",
    "coneActor.GetProperty().SetColor(colors.GetColor3d('Banana'))\n",
    "\n",
    "sphereActor = vtkActor()\n",
    "sphereActor.SetMapper(sphereMapper)\n",
    "sphereActor.GetProperty().SetColor(colors.GetColor3d('Banana'))"
   ]
  },
  {
   "cell_type": "code",
   "execution_count": null,
   "id": "b79126e5-470c-4da4-80e0-5540d146e92c",
   "metadata": {},
   "outputs": [],
   "source": [
    "# Ventana y renderizado \n",
    "\n",
    "ren = vtkRenderer()\n",
    "renWin = vtkRenderWindow()\n",
    "renWin.SetWindowName('Ejercicio práctico')\n",
    "renWin.AddRenderer(ren)"
   ]
  }
 ],
 "metadata": {
  "kernelspec": {
   "display_name": "Python [conda env:jra]",
   "language": "python",
   "name": "conda-env-jra-py"
  },
  "language_info": {
   "codemirror_mode": {
    "name": "ipython",
    "version": 3
   },
   "file_extension": ".py",
   "mimetype": "text/x-python",
   "name": "python",
   "nbconvert_exporter": "python",
   "pygments_lexer": "ipython3",
   "version": "3.10.6"
  }
 },
 "nbformat": 4,
 "nbformat_minor": 5
}
