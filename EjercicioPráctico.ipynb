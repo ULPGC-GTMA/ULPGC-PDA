{
 "cells": [
  {
   "cell_type": "markdown",
   "id": "dee1eec1-2c48-4c77-9dd6-99da3c6fbe92",
   "metadata": {},
   "source": [
    "# Ejercicio práctico con Vtk\n",
    "\n",
    "1. Situar en un mundo virtual un cubo, un cono y una esfera, darles propiedades (color, localización y otras) y representarlos junto a unos ejes de referecnia"
   ]
  },
  {
   "cell_type": "code",
   "execution_count": 1,
   "id": "77d88cf4-0ad0-438c-b60b-128bd9b4a085",
   "metadata": {},
   "outputs": [],
   "source": [
    "import vtk\n",
    "\n",
    "from vtk.vtkCommonColor import vtkNamedColors\n",
    "from vtk.vtkCommonTransforms import vtkTransform\n",
    "from vtk.vtkFiltersSources import vtkSphereSource, vtkConeSource, vtkCubeSource\n",
    "from vtk.vtkRenderingAnnotation import vtkAxesActor\n",
    "from vtk.vtkRenderingCore import (\n",
    "    vtkActor,\n",
    "    vtkPolyDataMapper,\n",
    "    vtkRenderWindow,\n",
    "    vtkRenderWindowInteractor,\n",
    "    vtkRenderer\n",
    ")"
   ]
  },
  {
   "cell_type": "code",
   "execution_count": 2,
   "id": "43e73fcd-308a-4e4e-b98e-c2deaa42d3b5",
   "metadata": {},
   "outputs": [],
   "source": [
    "colors = vtkNamedColors()"
   ]
  },
  {
   "cell_type": "code",
   "execution_count": 3,
   "id": "18fd804d-ba6e-4cea-b25f-dac1a51e7ae1",
   "metadata": {},
   "outputs": [],
   "source": [
    "# Crear fuentes\n",
    "\n",
    "cube = vtkCubeSource()\n",
    "cone = vtkConeSource()\n",
    "sphere = vtkSphereSource()"
   ]
  },
  {
   "cell_type": "code",
   "execution_count": 4,
   "id": "538635c8-b055-4954-be52-5fac3e0b257b",
   "metadata": {},
   "outputs": [],
   "source": [
    "# mappers\n",
    "\n",
    "cubeMapper = vtkPolyDataMapper()\n",
    "cubeMapper.SetInputConnection(cube.GetOutputPort())\n",
    "\n",
    "coneMapper = vtkPolyDataMapper()\n",
    "coneMapper.SetInputConnection(cone.GetOutputPort())\n",
    "\n",
    "sphereMapper = vtkPolyDataMapper()\n",
    "sphereMapper.SetInputConnection(sphere.GetOutputPort())"
   ]
  },
  {
   "cell_type": "code",
   "execution_count": 5,
   "id": "5a9b1a83-e51a-4911-94da-f46590bf6e0b",
   "metadata": {},
   "outputs": [],
   "source": [
    "# actores\n",
    "\n",
    "cubeActor = vtkActor()\n",
    "cubeActor.SetMapper(cubeMapper)\n",
    "#cubeActor.GetProperty().SetColor(colors.GetColor3d('Banana'))\n",
    "\n",
    "coneActor = vtkActor()\n",
    "coneActor.SetMapper(coneMapper)\n",
    "#coneActor.GetProperty().SetColor(colors.GetColor3d('Banana'))\n",
    "\n",
    "sphereActor = vtkActor()\n",
    "sphereActor.SetMapper(sphereMapper)\n",
    "#sphereActor.GetProperty().SetColor(colors.GetColor3d('Banana'))"
   ]
  },
  {
   "cell_type": "code",
   "execution_count": 6,
   "id": "e0ada7cd-e5ac-4d8b-b229-67117ef685ac",
   "metadata": {},
   "outputs": [],
   "source": [
    "# Definir transformaciones\n",
    "\n",
    "move_x = vtkTransform()\n",
    "move_x.Translate(1.0, 0.0, 0.0)\n",
    "\n",
    "move_y = vtkTransform()\n",
    "move_y.Translate(0.0, 1.0, 0.0)\n",
    "\n",
    "move_z = vtkTransform()\n",
    "move_z.Translate(0.0, 0.0, 1.0)\n",
    "\n",
    "# Añadir transformaciones de rotación"
   ]
  },
  {
   "cell_type": "code",
   "execution_count": 7,
   "id": "63cd00d0-02ec-4c48-97a8-c2049f5041da",
   "metadata": {},
   "outputs": [],
   "source": [
    "# Aplicar transformaciones\n",
    "\n",
    "cubeActor.SetUserTransform(move_x)\n",
    "coneActor.SetUserTransform(move_y)\n",
    "sphereActor.SetUserTransform(move_z)\n",
    "\n",
    "axesActor = vtkAxesActor()"
   ]
  },
  {
   "cell_type": "code",
   "execution_count": 17,
   "id": "7022f97e-28b5-4a99-a8f2-c3605b63e407",
   "metadata": {},
   "outputs": [],
   "source": [
    "# Modificar propiedades\n",
    "\n",
    "cubeActor.GetProperty().SetOpacity(1.0)\n",
    "cubeActor.GetProperty().SetAmbient(0.0)\n",
    "cubeActor.GetProperty().SetAmbientColor(colors.GetColor3d('white'))\n",
    "cubeActor.GetProperty().SetDiffuse(0.0)\n",
    "cubeActor.GetProperty().SetSpecular(1.0)\n",
    "cubeActor.GetProperty().SetSpecularPower(5.0)\n",
    "\n",
    "coneActor.GetProperty().SetOpacity(1.0)\n",
    "coneActor.GetProperty().SetAmbient(1.0)\n",
    "coneActor.GetProperty().SetAmbientColor(colors.GetColor3d('white'))\n",
    "coneActor.GetProperty().SetDiffuse(0.0)\n",
    "coneActor.GetProperty().SetSpecular(0.0)\n",
    "coneActor.GetProperty().SetSpecularPower(1.0)\n",
    "\n",
    "sphereActor.GetProperty().SetOpacity(1.0)\n",
    "sphereActor.GetProperty().SetAmbient(0.0)\n",
    "sphereActor.GetProperty().SetAmbientColor(colors.GetColor3d('white'))\n",
    "sphereActor.GetProperty().SetDiffuse(1.0)\n",
    "sphereActor.GetProperty().SetSpecular(0.0)\n",
    "sphereActor.GetProperty().SetSpecularPower(1.0)\n"
   ]
  },
  {
   "cell_type": "code",
   "execution_count": 18,
   "id": "91322155-10d9-4d84-ade5-f1837cd0cc93",
   "metadata": {},
   "outputs": [],
   "source": [
    "# Renderer\n",
    "\n",
    "ren = vtkRenderer()\n",
    "\n",
    "ren.AddActor(cubeActor)\n",
    "ren.AddActor(coneActor)\n",
    "ren.AddActor(sphereActor)\n",
    "\n",
    "ren.AddActor(axesActor)"
   ]
  },
  {
   "cell_type": "code",
   "execution_count": 19,
   "id": "8eeeba7b-bc79-452a-9a8e-fe860485df8a",
   "metadata": {},
   "outputs": [],
   "source": [
    "# Ventana de renderizado\n",
    "\n",
    "renWin = vtkRenderWindow()\n",
    "renWin.SetWindowName('Ejercicio práctico')\n",
    "renWin.AddRenderer(ren)"
   ]
  },
  {
   "cell_type": "code",
   "execution_count": 20,
   "id": "fb0e8cab-1c64-4794-8df6-05af090abed8",
   "metadata": {},
   "outputs": [],
   "source": [
    "# Se añade interacción a la ventana\n",
    "renWinInt = vtkRenderWindowInteractor()\n",
    "renWinInt.SetRenderWindow(renWin)\n",
    "\n",
    "#Iniciamos renderizado e interacción\n",
    "renWin.Render()\n",
    "renWinInt.Start()\n",
    "# Pulsar q para terminar visualización\n",
    "\n",
    "#Necesario para eliminar la ventana\n",
    "del renWin, renWinInt"
   ]
  },
  {
   "cell_type": "code",
   "execution_count": 12,
   "id": "e8f1469d-8fac-4eb6-bbf0-87579b17fe57",
   "metadata": {},
   "outputs": [
    {
     "name": "stdout",
     "output_type": "stream",
     "text": [
      "vtkOpenGLActor (000002304C4FA1B0)\n",
      "  Debug: Off\n",
      "  Modified Time: 3694\n",
      "  Reference Count: 2\n",
      "  Registered Events: (none)\n",
      "  Dragable: On\n",
      "  Pickable: On\n",
      "  AllocatedRenderTime: 1210.42\n",
      "  EstimatedRenderTime: 0.0001\n",
      "  NumberOfConsumers: 1\n",
      "  RenderTimeMultiplier: 0.1387\n",
      "  Visibility: On\n",
      "  PropertyKeys: none.\n",
      "  useBounds: 1\n",
      "  IsIdentity: false\n",
      "  Position: (0, 0, 0)\n",
      "  Orientation: (0, -0, 0)\n",
      "  Origin: (0, 0, 0)\n",
      "  Scale: (1, 1, 1)\n",
      "  Bounds: \n",
      "    Xmin,Xmax: (-0.487464, 0.487464)\n",
      "    Ymin,Ymax: (-0.487464, 0.487464)\n",
      "    Zmin,Zmax: (0.5, 1.5)\n",
      "  UserTransform: 000002304AF89900\n",
      "  UserMatrix: 000002304C83BC10\n",
      "  Mapper:\n",
      "    Debug: Off\n",
      "    Modified Time: 185863\n",
      "    Reference Count: 3\n",
      "    Registered Events: (none)\n",
      "    Executive: 000002304C8238D0\n",
      "    ErrorCode: No error\n",
      "    Information: 000002304C80F620\n",
      "    AbortExecute: Off\n",
      "    Progress: 1\n",
      "    Progress Text: (None)\n",
      "    TimeToDraw: 0.0001\n",
      "    ClippingPlanes: (none)\n",
      "    Lookup Table: (none)\n",
      "    Scalar Visibility: On\n",
      "    Static: Off\n",
      "    Scalar Range: (0, 1)\n",
      "    UseLookupTableScalarRange: 0\n",
      "    Color Mode: Default\n",
      "    InterpolateScalarsBeforeMapping: Off\n",
      "    Scalar Mode: Default\n",
      "    RenderTime: 0\n",
      "    Resolve Coincident Topology: Off\n",
      "    CoincidentPointOffset: 0\n",
      "    CoincidentLineOffset: 0\n",
      "    CoincidentPolygonOffset: 0\n",
      "    CoincidentLineFactor: 0\n",
      "    CoincidentPolygonFactor: 0\n",
      "    Piece : 0\n",
      "    NumberOfPieces : 1\n",
      "    GhostLevel: 0\n",
      "    Number of sub pieces: 1\n",
      "  Property:\n",
      "    Debug: Off\n",
      "    Modified Time: 3691\n",
      "    Reference Count: 1\n",
      "    Registered Events: (none)\n",
      "    Ambient: 0\n",
      "    Ambient Color: (1, 1, 1)\n",
      "    Diffuse: 1\n",
      "    Diffuse Color: (1, 1, 1)\n",
      "    Edge Color: (0, 0, 0)\n",
      "    Edge Visibility: Off\n",
      "    Vertex Color: (0.5, 1, 0.5)\n",
      "    Vertex Visibility: Off\n",
      "    Interpolation: VTK_GOURAUD\n",
      "    Opacity: 1\n",
      "    Representation: VTK_SURFACE\n",
      "    Specular: 0\n",
      "    Specular Color: (1, 1, 1)\n",
      "    Specular Power: 1\n",
      "    Backface Culling: Off\n",
      "    Frontface Culling: Off\n",
      "    Point size: 1\n",
      "    Line width: 1\n",
      "    Line stipple pattern: 65535\n",
      "    Line stipple repeat factor: 1\n",
      "    Lighting: On\n",
      "    RenderPointsAsSpheres: Off\n",
      "    RenderLinesAsTubes: Off\n",
      "    ShowTexturesOnBackface: On\n",
      "    Shading: Off\n",
      "    MaterialName: (none)\n",
      "    Color: (1, 1, 1)\n",
      "    EmissiveFactor: (1, 1, 1)\n",
      "    NormalScale: 1\n",
      "    OcclusionStrength: 1\n",
      "    Metallic: 0\n",
      "    Roughness: 0.5\n",
      "  BackfaceProperty: (none)\n",
      "  Texture: (none)\n",
      "  ForceOpaque: false\n",
      "  ForceTranslucent: false\n",
      "\n",
      "\n"
     ]
    }
   ],
   "source": [
    "print(sphereActor)"
   ]
  },
  {
   "cell_type": "code",
   "execution_count": null,
   "id": "b395d4f8-f59f-4830-95f6-f85cf82374a0",
   "metadata": {},
   "outputs": [],
   "source": []
  }
 ],
 "metadata": {
  "kernelspec": {
   "display_name": "Python [conda env:jra]",
   "language": "python",
   "name": "conda-env-jra-py"
  },
  "language_info": {
   "codemirror_mode": {
    "name": "ipython",
    "version": 3
   },
   "file_extension": ".py",
   "mimetype": "text/x-python",
   "name": "python",
   "nbconvert_exporter": "python",
   "pygments_lexer": "ipython3",
   "version": "3.10.6"
  }
 },
 "nbformat": 4,
 "nbformat_minor": 5
}
