{
 "cells": [
  {
   "cell_type": "markdown",
   "id": "dee1eec1-2c48-4c77-9dd6-99da3c6fbe92",
   "metadata": {},
   "source": [
    "# Ejercicio práctico con Vtk\n",
    "\n",
    "1. Situar en un mundo virtual un cubo, un cono y una esfera, darles propiedades (color, localización y otras) y representarlos junto a unos ejes de referecnia"
   ]
  },
  {
   "cell_type": "code",
   "execution_count": null,
   "id": "77d88cf4-0ad0-438c-b60b-128bd9b4a085",
   "metadata": {},
   "outputs": [],
   "source": []
  }
 ],
 "metadata": {
  "kernelspec": {
   "display_name": "Python [conda env:jra] *",
   "language": "python",
   "name": "conda-env-jra-py"
  },
  "language_info": {
   "codemirror_mode": {
    "name": "ipython",
    "version": 3
   },
   "file_extension": ".py",
   "mimetype": "text/x-python",
   "name": "python",
   "nbconvert_exporter": "python",
   "pygments_lexer": "ipython3",
   "version": "3.10.6"
  }
 },
 "nbformat": 4,
 "nbformat_minor": 5
}
