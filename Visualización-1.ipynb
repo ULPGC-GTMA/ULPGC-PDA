{
 "cells": [
  {
   "cell_type": "markdown",
   "id": "03023d7c-df9a-40e6-b36f-2f61747e3ebf",
   "metadata": {},
   "source": [
    "# Visualización con Vtk\n",
    "\n",
    "## Visualizando objetos geométricos sencillos"
   ]
  },
  {
   "cell_type": "code",
   "execution_count": null,
   "id": "098ace5f-2c7e-4411-b5b1-6878aa677733",
   "metadata": {},
   "outputs": [],
   "source": [
    "# Necesario para interactuar y renderizar con ventana\n",
    "import vtkmodules.vtkInteractionStyle # Si no se pone, no funciona interacción\n",
    "import vtkmodules.vtkRenderingOpenGL2 # Si no se pone, no abre ventana\n",
    "\n",
    "\n",
    "from vtkmodules.vtkCommonColor import vtkNamedColors\n",
    "\n",
    "from vtkmodules.vtkFiltersSources import vtkConeSource, vtkCubeSource, vtkCylinderSource, vtkSphereSource\n",
    "\n",
    "from vtkmodules.vtkIOGeometry import vtkOBJReader\n",
    "\n",
    "from vtkmodules.vtkRenderingCore import (\n",
    "    vtkActor,\n",
    "    vtkLight,\n",
    "    vtkPolyDataMapper,\n",
    "    vtkRenderWindow,\n",
    "    vtkRenderWindowInteractor,\n",
    "    vtkRenderer\n",
    ")"
   ]
  },
  {
   "cell_type": "markdown",
   "id": "2340614c-d340-445c-a322-05e44de27b50",
   "metadata": {},
   "source": [
    "Podemos obtener colores por nombre para utilizarlo como atributo de nuestros actores\n",
    "\n",
    "La correspondencia entre nombres y valores está disponible [aquí](https://htmlpreview.github.io/?https://github.com/Kitware/vtk-examples/blob/gh-pages/VTKNamedColorPatches.html)"
   ]
  },
  {
   "cell_type": "code",
   "execution_count": null,
   "id": "913eb809-5f6b-412f-bcf7-a5e0622c13e1",
   "metadata": {},
   "outputs": [],
   "source": [
    "colors = vtkNamedColors()"
   ]
  },
  {
   "cell_type": "markdown",
   "id": "db04d5b8-5289-46a4-b438-8327a174631e",
   "metadata": {},
   "source": [
    "## Fuentes de objetos geométricos\n",
    "\n",
    "**Fuente** para un **cono**, con sus valores por defecto"
   ]
  },
  {
   "cell_type": "code",
   "execution_count": null,
   "id": "82932053-9657-4dea-be8d-f05a8fdd5e83",
   "metadata": {},
   "outputs": [],
   "source": [
    "coneSource = vtkConeSource()\n",
    "# Por defecto el cono apunta en dirección x (1, 0, 0)\n",
    "# su altura es 1 y está centrado en el origen\n",
    "# por tanto, el centro de la base está en (-.5, 0, 0)\n",
    "# y el vértice está en (0.5, 0, 0)\n",
    "\n",
    "print(coneSource)"
   ]
  },
  {
   "cell_type": "code",
   "execution_count": null,
   "id": "801ce383-5501-4baf-a7b1-bf2d718b4406",
   "metadata": {},
   "outputs": [],
   "source": [
    "cubeSource = vtkCubeSource()\n",
    "# Por defecto, el cubo está centrado en el origen\n",
    "# y sus aristas tienen longitud 1\n",
    "\n",
    "print(cubeSource)"
   ]
  },
  {
   "cell_type": "code",
   "execution_count": null,
   "id": "07edd528-e667-450f-9521-31bb9e6cc3f8",
   "metadata": {},
   "outputs": [],
   "source": [
    "cylinderSource = vtkCylinderSource()\n",
    "print(cylinderSource)"
   ]
  },
  {
   "cell_type": "code",
   "execution_count": null,
   "id": "8fd75ae2-f5f5-4c22-bcab-c3dc5e51f355",
   "metadata": {},
   "outputs": [],
   "source": [
    "sphereSource = vtkSphereSource()\n",
    "print(sphereSource)"
   ]
  },
  {
   "cell_type": "markdown",
   "id": "5ea16f10-b1ef-4f33-b5c0-2b287327619a",
   "metadata": {},
   "source": [
    "## Lectores de formatos gráficos\n",
    "\n",
    "### Formato .obj"
   ]
  },
  {
   "cell_type": "code",
   "execution_count": null,
   "id": "09233e08-98c5-4df0-80e8-38dbdb9e765c",
   "metadata": {},
   "outputs": [],
   "source": [
    "fileName = 'data/cow.obj'\n",
    "\n",
    "reader = vtkOBJReader()\n",
    "reader.SetFileName(fileName)\n",
    "\n",
    "print(reader)"
   ]
  },
  {
   "cell_type": "code",
   "execution_count": null,
   "id": "74028a95-085e-4afa-94ff-127c6ced32c6",
   "metadata": {},
   "outputs": [],
   "source": [
    "# Salvo que se requiera expresamente, no se acualiza el flujo de visualización\n",
    "# Normalmente se actualiza automáticamente al visualizar\n",
    "# pero, si se necesita una actualización antes de visualizar puede usarse Update()\n",
    "reader.Update()\n",
    "\n",
    "print(reader)"
   ]
  },
  {
   "cell_type": "markdown",
   "id": "fce9402a-d9a2-4630-a4e3-172a2e0129a5",
   "metadata": {},
   "source": [
    "## Mapeado a primitivas gráficas\n",
    "\n",
    "Mapeamos de objeto geométrico a modelo superficial poligonal"
   ]
  },
  {
   "cell_type": "code",
   "execution_count": null,
   "id": "bf7d074e-a954-4d92-9a92-2a45ebe863fe",
   "metadata": {},
   "outputs": [],
   "source": [
    "# source = coneSource # Se puede cambiar la fuente\n",
    "source = reader # Se puede cambiar la fuente"
   ]
  },
  {
   "cell_type": "code",
   "execution_count": null,
   "id": "30e56fec-f479-49a5-b102-bf29d5d09a80",
   "metadata": {},
   "outputs": [],
   "source": [
    "mapper = vtkPolyDataMapper()\n",
    "mapper.SetInputConnection(source.GetOutputPort())"
   ]
  },
  {
   "cell_type": "markdown",
   "id": "f13b6e42-1ec5-472e-bd1c-75b49d56935a",
   "metadata": {},
   "source": [
    "## Definimos el actor\n",
    "\n",
    "Al actor se le asocia un *mapper* (que, a su vez, conecta con los datos) y se definenen su propiedades"
   ]
  },
  {
   "cell_type": "code",
   "execution_count": null,
   "id": "e25ac849-5311-4b20-a6ba-16f23df29782",
   "metadata": {},
   "outputs": [],
   "source": [
    "actor = vtkActor()\n",
    "\n",
    "#Asociammos mapper\n",
    "actor.SetMapper(mapper)\n",
    "\n",
    "print(actor)"
   ]
  },
  {
   "cell_type": "code",
   "execution_count": null,
   "id": "8ce3d5a8-6814-4f42-9e10-ce4891546167",
   "metadata": {},
   "outputs": [],
   "source": [
    "colorObjeto = 'bisque'\n",
    "\n",
    "#Definimos propiedades en el objeto Property, que es un atributo del actor\n",
    "actor.GetProperty().SetDiffuseColor(colors.GetColor3d(colorObjeto))\n",
    "\n",
    "print(actor)"
   ]
  },
  {
   "cell_type": "markdown",
   "id": "389a6dbe-74ac-4e2a-948f-af04b001fad9",
   "metadata": {},
   "source": [
    "## Visualización\n",
    "\n",
    "El *renderizador* integra actores, cámaras y luces para hacer la visualización en una ventana.\n",
    "\n",
    "Al hacerse una instancia de un renderizador, se inicializa una cámara con valores por defecto"
   ]
  },
  {
   "cell_type": "code",
   "execution_count": null,
   "id": "35d14a1a-2c4c-4c1a-a247-e2e91c16bbfc",
   "metadata": {},
   "outputs": [],
   "source": [
    "renderer = vtkRenderer() # Renderizador\n",
    "print(renderer)"
   ]
  },
  {
   "cell_type": "code",
   "execution_count": null,
   "id": "c2c01af6-fa06-4476-ac69-321efe76a086",
   "metadata": {},
   "outputs": [],
   "source": [
    "print(renderer.GetActiveCamera())\n",
    "# Por defecto la cámara está localizada en (0, 0, 1)\n",
    "# Y su dirección de proyección es -z (0, 0, -1)\n",
    "# El punto focal (donde está enfocada) es el origen\n",
    "# la dirección \"arriba\" es y (0, 1, 0)\n",
    "# Y el ángulo de visión son 30º"
   ]
  },
  {
   "cell_type": "markdown",
   "id": "c435a267-9731-4055-9001-6e4e2d7673ca",
   "metadata": {},
   "source": [
    "Se pueden variar atributos de\n",
    "l *renderizador*, tales como el color de fondo.\n",
    "\n",
    "se añaden los actores y, en su caso, luces o nuevas cámaras."
   ]
  },
  {
   "cell_type": "code",
   "execution_count": null,
   "id": "0eb6e407-5c45-47f8-8198-caa8e5e996d8",
   "metadata": {},
   "outputs": [],
   "source": [
    "colorBG = 'Salmon'\n",
    "\n",
    "# Se pone color de fondo en el renderer\n",
    "renderer.SetBackground(colors.GetColor3d(colorBG))\n",
    "\n",
    "# Se añade el actor al renderer\n",
    "renderer.AddActor(actor)"
   ]
  },
  {
   "cell_type": "markdown",
   "id": "2418601f-d12d-4f2f-baac-faff54538e19",
   "metadata": {},
   "source": [
    "### Ventana de renderizado\n",
    "\n",
    "Aquí puedes modificar atributos del objeto para volverlos a visualizar"
   ]
  },
  {
   "cell_type": "code",
   "execution_count": null,
   "id": "4aa927e3-6b2a-4677-a0ca-2811f1dcb519",
   "metadata": {},
   "outputs": [],
   "source": [
    "coneSource.SetResolution(8)\n",
    "\n",
    "#Definimos propiedades en el objeto Property, que es un atributo del actor\n",
    "actor.GetProperty().SetDiffuseColor(colors.GetColor3d('brown_madder'))\n",
    "\n",
    "# Se pone color de fondo en el renderer\n",
    "renderer.SetBackground(colors.GetColor3d('snow'))\n",
    "\n",
    "#actor.GetProperty().SetInterpolationToFlat()\n",
    "actor.GetProperty().SetInterpolationToGouraud()"
   ]
  },
  {
   "cell_type": "markdown",
   "id": "d3125d2d-ccc3-4c1b-8573-8e68bbeb6f91",
   "metadata": {},
   "source": [
    "Se inicializa la ventan de renderizado, y se da valores a sus atributos.\n",
    "\n",
    "Se añade uno o más renderizadores a la ventana. Si son más de uno, hay que indicarlar los *viewports*, para que cada uno ocupe su espacio en la misma. Aqií solo tenemos un *rendeerizador*."
   ]
  },
  {
   "cell_type": "code",
   "execution_count": null,
   "id": "412761eb-3cec-44eb-ba96-017ee3d041ad",
   "metadata": {},
   "outputs": [],
   "source": [
    "renderWindow = vtkRenderWindow() # Ventana\n",
    "\n",
    "renderWindow.AddRenderer(renderer) # Se añade el renderizador a la ventana\n",
    "\n",
    "# Atributos de la ventana de renderizado\n",
    "renderWindow.SetSize(640, 480)\n",
    "renderWindow.SetWindowName('Modelo')\n",
    "\n",
    "print(renderWindow)"
   ]
  },
  {
   "cell_type": "markdown",
   "id": "38f30658-96fb-41f8-a895-7ca0574dba08",
   "metadata": {},
   "source": [
    "Se inicializa la interacción para la ventana"
   ]
  },
  {
   "cell_type": "code",
   "execution_count": null,
   "id": "f0dee809-e95e-4830-868b-78812c6aca0f",
   "metadata": {},
   "outputs": [],
   "source": [
    "# Se añade interacción a la ventana\n",
    "renderWindowInteractor = vtkRenderWindowInteractor()\n",
    "renderWindowInteractor.SetRenderWindow(renderWindow)"
   ]
  },
  {
   "cell_type": "markdown",
   "id": "00a051ec-756c-4d76-aef9-2bccf106efb5",
   "metadata": {},
   "source": [
    "Finalmente, podemos proceder a mostrar la ventana interactiva"
   ]
  },
  {
   "cell_type": "code",
   "execution_count": null,
   "id": "a82a18fb-9912-434d-ba74-e779ccd2019e",
   "metadata": {},
   "outputs": [],
   "source": [
    "#Iniciamos renderizado e interacción\n",
    "renderWindow.Render()\n",
    "renderWindowInteractor.Start()\n",
    "# Pulsar q para terminar visualización\n",
    "\n",
    "#Necesario para eliminar la ventana\n",
    "del renderWindow, renderWindowInteractor"
   ]
  },
  {
   "cell_type": "code",
   "execution_count": null,
   "id": "9da791e5-756a-416d-a52d-70dcd80ee330",
   "metadata": {},
   "outputs": [],
   "source": []
  }
 ],
 "metadata": {
  "kernelspec": {
   "display_name": "Python [conda env:jra]",
   "language": "python",
   "name": "conda-env-jra-py"
  },
  "language_info": {
   "codemirror_mode": {
    "name": "ipython",
    "version": 3
   },
   "file_extension": ".py",
   "mimetype": "text/x-python",
   "name": "python",
   "nbconvert_exporter": "python",
   "pygments_lexer": "ipython3",
   "version": "3.10.6"
  }
 },
 "nbformat": 4,
 "nbformat_minor": 5
}
