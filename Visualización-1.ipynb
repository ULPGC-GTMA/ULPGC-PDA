{
 "cells": [
  {
   "cell_type": "markdown",
   "id": "03023d7c-df9a-40e6-b36f-2f61747e3ebf",
   "metadata": {},
   "source": [
    "# Visualización con Vtk\n",
    "\n",
    "## Visualizando objetos geométricos sencillos"
   ]
  },
  {
   "cell_type": "code",
   "execution_count": 21,
   "id": "098ace5f-2c7e-4411-b5b1-6878aa677733",
   "metadata": {},
   "outputs": [],
   "source": [
    "# Necesario para interactuar y renderizar con ventana\n",
    "import vtkmodules.vtkInteractionStyle # Si no se pone, no funciona interacción\n",
    "import vtkmodules.vtkRenderingOpenGL2 # Si no se pone, no abre ventana\n",
    "\n",
    "\n",
    "from vtkmodules.vtkCommonColor import vtkNamedColors\n",
    "\n",
    "from vtkmodules.vtkFiltersSources import vtkConeSource, vtkCubeSource, vtkCylinderSource, vtkSphereSource\n",
    "\n",
    "from vtkmodules.vtkIOGeometry import vtkOBJReader\n",
    "\n",
    "from vtkmodules.vtkRenderingCore import (\n",
    "    vtkActor,\n",
    "    vtkLight,\n",
    "    vtkPolyDataMapper,\n",
    "    vtkRenderWindow,\n",
    "    vtkRenderWindowInteractor,\n",
    "    vtkRenderer\n",
    ")"
   ]
  },
  {
   "cell_type": "markdown",
   "id": "2340614c-d340-445c-a322-05e44de27b50",
   "metadata": {},
   "source": [
    "Podemos obtener colores por nombre para utilizarlo como atributo de nuestros actores\n",
    "\n",
    "La correspondencia entre nombres y valores está disponible [aquí](https://htmlpreview.github.io/?https://github.com/Kitware/vtk-examples/blob/gh-pages/VTKNamedColorPatches.html)"
   ]
  },
  {
   "cell_type": "code",
   "execution_count": 2,
   "id": "913eb809-5f6b-412f-bcf7-a5e0622c13e1",
   "metadata": {},
   "outputs": [],
   "source": [
    "colors = vtkNamedColors()"
   ]
  },
  {
   "cell_type": "markdown",
   "id": "db04d5b8-5289-46a4-b438-8327a174631e",
   "metadata": {},
   "source": [
    "## Fuentes de objetos geométricos\n",
    "\n",
    "**Fuente** para un **cono**, con sus valores por defecto"
   ]
  },
  {
   "cell_type": "code",
   "execution_count": 3,
   "id": "82932053-9657-4dea-be8d-f05a8fdd5e83",
   "metadata": {},
   "outputs": [
    {
     "name": "stdout",
     "output_type": "stream",
     "text": [
      "vtkConeSource (000001D3733CCA80)\n",
      "  Debug: Off\n",
      "  Modified Time: 19\n",
      "  Reference Count: 2\n",
      "  Registered Events: (none)\n",
      "  Executive: 000001D3734AC150\n",
      "  ErrorCode: No error\n",
      "  Information: 000001D374C02940\n",
      "  AbortExecute: Off\n",
      "  Progress: 0\n",
      "  Progress Text: (None)\n",
      "  Resolution: 6\n",
      "  Height: 1\n",
      "  Radius: 0.5\n",
      "  Capping: On\n",
      "  Center: (0, 0, 0)\n",
      "  Direction: (1, 0, 0)\n",
      "  Output Points Precision: 0\n",
      "\n",
      "\n"
     ]
    }
   ],
   "source": [
    "coneSource = vtkConeSource()\n",
    "# Por defecto el cono apunta en dirección x (1, 0, 0)\n",
    "# su altura es 1 y está centrado en el origen\n",
    "# por tanto, el centro de la base está en (-.5, 0, 0)\n",
    "# y el vértice está en (0.5, 0, 0)\n",
    "\n",
    "print(coneSource)"
   ]
  },
  {
   "cell_type": "code",
   "execution_count": 4,
   "id": "801ce383-5501-4baf-a7b1-bf2d718b4406",
   "metadata": {},
   "outputs": [
    {
     "name": "stdout",
     "output_type": "stream",
     "text": [
      "vtkCubeSource (000001D36FE1AA50)\n",
      "  Debug: Off\n",
      "  Modified Time: 47\n",
      "  Reference Count: 2\n",
      "  Registered Events: (none)\n",
      "  Executive: 000001D3734AB970\n",
      "  ErrorCode: No error\n",
      "  Information: 000001D374C03900\n",
      "  AbortExecute: Off\n",
      "  Progress: 0\n",
      "  Progress Text: (None)\n",
      "  X Length: 1\n",
      "  Y Length: 1\n",
      "  Z Length: 1\n",
      "  Center: (0, 0, 0)\n",
      "  Output Points Precision: 0\n",
      "\n",
      "\n"
     ]
    }
   ],
   "source": [
    "cubeSource = vtkCubeSource()\n",
    "# Por defecto, el cubo está centrado en el origen\n",
    "# y sus aristas tienen longitud 1\n",
    "\n",
    "print(cubeSource)"
   ]
  },
  {
   "cell_type": "code",
   "execution_count": 5,
   "id": "07edd528-e667-450f-9521-31bb9e6cc3f8",
   "metadata": {},
   "outputs": [
    {
     "name": "stdout",
     "output_type": "stream",
     "text": [
      "vtkCylinderSource (000001D36FE1AB50)\n",
      "  Debug: Off\n",
      "  Modified Time: 75\n",
      "  Reference Count: 2\n",
      "  Registered Events: (none)\n",
      "  Executive: 000001D373520E00\n",
      "  ErrorCode: No error\n",
      "  Information: 000001D374C03B30\n",
      "  AbortExecute: Off\n",
      "  Progress: 0\n",
      "  Progress Text: (None)\n",
      "  Resolution: 6\n",
      "  Height: 1\n",
      "  Radius: 0.5\n",
      "  Center: (0, 0, 0 )\n",
      "  Capping: On\n",
      "  Output Points Precision: 0\n",
      "\n",
      "\n"
     ]
    }
   ],
   "source": [
    "cylinderSource = vtkCylinderSource()\n",
    "print(cylinderSource)"
   ]
  },
  {
   "cell_type": "code",
   "execution_count": 6,
   "id": "8fd75ae2-f5f5-4c22-bcab-c3dc5e51f355",
   "metadata": {},
   "outputs": [
    {
     "name": "stdout",
     "output_type": "stream",
     "text": [
      "vtkSphereSource (000001D373520F20)\n",
      "  Debug: Off\n",
      "  Modified Time: 103\n",
      "  Reference Count: 2\n",
      "  Registered Events: (none)\n",
      "  Executive: 000001D373520AA0\n",
      "  ErrorCode: No error\n",
      "  Information: 000001D374C024E0\n",
      "  AbortExecute: Off\n",
      "  Progress: 0\n",
      "  Progress Text: (None)\n",
      "  Theta Resolution: 8\n",
      "  Phi Resolution: 8\n",
      "  Theta Start: 0\n",
      "  Phi Start: 0\n",
      "  Theta End: 360\n",
      "  Phi End: 180\n",
      "  Radius: 0.5\n",
      "  Center: (0, 0, 0)\n",
      "  LatLong Tessellation: 0\n",
      "  Output Points Precision: 0\n",
      "  Generate Normals: 1\n",
      "\n",
      "\n"
     ]
    }
   ],
   "source": [
    "sphereSource = vtkSphereSource()\n",
    "print(sphereSource)"
   ]
  },
  {
   "cell_type": "markdown",
   "id": "5ea16f10-b1ef-4f33-b5c0-2b287327619a",
   "metadata": {},
   "source": [
    "## Lectores de formatos gráficos\n",
    "\n",
    "### Formato .obj"
   ]
  },
  {
   "cell_type": "code",
   "execution_count": 22,
   "id": "09233e08-98c5-4df0-80e8-38dbdb9e765c",
   "metadata": {},
   "outputs": [
    {
     "name": "stdout",
     "output_type": "stream",
     "text": [
      "vtkOBJReader (000001D3734E9DE0)\n",
      "  Debug: Off\n",
      "  Modified Time: 3195\n",
      "  Reference Count: 2\n",
      "  Registered Events: (none)\n",
      "  Executive: 000001D374C64DD0\n",
      "  ErrorCode: No error\n",
      "  Information: 000001D3753861D0\n",
      "  AbortExecute: Off\n",
      "  Progress: 0\n",
      "  Progress Text: (None)\n",
      "  FileName: data/cow.obj\n",
      "  Comment: (none)\n",
      "\n",
      "\n"
     ]
    }
   ],
   "source": [
    "fileName = 'data/cow.obj'\n",
    "\n",
    "reader = vtkOBJReader()\n",
    "reader.SetFileName(fileName)\n",
    "\n",
    "print(reader)"
   ]
  },
  {
   "cell_type": "code",
   "execution_count": 23,
   "id": "74028a95-085e-4afa-94ff-127c6ced32c6",
   "metadata": {},
   "outputs": [
    {
     "name": "stdout",
     "output_type": "stream",
     "text": [
      "vtkOBJReader (000001D3734E9DE0)\n",
      "  Debug: Off\n",
      "  Modified Time: 3346\n",
      "  Reference Count: 2\n",
      "  Registered Events: (none)\n",
      "  Executive: 000001D374C64DD0\n",
      "  ErrorCode: No error\n",
      "  Information: 000001D3753861D0\n",
      "  AbortExecute: Off\n",
      "  Progress: 1\n",
      "  Progress Text: (None)\n",
      "  FileName: data/cow.obj\n",
      "  Comment: Tue Oct 27 19:16:44 1992\n",
      "Cow (moo)\n",
      "Courtesy of:\n",
      "Viewpoint Animation Engineering\n",
      "870 West Center\n",
      "Orem, Utah 84057\n",
      "(801)224-2222\n",
      "1-800-DATASET\n",
      "\n",
      "\n"
     ]
    }
   ],
   "source": [
    "# Salvo que se requiera expresamente, no se acualiza el flujo de visualización\n",
    "# Normalmente se actualiza automáticamente al visualizar\n",
    "# pero, si se necesita una actualización antes de visualizar puede usarse Update()\n",
    "reader.Update()\n",
    "\n",
    "print(reader)"
   ]
  },
  {
   "cell_type": "markdown",
   "id": "fce9402a-d9a2-4630-a4e3-172a2e0129a5",
   "metadata": {},
   "source": [
    "## Mapeado a primitivas gráficas\n",
    "\n",
    "Mapeamos de objeto geométrico a modelo superficial poligonal"
   ]
  },
  {
   "cell_type": "code",
   "execution_count": 7,
   "id": "bf7d074e-a954-4d92-9a92-2a45ebe863fe",
   "metadata": {},
   "outputs": [],
   "source": [
    "source = coneSource # Se puede cambiar la fuente"
   ]
  },
  {
   "cell_type": "code",
   "execution_count": 8,
   "id": "30e56fec-f479-49a5-b102-bf29d5d09a80",
   "metadata": {},
   "outputs": [],
   "source": [
    "mapper = vtkPolyDataMapper()\n",
    "mapper.SetInputConnection(source.GetOutputPort())"
   ]
  },
  {
   "cell_type": "markdown",
   "id": "f13b6e42-1ec5-472e-bd1c-75b49d56935a",
   "metadata": {},
   "source": [
    "## Definimos el actor\n",
    "\n",
    "Al actor se le asocia un *mapper* (que, a su vez, conecta con los datos) y se definenen su propiedades"
   ]
  },
  {
   "cell_type": "code",
   "execution_count": 9,
   "id": "e25ac849-5311-4b20-a6ba-16f23df29782",
   "metadata": {},
   "outputs": [
    {
     "name": "stdout",
     "output_type": "stream",
     "text": [
      "vtkOpenGLActor (000001D371E082B0)\n",
      "  Debug: Off\n",
      "  Modified Time: 238\n",
      "  Reference Count: 1\n",
      "  Registered Events: (none)\n",
      "  Dragable: On\n",
      "  Pickable: On\n",
      "  AllocatedRenderTime: 10\n",
      "  EstimatedRenderTime: 0\n",
      "  NumberOfConsumers: 0\n",
      "  RenderTimeMultiplier: 1\n",
      "  Visibility: On\n",
      "  PropertyKeys: none.\n",
      "  useBounds: 1\n",
      "  IsIdentity: true\n",
      "  Position: (0, 0, 0)\n",
      "  Orientation: (0, 0, 0)\n",
      "  Origin: (0, 0, 0)\n",
      "  Scale: (1, 1, 1)\n",
      "  Bounds: \n",
      "    Xmin,Xmax: (-0.5, 0.5)\n",
      "    Ymin,Ymax: (-0.5, 0.5)\n",
      "    Zmin,Zmax: (-0.433013, 0.433013)\n",
      "  UserTransform: (none)\n",
      "  UserMatrix: (none)\n",
      "  Mapper:\n",
      "    Debug: Off\n",
      "    Modified Time: 228\n",
      "    Reference Count: 3\n",
      "    Registered Events: (none)\n",
      "    Executive: 000001D373520CE0\n",
      "    ErrorCode: No error\n",
      "    Information: 000001D374C04070\n",
      "    AbortExecute: Off\n",
      "    Progress: 0\n",
      "    Progress Text: (None)\n",
      "    TimeToDraw: 0.0001\n",
      "    ClippingPlanes: (none)\n",
      "    Lookup Table: (none)\n",
      "    Scalar Visibility: On\n",
      "    Static: Off\n",
      "    Scalar Range: (0, 1)\n",
      "    UseLookupTableScalarRange: 0\n",
      "    Color Mode: Default\n",
      "    InterpolateScalarsBeforeMapping: Off\n",
      "    Scalar Mode: Default\n",
      "    RenderTime: 0\n",
      "    Resolve Coincident Topology: Off\n",
      "    CoincidentPointOffset: 0\n",
      "    CoincidentLineOffset: 0\n",
      "    CoincidentPolygonOffset: 0\n",
      "    CoincidentLineFactor: 0\n",
      "    CoincidentPolygonFactor: 0\n",
      "    Piece : 0\n",
      "    NumberOfPieces : 1\n",
      "    GhostLevel: 0\n",
      "    Number of sub pieces: 1\n",
      "  Property: (none)\n",
      "  BackfaceProperty: (none)\n",
      "  Texture: (none)\n",
      "  ForceOpaque: false\n",
      "  ForceTranslucent: false\n",
      "\n",
      "\n"
     ]
    }
   ],
   "source": [
    "actor = vtkActor()\n",
    "\n",
    "#Asociammos mapper\n",
    "actor.SetMapper(mapper)\n",
    "\n",
    "print(actor)"
   ]
  },
  {
   "cell_type": "code",
   "execution_count": 10,
   "id": "8ce3d5a8-6814-4f42-9e10-ce4891546167",
   "metadata": {},
   "outputs": [
    {
     "name": "stdout",
     "output_type": "stream",
     "text": [
      "vtkOpenGLActor (000001D371E082B0)\n",
      "  Debug: Off\n",
      "  Modified Time: 367\n",
      "  Reference Count: 1\n",
      "  Registered Events: (none)\n",
      "  Dragable: On\n",
      "  Pickable: On\n",
      "  AllocatedRenderTime: 10\n",
      "  EstimatedRenderTime: 0\n",
      "  NumberOfConsumers: 0\n",
      "  RenderTimeMultiplier: 1\n",
      "  Visibility: On\n",
      "  PropertyKeys: none.\n",
      "  useBounds: 1\n",
      "  IsIdentity: true\n",
      "  Position: (0, 0, 0)\n",
      "  Orientation: (0, 0, 0)\n",
      "  Origin: (0, 0, 0)\n",
      "  Scale: (1, 1, 1)\n",
      "  Bounds: \n",
      "    Xmin,Xmax: (-0.5, 0.5)\n",
      "    Ymin,Ymax: (-0.5, 0.5)\n",
      "    Zmin,Zmax: (-0.433013, 0.433013)\n",
      "  UserTransform: (none)\n",
      "  UserMatrix: (none)\n",
      "  Mapper:\n",
      "    Debug: Off\n",
      "    Modified Time: 228\n",
      "    Reference Count: 3\n",
      "    Registered Events: (none)\n",
      "    Executive: 000001D373520CE0\n",
      "    ErrorCode: No error\n",
      "    Information: 000001D374C04070\n",
      "    AbortExecute: Off\n",
      "    Progress: 0\n",
      "    Progress Text: (None)\n",
      "    TimeToDraw: 0.0001\n",
      "    ClippingPlanes: (none)\n",
      "    Lookup Table: (none)\n",
      "    Scalar Visibility: On\n",
      "    Static: Off\n",
      "    Scalar Range: (0, 1)\n",
      "    UseLookupTableScalarRange: 0\n",
      "    Color Mode: Default\n",
      "    InterpolateScalarsBeforeMapping: Off\n",
      "    Scalar Mode: Default\n",
      "    RenderTime: 0\n",
      "    Resolve Coincident Topology: Off\n",
      "    CoincidentPointOffset: 0\n",
      "    CoincidentLineOffset: 0\n",
      "    CoincidentPolygonOffset: 0\n",
      "    CoincidentLineFactor: 0\n",
      "    CoincidentPolygonFactor: 0\n",
      "    Piece : 0\n",
      "    NumberOfPieces : 1\n",
      "    GhostLevel: 0\n",
      "    Number of sub pieces: 1\n",
      "  Property:\n",
      "    Debug: Off\n",
      "    Modified Time: 367\n",
      "    Reference Count: 1\n",
      "    Registered Events: (none)\n",
      "    Ambient: 0\n",
      "    Ambient Color: (1, 1, 1)\n",
      "    Diffuse: 1\n",
      "    Diffuse Color: (1, 0.894118, 0.768627)\n",
      "    Edge Color: (0, 0, 0)\n",
      "    Edge Visibility: Off\n",
      "    Vertex Color: (0.5, 1, 0.5)\n",
      "    Vertex Visibility: Off\n",
      "    Interpolation: VTK_GOURAUD\n",
      "    Opacity: 1\n",
      "    Representation: VTK_SURFACE\n",
      "    Specular: 0\n",
      "    Specular Color: (1, 1, 1)\n",
      "    Specular Power: 1\n",
      "    Backface Culling: Off\n",
      "    Frontface Culling: Off\n",
      "    Point size: 1\n",
      "    Line width: 1\n",
      "    Line stipple pattern: 65535\n",
      "    Line stipple repeat factor: 1\n",
      "    Lighting: On\n",
      "    RenderPointsAsSpheres: Off\n",
      "    RenderLinesAsTubes: Off\n",
      "    ShowTexturesOnBackface: On\n",
      "    Shading: Off\n",
      "    MaterialName: (none)\n",
      "    Color: (1, 1, 1)\n",
      "    EmissiveFactor: (1, 1, 1)\n",
      "    NormalScale: 1\n",
      "    OcclusionStrength: 1\n",
      "    Metallic: 0\n",
      "    Roughness: 0.5\n",
      "  BackfaceProperty: (none)\n",
      "  Texture: (none)\n",
      "  ForceOpaque: false\n",
      "  ForceTranslucent: false\n",
      "\n",
      "\n"
     ]
    }
   ],
   "source": [
    "colorObjeto = 'bisque'\n",
    "\n",
    "#Definimos propiedades en el objeto Property, que es un atributo del actor\n",
    "actor.GetProperty().SetDiffuseColor(colors.GetColor3d(colorObjeto))\n",
    "\n",
    "print(actor)"
   ]
  },
  {
   "cell_type": "markdown",
   "id": "389a6dbe-74ac-4e2a-948f-af04b001fad9",
   "metadata": {},
   "source": [
    "## Visualización\n",
    "\n",
    "El *renderizador* integra actores, cámaras y luces para hacer la visualización en una ventana.\n",
    "\n",
    "Al hacerse una instancia de un renderizador, se inicializa una cámara con valores por defecto"
   ]
  },
  {
   "cell_type": "code",
   "execution_count": 11,
   "id": "35d14a1a-2c4c-4c1a-a247-e2e91c16bbfc",
   "metadata": {},
   "outputs": [
    {
     "name": "stdout",
     "output_type": "stream",
     "text": [
      "vtkOpenGLRenderer (000001D36EF4AAE0)\n",
      "  Debug: Off\n",
      "  Modified Time: 376\n",
      "  Reference Count: 1\n",
      "  Registered Events: (none)\n",
      "  Aspect: (1, 1)\n",
      "  PixelAspect: (1, 1)\n",
      "  Background: (0, 0, 0)\n",
      "  Background2: (0.2, 0.2, 0.2)\n",
      "  BackgroundAlpha: 0\n",
      "  GradientBackground: Off\n",
      "  Viewport: (0, 0, 1, 1)\n",
      "  Displaypoint: (0, 0, 0)\n",
      "  Viewpoint: (0, 0, 0)\n",
      "  Worldpoint: (0, 0, 0, 0)\n",
      "  Pick Position X1 Y1: -1 -1\n",
      "  Pick Position X2 Y2: -1 -1\n",
      "  PickedZ: 1\n",
      "  Props:\n",
      "    Debug: Off\n",
      "    Modified Time: 377\n",
      "    Reference Count: 1\n",
      "    Registered Events: (none)\n",
      "    Number Of Items: 0\n",
      "  PickResultProps:\n",
      "  nullptr\n",
      "  Near Clipping Plane Tolerance: 0\n",
      "  ClippingRangeExpansion: 0.5\n",
      "  Ambient: (1, 1, 1)\n",
      "  Backing Store: Off\n",
      "  Display Point: (0, 0, 0)\n",
      "  Lights:\n",
      "    Debug: Off\n",
      "    Modified Time: 379\n",
      "    Reference Count: 1\n",
      "    Registered Events: (none)\n",
      "    Number Of Items: 0\n",
      "  Light Follow Camera: On\n",
      "  View Point: (0, 0, 0)\n",
      "  Two Sided Lighting: On\n",
      "  Automatic Light Creation: On\n",
      "  Layer = 0\n",
      "  PreserveDepthBuffer: Off\n",
      "  PreserveColorBuffer: Off\n",
      "  Interactive = On\n",
      "  Allocated Render Time: 100\n",
      "  Last Time To Render (Seconds): -1\n",
      "  TimeFactor: 1\n",
      "  Erase: On\n",
      "  Draw: On\n",
      "  UseDepthPeeling: Off\n",
      "  OcclusionRation: 0\n",
      "  MaximumNumberOfPeels: 4\n",
      "  LastRenderingUsedDepthPeeling: Off\n",
      "  Delegate:null\n",
      "  Selector: 0000000000000000\n",
      "  TexturedBackground: Off\n",
      "  BackgroundTexture:null\n",
      "  RightBackgroundTexture:null\n",
      "  Pass:null\n",
      "\n",
      "\n"
     ]
    }
   ],
   "source": [
    "renderer = vtkRenderer() # Renderizador\n",
    "print(renderer)"
   ]
  },
  {
   "cell_type": "code",
   "execution_count": 12,
   "id": "c2c01af6-fa06-4476-ac69-321efe76a086",
   "metadata": {},
   "outputs": [
    {
     "name": "stdout",
     "output_type": "stream",
     "text": [
      "vtkOpenGLCamera (000001D374B713F0)\n",
      "  Debug: Off\n",
      "  Modified Time: 388\n",
      "  Reference Count: 2\n",
      "  Registered Events: (none)\n",
      "  ClippingRange: (0.01, 1000.01)\n",
      "  DirectionOfProjection: (0, 0, -1)\n",
      "  Distance: 1\n",
      "  EyeAngle: 2\n",
      "  FocalDisk: 1\n",
      "  FocalDistance: 0\n",
      "  FocalPoint: (0, 0, 0)\n",
      "  ViewShear: (0, 0, 1)\n",
      "  ParallelProjection: Off\n",
      "  ParallelScale: 1\n",
      "  Position: (0, 0, 1)\n",
      "  Stereo: Off\n",
      "  Left Eye: 1\n",
      "  Thickness: 1000\n",
      "  ViewAngle: 30\n",
      "  UseHorizontalViewAngle: 0\n",
      "  UserTransform: (none)\n",
      "(none)\n",
      "  FreezeFocalPoint: (none)\n",
      "  ViewPlaneNormal: (-0, -0, 1)\n",
      "  ViewUp: (0, 1, 0)\n",
      "  WindowCenter: (0, 0)\n",
      "  UseOffAxisProjection: (0)\n",
      "  ScreenBottomLeft: (-0.5, -0.5, -0.5)\n",
      "  ScreenBottomRight: (0.5, -0.5, -0.5)\n",
      "  ScreenTopRight: (0.5, 0.5, -0.5)\n",
      "  EyeSeparation: (0.06)\n",
      "  WorldToScreenMatrix: (000001D371E0C780\n",
      "    Debug: Off\n",
      "    Modified Time: 390\n",
      "    Reference Count: 1\n",
      "    Registered Events: (none)\n",
      "    Elements:\n",
      "        1 0 0 0 \n",
      "        0 1 0 0 \n",
      "        0 0 1 0 \n",
      "        0 0 0 1 \n",
      "  )\n",
      "  EyeTransformMatrix: (000001D371E0CAB0\n",
      "    Debug: Off\n",
      "    Modified Time: 392\n",
      "    Reference Count: 1\n",
      "    Registered Events: (none)\n",
      "    Elements:\n",
      "        1 0 0 0 \n",
      "        0 1 0 0 \n",
      "        0 0 1 0 \n",
      "        0 0 0 1 \n",
      "  )\n",
      "  ModelTransformMatrix: (000001D371E0CBC0\n",
      "    Debug: Off\n",
      "    Modified Time: 394\n",
      "    Reference Count: 1\n",
      "    Registered Events: (none)\n",
      "    Elements:\n",
      "        1 0 0 0 \n",
      "        0 1 0 0 \n",
      "        0 0 1 0 \n",
      "        0 0 0 1 \n",
      "  )\n",
      "  ProjectionTransform: (000001D3735325F0\n",
      "    Debug: Off\n",
      "    Modified Time: 399\n",
      "    Reference Count: 1\n",
      "    Registered Events: (none)\n",
      "    Inverse: (0000000000000000)\n",
      "    Matrix: (000001D373395AA0)\n",
      "      Debug: Off\n",
      "      Modified Time: 444\n",
      "      Reference Count: 1\n",
      "      Registered Events: (none)\n",
      "      Elements:\n",
      "            1 0 0 0 \n",
      "            0 1 0 0 \n",
      "            0 0 1 0 \n",
      "            0 0 0 1 \n",
      "    Input: (0000000000000000)\n",
      "    InverseFlag: 0\n",
      "    NumberOfConcatenatedTransforms: 0\n",
      "  )\n",
      "\n",
      "\n"
     ]
    }
   ],
   "source": [
    "print(renderer.GetActiveCamera())\n",
    "# Por defecto la cámara está localizada en (0, 0, 1)\n",
    "# Y su dirección de proyección es -z (0, 0, -1)\n",
    "# El punto focal (donde está enfocada) es el origen\n",
    "# la dirección \"arriba\" es y (0, 1, 0)\n",
    "# Y el ángulo de visión son 30º"
   ]
  },
  {
   "cell_type": "markdown",
   "id": "c435a267-9731-4055-9001-6e4e2d7673ca",
   "metadata": {},
   "source": [
    "Se pueden variar atributos de\n",
    "l *renderizador*, tales como el color de fondo.\n",
    "\n",
    "se añaden los actores y, en su caso, luces o nuevas cámaras."
   ]
  },
  {
   "cell_type": "code",
   "execution_count": 13,
   "id": "0eb6e407-5c45-47f8-8198-caa8e5e996d8",
   "metadata": {},
   "outputs": [],
   "source": [
    "colorBG = 'Salmon'\n",
    "\n",
    "# Se pone color de fondo en el renderer\n",
    "renderer.SetBackground(colors.GetColor3d(colorBG))\n",
    "\n",
    "# Se añade el actor al renderer\n",
    "renderer.AddActor(actor)"
   ]
  },
  {
   "cell_type": "markdown",
   "id": "2418601f-d12d-4f2f-baac-faff54538e19",
   "metadata": {},
   "source": [
    "### Ventana de renderizado\n",
    "\n",
    "Aquí puedes modificar atributos del objeto para volverlos a visualizar"
   ]
  },
  {
   "cell_type": "code",
   "execution_count": 14,
   "id": "4aa927e3-6b2a-4677-a0ca-2811f1dcb519",
   "metadata": {},
   "outputs": [],
   "source": [
    "coneSource.SetResolution(8)\n",
    "\n",
    "#Definimos propiedades en el objeto Property, que es un atributo del actor\n",
    "actor.GetProperty().SetDiffuseColor(colors.GetColor3d('brown_madder'))\n",
    "\n",
    "# Se pone color de fondo en el renderer\n",
    "renderer.SetBackground(colors.GetColor3d('snow'))\n",
    "\n",
    "#actor.GetProperty().SetInterpolationToFlat()\n",
    "actor.GetProperty().SetInterpolationToGouraud()"
   ]
  },
  {
   "cell_type": "markdown",
   "id": "d3125d2d-ccc3-4c1b-8573-8e68bbeb6f91",
   "metadata": {},
   "source": [
    "Se inicializa la ventan de renderizado, y se da valores a sus atributos.\n",
    "\n",
    "Se añade uno o más renderizadores a la ventana. Si son más de uno, hay que indicarlar los *viewports*, para que cada uno ocupe su espacio en la misma. Aqií solo tenemos un *rendeerizador*."
   ]
  },
  {
   "cell_type": "code",
   "execution_count": 18,
   "id": "412761eb-3cec-44eb-ba96-017ee3d041ad",
   "metadata": {},
   "outputs": [
    {
     "name": "stdout",
     "output_type": "stream",
     "text": [
      "vtkWin32OpenGLRenderWindow (000001D3736406F0)\n",
      "  Debug: Off\n",
      "  Modified Time: 1922\n",
      "  Reference Count: 1\n",
      "  Registered Events: (none)\n",
      "  Erase: On\n",
      "  Window Name: Modelo\n",
      "  Position: (0, 0)\n",
      "  Size: (640, 480)\n",
      "  Mapped: 0\n",
      "  ShowWindow: 1\n",
      "  UseOffScreenBuffers: 0\n",
      "  Double Buffered: 1\n",
      "  DPI: 72\n",
      "  TileScale: (1, 1)\n",
      "  TileViewport: (0, 0, 1, 1)\n",
      "  Borders: On\n",
      "  Double Buffer: On\n",
      "  Full Screen: Off\n",
      "  Renderers:\n",
      "    Debug: Off\n",
      "    Modified Time: 1920\n",
      "    Reference Count: 1\n",
      "    Registered Events: (none)\n",
      "    Number Of Items: 1\n",
      "  Stereo Capable Window Requested: No\n",
      "  Stereo Render: Off\n",
      "  Point Smoothing: Off\n",
      "  Line Smoothing: Off\n",
      "  Polygon Smoothing: Off\n",
      "  Abort Render: 0\n",
      "  Current Cursor: 0\n",
      "  Desired Update Rate: 0.0001\n",
      "  In Abort Check: 0\n",
      "  NeverRendered: 1\n",
      "  Interactor: 0000000000000000\n",
      "  Swap Buffers: On\n",
      "  Stereo Type: CrystalEyes\n",
      "  Number of Layers: 1\n",
      "  AlphaBitPlanes: On\n",
      "  UseSRGBColorSpace: Off\n",
      "  AnaglyphColorSaturation: 0.65\n",
      "  AnaglyphColorMask: 4 , 3\n",
      "  MultiSamples: 8\n",
      "  StencilCapable: False\n",
      "  ContextId: 0000000000000000\n",
      "  Next Window Id: 0000000000000000\n",
      "  Window Id: 0000000000000000\n",
      "\n",
      "\n"
     ]
    }
   ],
   "source": [
    "renderWindow = vtkRenderWindow() # Ventana\n",
    "\n",
    "renderWindow.AddRenderer(renderer) # Se añade el renderizador a la ventana\n",
    "\n",
    "# Atributos de la ventana de renderizado\n",
    "renderWindow.SetSize(640, 480)\n",
    "renderWindow.SetWindowName('Modelo')\n",
    "\n",
    "print(renderWindow)"
   ]
  },
  {
   "cell_type": "markdown",
   "id": "38f30658-96fb-41f8-a895-7ca0574dba08",
   "metadata": {},
   "source": [
    "Se inicializa la interacción para la ventana"
   ]
  },
  {
   "cell_type": "code",
   "execution_count": 19,
   "id": "f0dee809-e95e-4830-868b-78812c6aca0f",
   "metadata": {},
   "outputs": [],
   "source": [
    "# Se añade interacción a la ventana\n",
    "renderWindowInteractor = vtkRenderWindowInteractor()\n",
    "renderWindowInteractor.SetRenderWindow(renderWindow)"
   ]
  },
  {
   "cell_type": "markdown",
   "id": "00a051ec-756c-4d76-aef9-2bccf106efb5",
   "metadata": {},
   "source": [
    "Finalmente, podemos proceder a mostrar la ventana interactiva"
   ]
  },
  {
   "cell_type": "code",
   "execution_count": 20,
   "id": "a82a18fb-9912-434d-ba74-e779ccd2019e",
   "metadata": {},
   "outputs": [],
   "source": [
    "#Iniciamos renderizado e interacción\n",
    "renderWindow.Render()\n",
    "renderWindowInteractor.Start()\n",
    "# Pulsar q para terminar visualización\n",
    "\n",
    "#Necesario para eliminar la ventana\n",
    "del renderWindow, renderWindowInteractor"
   ]
  },
  {
   "cell_type": "code",
   "execution_count": null,
   "id": "9da791e5-756a-416d-a52d-70dcd80ee330",
   "metadata": {},
   "outputs": [],
   "source": []
  }
 ],
 "metadata": {
  "kernelspec": {
   "display_name": "Python [conda env:jra] *",
   "language": "python",
   "name": "conda-env-jra-py"
  },
  "language_info": {
   "codemirror_mode": {
    "name": "ipython",
    "version": 3
   },
   "file_extension": ".py",
   "mimetype": "text/x-python",
   "name": "python",
   "nbconvert_exporter": "python",
   "pygments_lexer": "ipython3",
   "version": "3.10.6"
  }
 },
 "nbformat": 4,
 "nbformat_minor": 5
}
