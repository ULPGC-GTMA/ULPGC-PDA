{
 "cells": [
  {
   "cell_type": "code",
   "execution_count": 1,
   "id": "2fb4aeeb-8ae0-4f11-b9b8-8abe4b9b6d47",
   "metadata": {},
   "outputs": [],
   "source": [
    "# Necesario para interactuar y renderizar con ventana\n",
    "# import vtkmodules.vtkInteractionStyle # Si no se pone, no funciona interacción\n",
    "# import vtkmodules.vtkRenderingOpenGL2 # Si no se pone, no abre ventana\n",
    "\n",
    "import vtk\n",
    "\n",
    "from vtk.vtkCommonColor import vtkNamedColors\n",
    "\n",
    "from vtk.vtkFiltersSources import vtkConeSource, vtkCubeSource, vtkCylinderSource, vtkSphereSource\n",
    "\n",
    "from vtk.vtkIOGeometry import vtkOBJReader\n",
    "\n",
    "from vtk.vtkRenderingCore import (\n",
    "    vtkActor,\n",
    "    vtkLight,\n",
    "    vtkCamera,\n",
    "    vtkPolyDataMapper,\n",
    "    vtkRenderWindow,\n",
    "    vtkRenderWindowInteractor,\n",
    "    vtkRenderer\n",
    ")"
   ]
  },
  {
   "cell_type": "code",
   "execution_count": 2,
   "id": "75d6421c-235c-4e7e-8689-5f8938efcbea",
   "metadata": {},
   "outputs": [],
   "source": [
    "coneSource = vtkConeSource()"
   ]
  },
  {
   "cell_type": "code",
   "execution_count": 3,
   "id": "670ea7b8-d5bc-47ec-bd62-98f70c535cbe",
   "metadata": {},
   "outputs": [],
   "source": [
    "coneMapper = vtkPolyDataMapper()\n",
    "coneMapper.SetInputConnection(coneSource.GetOutputPort())"
   ]
  },
  {
   "cell_type": "code",
   "execution_count": 4,
   "id": "36e64432-33d1-41ca-a5e3-110aa0fa401a",
   "metadata": {},
   "outputs": [],
   "source": [
    "coneActor = vtkActor()\n",
    "\n",
    "#Asociamos mapper\n",
    "coneActor.SetMapper(coneMapper)"
   ]
  },
  {
   "cell_type": "code",
   "execution_count": 5,
   "id": "235d5147-8114-40dc-a5fa-7c9478992587",
   "metadata": {},
   "outputs": [],
   "source": [
    "renderer = vtkRenderer() # Renderizador\n",
    "\n",
    "renderer.ResetCamera()\n",
    "renderer.LightFollowCameraOff()"
   ]
  },
  {
   "cell_type": "code",
   "execution_count": 6,
   "id": "11015902-e187-4e01-bdc9-20c1480093aa",
   "metadata": {},
   "outputs": [],
   "source": [
    "# Se añade el actor al renderer\n",
    "renderer.AddActor(coneActor)"
   ]
  },
  {
   "cell_type": "code",
   "execution_count": 7,
   "id": "97ed32da-ca64-4172-8a62-26832e9f89c9",
   "metadata": {},
   "outputs": [],
   "source": [
    "#Obtenemos cámara\n",
    "camera_0 = renderer.GetActiveCamera()"
   ]
  },
  {
   "cell_type": "code",
   "execution_count": 8,
   "id": "392a0fda-a75e-4572-9648-1e5ab2240924",
   "metadata": {},
   "outputs": [],
   "source": [
    "#Modificamos cámara\n",
    "camera_0.SetPosition(5,5,0)\n",
    "camera_0.ComputeViewPlaneNormal()\n",
    "\n",
    "#print(camera_0)"
   ]
  },
  {
   "cell_type": "code",
   "execution_count": 9,
   "id": "0dc816bc-1557-45e1-81db-e17ed59e909d",
   "metadata": {},
   "outputs": [
    {
     "name": "stdout",
     "output_type": "stream",
     "text": [
      "vtkOpenGLLight (000002042F0F3F30)\n",
      "  Debug: Off\n",
      "  Modified Time: 313\n",
      "  Reference Count: 3\n",
      "  Registered Events: (none)\n",
      "  AttenuationValues: (1, 0, 0)\n",
      "  AmbientColor: (0, 0, 0)\n",
      "  DiffuseColor: (1, 1, 1)\n",
      "  SpecularColor: (1, 1, 1)\n",
      "  Cone Angle: 30\n",
      "  Exponent: 1\n",
      "  Focal Point: (0, 0, 0)\n",
      "  Intensity: 1\n",
      "  Position: (5, 5, 0)\n",
      "  Positional: Off\n",
      "  Switch: On\n",
      "  LightType: Headlight\n",
      "  TransformMatrix: (none)\n",
      "  ShadowAttenuation: 1\n",
      "\n",
      "\n"
     ]
    }
   ],
   "source": [
    "#Obtenemos luz\n",
    "renderer.UpdateLights()\n",
    "lights=renderer.GetLights()\n",
    "luz_0 = lights.GetItemAsObject(0)\n",
    "print(luz_0)"
   ]
  },
  {
   "cell_type": "code",
   "execution_count": 10,
   "id": "52f6b2e6-c394-48b8-9fbe-6a87e923679d",
   "metadata": {},
   "outputs": [
    {
     "name": "stdout",
     "output_type": "stream",
     "text": [
      "vtkLightCollection (000002042F20D560)\n",
      "  Debug: Off\n",
      "  Modified Time: 311\n",
      "  Reference Count: 2\n",
      "  Registered Events: (none)\n",
      "  Number Of Items: 1\n",
      "\n",
      "\n"
     ]
    }
   ],
   "source": [
    "print(lights)"
   ]
  },
  {
   "cell_type": "code",
   "execution_count": 27,
   "id": "4ef946e2-381e-43ca-8bda-5bce1e238601",
   "metadata": {},
   "outputs": [],
   "source": [
    "# Modificamos luz\n",
    "luz_0.SetAmbientColor(1,1,1)\n",
    "luz_0.SetDiffuseColor(1,1,1)\n",
    "luz_0.SetSpecularColor(0,0,0)\n",
    "luz_0.SetConeAngle(2.0)\n",
    "luz_0.SetPositional(1)"
   ]
  },
  {
   "cell_type": "code",
   "execution_count": 28,
   "id": "076f1b13-7c2c-4e12-8486-f183dc5be7bc",
   "metadata": {},
   "outputs": [],
   "source": [
    "renderWindow = vtkRenderWindow() # Ventana\n",
    "\n",
    "renderWindow.AddRenderer(renderer) # Se añade el renderizador a la ventana\n",
    "\n",
    "# Atributos de la ventana de renderizado\n",
    "# renderWindow.SetSize(640, 480)\n",
    "# renderWindow.SetWindowName('Modelo')"
   ]
  },
  {
   "cell_type": "code",
   "execution_count": 29,
   "id": "45115ed8-2ac5-4f51-a515-6dd2421596c3",
   "metadata": {},
   "outputs": [],
   "source": [
    "# Se añade interacción a la ventana\n",
    "renderWindowInteractor = vtkRenderWindowInteractor()\n",
    "renderWindowInteractor.SetRenderWindow(renderWindow)"
   ]
  },
  {
   "cell_type": "code",
   "execution_count": 30,
   "id": "f33c5843-ff31-4700-b2eb-3248bb6d4ce4",
   "metadata": {},
   "outputs": [],
   "source": [
    "#Iniciamos renderizado e interacción\n",
    "renderWindow.Render()\n",
    "renderWindowInteractor.Start()\n",
    "# Pulsar q para terminar visualización\n",
    "\n",
    "#Necesario para eliminar la ventana\n",
    "del renderWindow, renderWindowInteractor"
   ]
  },
  {
   "cell_type": "code",
   "execution_count": null,
   "id": "32583636-7814-4ccf-ba71-d02265284ccb",
   "metadata": {},
   "outputs": [],
   "source": []
  },
  {
   "cell_type": "code",
   "execution_count": null,
   "id": "762be711-3269-4842-a10b-7070ac29e290",
   "metadata": {},
   "outputs": [],
   "source": []
  }
 ],
 "metadata": {
  "kernelspec": {
   "display_name": "Python [conda env:jra]",
   "language": "python",
   "name": "conda-env-jra-py"
  },
  "language_info": {
   "codemirror_mode": {
    "name": "ipython",
    "version": 3
   },
   "file_extension": ".py",
   "mimetype": "text/x-python",
   "name": "python",
   "nbconvert_exporter": "python",
   "pygments_lexer": "ipython3",
   "version": "3.10.6"
  }
 },
 "nbformat": 4,
 "nbformat_minor": 5
}
