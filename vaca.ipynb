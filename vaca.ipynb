{
 "cells": [
  {
   "cell_type": "code",
   "execution_count": 1,
   "id": "060aad29-2902-499c-9a4f-d098ba44e75e",
   "metadata": {},
   "outputs": [],
   "source": [
    "import vtk\n",
    "\n",
    "from vtk.vtkCommonColor import vtkNamedColors\n",
    "from vtk.vtkCommonTransforms import vtkTransform\n",
    "from vtk.vtkFiltersGeneral import vtkAxes\n",
    "from vtk.vtkRenderingAnnotation import vtkAxesActor\n",
    "from vtk.vtkIOGeometry import vtkOBJReader\n",
    "from vtk.vtkIOImage import vtkPNGWriter\n",
    "from vtk.vtkRenderingCore import (\n",
    "    vtkActor,\n",
    "    vtkPolyDataMapper,\n",
    "    vtkRenderWindow,\n",
    "    vtkRenderWindowInteractor,\n",
    "    vtkRenderer,\n",
    "    vtkWindowToImageFilter\n",
    ")"
   ]
  },
  {
   "cell_type": "code",
   "execution_count": 2,
   "id": "09b9f2df-a2df-4d9a-8181-0d1447fd562c",
   "metadata": {},
   "outputs": [],
   "source": [
    "fileName = 'data/cow.obj'"
   ]
  },
  {
   "cell_type": "code",
   "execution_count": 3,
   "id": "b5a82550-f0cc-4788-875d-93e2e188d7e8",
   "metadata": {},
   "outputs": [],
   "source": [
    "def Screenshot(fileName, renWin):\n",
    "    '''\n",
    "    Save a screenshot.\n",
    "    :param fileName:\n",
    "    :param renWin:\n",
    "    :return:\n",
    "    '''\n",
    "    renWin.EraseOff()\n",
    "    windowToImageFilter = vtkWindowToImageFilter()\n",
    "    windowToImageFilter.SetInput(renWin)\n",
    "    windowToImageFilter.SetScale(1)  # image quality\n",
    "    # We are not recording the alpha (transparency) channel.\n",
    "    # windowToImageFilter.SetInputBufferTypeToRGBA()\n",
    "    windowToImageFilter.SetInputBufferTypeToRGB()\n",
    "    # Read from the front buffer.\n",
    "    windowToImageFilter.ReadFrontBufferOff()\n",
    "    windowToImageFilter.Update()\n",
    "\n",
    "    writer = vtkPNGWriter()\n",
    "    writer.SetFileName(fileName)\n",
    "    writer.SetInputConnection(windowToImageFilter.GetOutputPort())\n",
    "    writer.Write()\n",
    "    renWin.EraseOn()"
   ]
  },
  {
   "cell_type": "code",
   "execution_count": 4,
   "id": "4b2371e9-9a56-4f93-831e-7a9908e762c3",
   "metadata": {},
   "outputs": [],
   "source": [
    "def Rotate_X(cowActor, ren, renWin):\n",
    "    \n",
    "    # Resetear actor\n",
    "    cowActor.SetOrientation(0.0, 0.0, 0.0)\n",
    "    cowActor.SetOrigin(0.0, 0.0, 0)\n",
    "    cowActor.SetPosition(0, 0, 0)\n",
    "\n",
    "    # Configuración de la cámara\n",
    "    ren.ResetCamera()\n",
    "    ren.ResetCameraClippingRange()\n",
    "    # Get the focal point.\n",
    "    bounds = cowActor.GetBounds()\n",
    "    fp = [0.0] * 3\n",
    "    for i in range(0, 3):\n",
    "        fp[i] = (bounds[i * 2 + 1] + bounds[i * 2]) / 2.0\n",
    "    # This closely matches the original illustration.\n",
    "    ren.GetActiveCamera().SetPosition(2, 25, 0)\n",
    "    ren.GetActiveCamera().SetFocalPoint(fp)\n",
    "    ren.GetActiveCamera().SetViewUp(0, 0, -1)\n",
    "    ren.ResetCameraClippingRange()\n",
    "    \n",
    "    # Renderizado\n",
    "    renWin.Render()\n",
    "    renWin.EraseOff()\n",
    "    # Seis rotaciones alrededor del eje OX.\n",
    "    for idx in range(0, 6):\n",
    "        cowActor.RotateX(60)\n",
    "        renWin.Render()\n",
    " \n",
    "    renWin.EraseOn()"
   ]
  },
  {
   "cell_type": "code",
   "execution_count": 5,
   "id": "75c1295a-0c8b-412b-a898-8c1dc0f8854b",
   "metadata": {},
   "outputs": [],
   "source": [
    "def Rotate_Y(cowActor, ren, renWin):\n",
    "    \n",
    "    # Resetear actor\n",
    "    cowActor.SetOrientation(0.0, 0.0, 0.0)\n",
    "    cowActor.SetOrigin(0.0, 0.0, 0)\n",
    "    cowActor.SetPosition(0, 0, 0)\n",
    "    \n",
    "    # Configuración de la cámara\n",
    "    ren.ResetCamera()\n",
    "    ren.ResetCameraClippingRange()    \n",
    "    # Get the focal point.\n",
    "    bounds = cowActor.GetBounds()\n",
    "    fp = [0.0] * 3\n",
    "    for i in range(0, 3):\n",
    "        fp[i] = (bounds[i * 2 + 1] + bounds[i * 2]) / 2.0\n",
    "    # This closely matches the original illustration.\n",
    "    ren.GetActiveCamera().SetPosition(2, 0, 25)\n",
    "    ren.GetActiveCamera().SetFocalPoint(fp)\n",
    "    ren.GetActiveCamera().SetViewUp(0, 1, 0)\n",
    "    ren.ResetCameraClippingRange()\n",
    "    \n",
    "    # Renderizado\n",
    "    renWin.Render()\n",
    "    renWin.EraseOff()\n",
    "    # Six rotations about the y axis.\n",
    "    for idx in range(0, 6):\n",
    "        cowActor.RotateY(60)\n",
    "        renWin.Render()\n",
    "    \n",
    "    renWin.EraseOn()"
   ]
  },
  {
   "cell_type": "code",
   "execution_count": 6,
   "id": "91bcc044-a6c1-4430-8967-63a62c2d9750",
   "metadata": {},
   "outputs": [],
   "source": [
    "def Rotate_Z(cowActor, ren, renWin):\n",
    "    \n",
    "    # Resetear actor\n",
    "    cowActor.SetOrientation(0.0, 0.0, 0.0)\n",
    "    cowActor.SetOrigin(0.0, 0.0, 0)\n",
    "    cowActor.SetPosition(0, 0, 0)\n",
    "    \n",
    "    # Configuración de la cámara\n",
    "    ren.ResetCamera()\n",
    "    ren.ResetCameraClippingRange()      \n",
    "    # Get the focal point.\n",
    "    bounds = cowActor.GetBounds()\n",
    "    fp = [0.0] * 3\n",
    "    for i in range(0, 3):\n",
    "        fp[i] = (bounds[i * 2 + 1] + bounds[i * 2]) / 2.0\n",
    "    # This closely matches the original illustration.\n",
    "    ren.GetActiveCamera().SetPosition(2, 0, 25)\n",
    "    ren.GetActiveCamera().SetFocalPoint(fp)\n",
    "    ren.GetActiveCamera().SetViewUp(0, 1, 0)\n",
    "    ren.ResetCameraClippingRange()\n",
    "    \n",
    "    # Renderizado\n",
    "    renWin.Render()\n",
    "    renWin.EraseOff()\n",
    "    # Six rotations about the z axis.\n",
    "    for idx in range(0, 6):\n",
    "        cowActor.RotateZ(60)\n",
    "        renWin.Render()\n",
    "    \n",
    "    renWin.EraseOn()"
   ]
  },
  {
   "cell_type": "code",
   "execution_count": 7,
   "id": "2796befc-bd39-4089-bec7-b13aea6abe4c",
   "metadata": {},
   "outputs": [],
   "source": [
    "def Rotate_XY(cowActor, ren, renWin):\n",
    "    \n",
    "    # Resetear actor\n",
    "    cowActor.SetOrientation(0.0, 0.0, 0.0)\n",
    "    cowActor.SetOrigin(0.0, 0.0, 0)\n",
    "    cowActor.SetPosition(0, 0, 0)\n",
    "    \n",
    "    # Configuración de la cámara\n",
    "    ren.ResetCamera()\n",
    "    ren.ResetCameraClippingRange()   \n",
    "    # Get the focal point.\n",
    "    bounds = cowActor.GetBounds()\n",
    "    fp = [0.0] * 3\n",
    "    for i in range(0, 3):\n",
    "        fp[i] = (bounds[i * 2 + 1] + bounds[i * 2]) / 2.0\n",
    "    # This closely matches the original illustration.\n",
    "    # ren.GetActiveCamera().SetPosition(2, 0, 24)\n",
    "    ren.GetActiveCamera().SetPosition(2, 0, 25)\n",
    "    ren.GetActiveCamera().SetFocalPoint(fp)\n",
    "    ren.GetActiveCamera().SetViewUp(0, 1, 0)\n",
    "    ren.ResetCameraClippingRange()\n",
    "    \n",
    "    # Renderizado\n",
    "    renWin.Render()\n",
    "    renWin.EraseOff()\n",
    "    # First a rotation about the x axis, then six rotations about the y axis.\n",
    "    cowActor.RotateX(60)\n",
    "    for idx in range(0, 6):\n",
    "        cowActor.RotateY(60)\n",
    "        renWin.Render()\n",
    "    \n",
    "    cowActor.RotateX(-60)\n",
    "\n",
    "    renWin.EraseOn()"
   ]
  },
  {
   "cell_type": "code",
   "execution_count": 8,
   "id": "214c6698-e80c-4469-ae8c-638d339f6d39",
   "metadata": {},
   "outputs": [],
   "source": [
    "def Rotate_V_0(cowActor, ren, renWin):\n",
    "    # The cow rotating about a vector passing through her nose.\n",
    "    # With the origin at (0, 0, 0).\n",
    "\n",
    "    # Resetear actor\n",
    "    cowActor.SetOrientation(0.0, 0.0, 0.0)\n",
    "    cowActor.SetOrigin(0.0, 0.0, 0)\n",
    "    cowActor.SetPosition(0, 0, 0)\n",
    "    \n",
    "    # Configuración de la cámara\n",
    "    ren.ResetCamera()\n",
    "    ren.ResetCameraClippingRange()    \n",
    "    # Get the focal point.\n",
    "    bounds = cowActor.GetBounds()\n",
    "    fp = [0.0] * 3\n",
    "    for i in range(0, 3):\n",
    "        fp[i] = (bounds[i * 2 + 1] + bounds[i * 2]) / 2.0\n",
    "    cowPos = vtkTransform()\n",
    "    cowPos.Identity()\n",
    "    cowPos.SetMatrix(cowActor.GetMatrix())\n",
    "    cowTransform = vtkTransform()\n",
    "    cowTransform.Identity()\n",
    "    cowActor.SetUserMatrix(cowTransform.GetMatrix())\n",
    "    # This closely matches the original illustration.\n",
    "    ren.GetActiveCamera().SetPosition(16, 9, -12)\n",
    "    ren.GetActiveCamera().SetFocalPoint(fp)\n",
    "    ren.ResetCameraClippingRange()\n",
    "    \n",
    "    # Renderizado \n",
    "    renWin.Render()\n",
    "    renWin.EraseOff()\n",
    "    for idx in range(0, 6):\n",
    "        cowActor.RotateWXYZ(60, 2.19574, -1.42455, -0.0331036)\n",
    "        renWin.Render()\n",
    "    \n",
    "    renWin.EraseOn()\n",
    "    # Put the cow back on the origin.\n",
    "    # for idx in range(0, 6):\n",
    "    #     cowActor.RotateWXYZ(-60, 2.19574, -1.42455, -0.0331036)\n",
    "    # cowActor.SetUserMatrix(cowPos.GetMatrix())\n",
    "    # ren.GetActiveCamera().SetPosition(0, 0, 1)\n",
    "    # ren.GetActiveCamera().SetViewUp(0, 1, 0)\n",
    "    # ren.ResetCamera()"
   ]
  },
  {
   "cell_type": "code",
   "execution_count": 9,
   "id": "00b35a62-5a9a-42b5-9f99-da7a08efce7d",
   "metadata": {},
   "outputs": [],
   "source": [
    "def Rotate_V_V(cowActor, ren, renWin):\n",
    "    # The cow rotating about a vector passing through her nose.\n",
    "    # With the origin at (6.11414, 1.27386, 0.015175).\n",
    "        \n",
    "    # Resetear actor\n",
    "    cowActor.SetOrientation(0.0, 0.0, 0.0)\n",
    "    cowActor.SetOrigin(0.0, 0.0, 0)\n",
    "    cowActor.SetPosition(0, 0, 0)\n",
    "    \n",
    "    # Configuración de la cámara\n",
    "    ren.ResetCamera()\n",
    "    ren.ResetCameraClippingRange()\n",
    "    # Get the focal point.\n",
    "    bounds = cowActor.GetBounds()\n",
    "    fp = [0.0] * 3\n",
    "    for i in range(0, 3):\n",
    "        fp[i] = (bounds[i * 2 + 1] + bounds[i * 2]) / 2.0\n",
    "    \n",
    "    cowPos = vtkTransform()\n",
    "    cowPos.Identity()\n",
    "    cowPos.SetMatrix(cowActor.GetMatrix())\n",
    "    cowActor.SetOrigin(6.11414, 1.27386, 0.015175)  # The cow's nose\n",
    "    cowTransform = vtkTransform()\n",
    "    cowTransform.Identity()\n",
    "    cowActor.SetUserMatrix(cowTransform.GetMatrix())\n",
    "    # This closely matches the original illustration.\n",
    "    ren.GetActiveCamera().SetPosition(31, 23, -21)\n",
    "    ren.GetActiveCamera().SetFocalPoint(fp)\n",
    "    ren.ResetCameraClippingRange()\n",
    "    \n",
    "    # Renderizado\n",
    "    renWin.Render()\n",
    "    renWin.EraseOff()\n",
    "    for idx in range(0, 6):\n",
    "        cowActor.RotateWXYZ(60, 2.19574, -1.42455, -0.0331036)\n",
    "        renWin.Render()\n",
    "\n",
    "    renWin.EraseOn()\n",
    "    # Put the cow back on the origin.\n",
    "    # for idx in range(0, 6):\n",
    "    #     cowActor.RotateWXYZ(-60, 2.19574, -1.42455, -0.0331036)\n",
    "    # cowActor.SetUserMatrix(cowPos.GetMatrix())"
   ]
  },
  {
   "cell_type": "code",
   "execution_count": 10,
   "id": "86033f36-bc0c-4139-bfc1-5a0b6f768615",
   "metadata": {},
   "outputs": [],
   "source": [
    "def Walk(cowActor, ren, renWin):\n",
    "    # The cow 'walking' around the global origin\n",
    "    cowPos = vtkTransform()\n",
    "    cowPos.Identity()\n",
    "    cowPos.SetMatrix(cowActor.GetMatrix())\n",
    "    \n",
    "    # Resetear actor\n",
    "    cowActor.SetOrientation(0.0, 0.0, 0.0)\n",
    "    cowActor.SetOrigin(0.0, 0.0, 0.0)\n",
    "    \n",
    "    # Get the focal point.\n",
    "    bounds = cowActor.GetBounds()\n",
    "    fp = [0.0] * 3\n",
    "    for i in range(0, 3):\n",
    "        fp[i] = (bounds[i * 2 + 1] + bounds[i * 2]) / 2.0\n",
    "    \n",
    "    cowTransform = vtkTransform()\n",
    "    cowTransform.Identity()\n",
    "    cowTransform.Translate(0, 0, 5)\n",
    "    cowActor.SetUserMatrix(cowTransform.GetMatrix())\n",
    "    # This closely matches the original illustration.\n",
    "    ren.GetActiveCamera().SetPosition(1, 24, 16)\n",
    "    ren.GetActiveCamera().SetFocalPoint(fp)\n",
    "    ren.GetActiveCamera().SetViewUp(0, 0, -1)\n",
    "    ren.ResetCameraClippingRange()\n",
    "    \n",
    "    # Renderizar\n",
    "    renWin.Render()\n",
    "    renWin.EraseOff()\n",
    "    for idx in range(1, 7):\n",
    "        cowTransform.Identity()\n",
    "        cowTransform.RotateY(idx * 60)\n",
    "        cowTransform.Translate(0, 0, 5)\n",
    "        cowActor.SetUserMatrix(cowTransform.GetMatrix())\n",
    "        renWin.Render()\n",
    "\n",
    "    renWin.EraseOn()\n",
    "    # Walkies are over, put the cow back on the origin.\n",
    "    # cowActor.SetUserMatrix(cowPos.GetMatrix())"
   ]
  },
  {
   "cell_type": "code",
   "execution_count": null,
   "id": "5daa48c0-ace6-4f52-91f2-4b786ea3d7f1",
   "metadata": {},
   "outputs": [],
   "source": []
  },
  {
   "cell_type": "code",
   "execution_count": 11,
   "id": "57ae6d42-4af3-4dfd-ac57-2e2ce9b5e2c4",
   "metadata": {},
   "outputs": [],
   "source": [
    "colors = vtkNamedColors()\n",
    "# Set the background color.\n",
    "colors.SetColor('BkgColor1', [60, 93, 144, 255])\n",
    "colors.SetColor('BkgColor2', [26, 51, 102, 255])"
   ]
  },
  {
   "cell_type": "code",
   "execution_count": 12,
   "id": "6e28df2d-a0be-41e4-9dc8-9b4b9dd17612",
   "metadata": {},
   "outputs": [],
   "source": [
    "# Vaca\n",
    "cow = vtkOBJReader()\n",
    "cow.SetFileName(fileName)\n",
    "cow.Update()"
   ]
  },
  {
   "cell_type": "code",
   "execution_count": 13,
   "id": "e8666087-175e-4b38-abe6-f9d330e9b7db",
   "metadata": {},
   "outputs": [
    {
     "name": "stdout",
     "output_type": "stream",
     "text": [
      "Position =  (0.0, 0.0, 0.0) \tOrientation =  (0.0, -0.0, 0.0)\n"
     ]
    }
   ],
   "source": [
    "cowMapper = vtkPolyDataMapper()\n",
    "cowMapper.SetInputConnection(cow.GetOutputPort())\n",
    "cowMapper.ScalarVisibilityOff()\n",
    "\n",
    "cowActor = vtkActor()\n",
    "cowActor.SetMapper(cowMapper)\n",
    "cowActor.GetProperty().SetColor(colors.GetColor3d('Wheat'))\n",
    "\n",
    "print('Position = ', cowActor.GetPosition(), '\\tOrientation = ', cowActor.GetOrientation())"
   ]
  },
  {
   "cell_type": "code",
   "execution_count": 14,
   "id": "981f8365-822e-436c-ae76-57345866641c",
   "metadata": {},
   "outputs": [],
   "source": [
    "# Ejes sobre la vaca\n",
    "cowAxesSource = vtkAxes()\n",
    "cowAxesSource.SetScaleFactor(10.0)\n",
    "cowAxesSource.SetOrigin(0, 0, 0)\n",
    "\n",
    "cowAxesMapper = vtkPolyDataMapper()\n",
    "cowAxesMapper.SetInputConnection(cowAxesSource.GetOutputPort())\n",
    "\n",
    "cowAxes = vtkActor()\n",
    "cowAxes.SetMapper(cowAxesMapper)\n",
    "#cowAxes.VisibilityOff()\n",
    "cowAxes.VisibilityOn()"
   ]
  },
  {
   "cell_type": "code",
   "execution_count": 15,
   "id": "02288b4d-95c8-470a-b9da-c5b89d0c8d9b",
   "metadata": {},
   "outputs": [],
   "source": [
    "# Ejes de referencia \n",
    "axes = vtkAxesActor()\n",
    "axes.SetTotalLength((2,2,2))\n",
    "\n",
    "transform = vtkTransform()\n",
    "transform.Translate(6.0, 2.0, 4.0)\n",
    "\n",
    "axes.SetUserTransform(transform)"
   ]
  },
  {
   "cell_type": "code",
   "execution_count": 16,
   "id": "89b71cd5-0d7f-4643-84de-8954c7434474",
   "metadata": {},
   "outputs": [],
   "source": [
    "ren = vtkRenderer()\n",
    "ren.AddActor(cowActor)\n",
    "ren.AddActor(axes)\n",
    "ren.AddActor(cowAxes)\n",
    "ren.SetBackground(colors.GetColor3d('sky_blue'))"
   ]
  },
  {
   "cell_type": "code",
   "execution_count": 17,
   "id": "4302103b-4487-4bbf-b370-2656a564881f",
   "metadata": {},
   "outputs": [],
   "source": [
    "renWin = vtkRenderWindow()\n",
    "renWin.SetSize(600, 480)\n",
    "renWin.AddRenderer(ren)"
   ]
  },
  {
   "cell_type": "code",
   "execution_count": 18,
   "id": "cd16505d-8127-4cc0-a28d-27c0b0c99c91",
   "metadata": {},
   "outputs": [],
   "source": [
    "renWin.SetWindowName('Vaca móvil - Rotación OX');\n",
    "\n",
    "Rotate_X(cowActor, ren, renWin)\n",
    "Screenshot('images/vaca_OX.png', renWin)"
   ]
  },
  {
   "cell_type": "code",
   "execution_count": 19,
   "id": "ccd3a3a1-3169-4dfb-88c7-8cead7d8523e",
   "metadata": {},
   "outputs": [],
   "source": [
    "del renWin"
   ]
  },
  {
   "cell_type": "code",
   "execution_count": 20,
   "id": "fe24627a-036e-4e0b-a5bb-5eb4de4b0438",
   "metadata": {},
   "outputs": [],
   "source": [
    "renWin = vtkRenderWindow()\n",
    "renWin.SetSize(600, 480)\n",
    "renWin.AddRenderer(ren)"
   ]
  },
  {
   "cell_type": "code",
   "execution_count": 21,
   "id": "34411163-6bbf-4e2f-880a-786fd1366296",
   "metadata": {},
   "outputs": [],
   "source": [
    "renWin.SetWindowName('Vaca móvil - Rotación OY');\n",
    "\n",
    "Rotate_Y(cowActor, ren, renWin)\n",
    "Screenshot('images/vaca_OY.png', renWin)"
   ]
  },
  {
   "cell_type": "code",
   "execution_count": 22,
   "id": "ed5ce020-1e61-4f70-b70e-685cb3e71767",
   "metadata": {},
   "outputs": [],
   "source": [
    "del renWin"
   ]
  },
  {
   "cell_type": "code",
   "execution_count": 23,
   "id": "9a10e34c-f3dd-47e1-850b-b364312a1dcb",
   "metadata": {},
   "outputs": [],
   "source": [
    "renWin = vtkRenderWindow()\n",
    "renWin.SetSize(600, 480)\n",
    "renWin.AddRenderer(ren)"
   ]
  },
  {
   "cell_type": "code",
   "execution_count": 24,
   "id": "56a72be0-6230-42df-a36b-3eea6ad1ad64",
   "metadata": {},
   "outputs": [],
   "source": [
    "renWin.SetWindowName('Vaca móvil - Rotación OZ');\n",
    "\n",
    "Rotate_Z(cowActor, ren, renWin)\n",
    "Screenshot('images/vaca_OZ.png', renWin)"
   ]
  },
  {
   "cell_type": "code",
   "execution_count": 25,
   "id": "552be140-7970-4c03-a95b-ecc4b74748b5",
   "metadata": {},
   "outputs": [],
   "source": [
    "del renWin"
   ]
  },
  {
   "cell_type": "code",
   "execution_count": 26,
   "id": "76493c81-30a2-41c1-899f-ced6a1bf9176",
   "metadata": {},
   "outputs": [],
   "source": [
    "renWin = vtkRenderWindow()\n",
    "renWin.SetSize(600, 480)\n",
    "renWin.AddRenderer(ren)"
   ]
  },
  {
   "cell_type": "code",
   "execution_count": 27,
   "id": "3012e60e-1f7b-4bc7-8022-aa8c0283e83f",
   "metadata": {},
   "outputs": [],
   "source": [
    "renWin.SetWindowName('Vaca móvil - Rotación XY');\n",
    "\n",
    "Rotate_XY(cowActor, ren, renWin)\n",
    "Screenshot('images/vaca_XY.png', renWin)"
   ]
  },
  {
   "cell_type": "code",
   "execution_count": 28,
   "id": "32a5889b-5882-48db-8c04-37e2ae146f7d",
   "metadata": {},
   "outputs": [],
   "source": [
    "del renWin"
   ]
  },
  {
   "cell_type": "code",
   "execution_count": 29,
   "id": "57a00046-5b8c-4222-ba73-0cbd79ff9675",
   "metadata": {},
   "outputs": [],
   "source": [
    "renWin = vtkRenderWindow()\n",
    "renWin.SetSize(600, 480)\n",
    "renWin.AddRenderer(ren)"
   ]
  },
  {
   "cell_type": "code",
   "execution_count": 30,
   "id": "b36916e8-9c32-4754-ad9a-eeab3235f061",
   "metadata": {},
   "outputs": [],
   "source": [
    "renWin.SetWindowName('Vaca móvil - Rotación V_0');\n",
    "\n",
    "Rotate_V_0(cowActor, ren, renWin)\n",
    "Screenshot('images/vaca_V_0.png', renWin)"
   ]
  },
  {
   "cell_type": "code",
   "execution_count": 31,
   "id": "2668ffd0-77ef-446f-9321-2a2e9dbc62d8",
   "metadata": {},
   "outputs": [],
   "source": [
    "del renWin"
   ]
  },
  {
   "cell_type": "code",
   "execution_count": 32,
   "id": "b616a2c7-118f-41bd-8238-16c0d8cf5d68",
   "metadata": {},
   "outputs": [],
   "source": [
    "renWin = vtkRenderWindow()\n",
    "renWin.SetSize(600, 480)\n",
    "renWin.AddRenderer(ren)"
   ]
  },
  {
   "cell_type": "code",
   "execution_count": 33,
   "id": "8bb5a712-1682-4f0d-b58f-2cdfb22772b8",
   "metadata": {},
   "outputs": [],
   "source": [
    "renWin.SetWindowName('Vaca móvil - Rotación V_V');\n",
    "\n",
    "Rotate_V_V(cowActor, ren, renWin)\n",
    "Screenshot('images/vaca_V_V.png', renWin)"
   ]
  },
  {
   "cell_type": "code",
   "execution_count": 34,
   "id": "e1006553-d4ce-4c0a-b440-0ff1d22d2ecd",
   "metadata": {},
   "outputs": [],
   "source": [
    "del renWin"
   ]
  },
  {
   "cell_type": "code",
   "execution_count": 35,
   "id": "ebdd52bf-e316-4a75-98e2-bfde5abc25a3",
   "metadata": {},
   "outputs": [],
   "source": [
    "renWin = vtkRenderWindow()\n",
    "renWin.SetSize(600, 480)\n",
    "renWin.AddRenderer(ren)"
   ]
  },
  {
   "cell_type": "code",
   "execution_count": 36,
   "id": "10860d5b-cd34-445f-a231-7a9b687b0b10",
   "metadata": {},
   "outputs": [],
   "source": [
    "renWin.SetWindowName('Vaca móvil - Walk');\n",
    "\n",
    "Walk(cowActor, ren, renWin)\n",
    "Screenshot('images/vaca_Walk.png', renWin)"
   ]
  },
  {
   "cell_type": "code",
   "execution_count": 37,
   "id": "7deb1520-0709-43a5-b920-dac190f30c08",
   "metadata": {},
   "outputs": [],
   "source": [
    "del renWin"
   ]
  },
  {
   "cell_type": "code",
   "execution_count": null,
   "id": "685c9181-1fe2-48dd-a218-ef33edd13fb5",
   "metadata": {},
   "outputs": [],
   "source": []
  }
 ],
 "metadata": {
  "kernelspec": {
   "display_name": "Python [conda env:jra]",
   "language": "python",
   "name": "conda-env-jra-py"
  },
  "language_info": {
   "codemirror_mode": {
    "name": "ipython",
    "version": 3
   },
   "file_extension": ".py",
   "mimetype": "text/x-python",
   "name": "python",
   "nbconvert_exporter": "python",
   "pygments_lexer": "ipython3",
   "version": "3.10.6"
  }
 },
 "nbformat": 4,
 "nbformat_minor": 5
}
