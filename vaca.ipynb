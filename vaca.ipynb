{
 "cells": [
  {
   "cell_type": "code",
   "execution_count": 1,
   "id": "060aad29-2902-499c-9a4f-d098ba44e75e",
   "metadata": {},
   "outputs": [],
   "source": [
    "import vtk\n",
    "\n",
    "from vtk.vtkCommonColor import vtkNamedColors\n",
    "from vtk.vtkCommonTransforms import vtkTransform\n",
    "from vtk.vtkFiltersGeneral import vtkAxes\n",
    "from vtk.vtkIOGeometry import vtkOBJReader\n",
    "from vtk.vtkIOImage import vtkPNGWriter\n",
    "from vtk.vtkRenderingCore import (\n",
    "    vtkActor,\n",
    "    vtkPolyDataMapper,\n",
    "    vtkRenderWindow,\n",
    "    vtkRenderWindowInteractor,\n",
    "    vtkRenderer,\n",
    "    vtkWindowToImageFilter\n",
    ")"
   ]
  },
  {
   "cell_type": "code",
   "execution_count": 2,
   "id": "09b9f2df-a2df-4d9a-8181-0d1447fd562c",
   "metadata": {},
   "outputs": [],
   "source": [
    "fileName = 'data/cow.obj'"
   ]
  },
  {
   "cell_type": "code",
   "execution_count": 3,
   "id": "57ae6d42-4af3-4dfd-ac57-2e2ce9b5e2c4",
   "metadata": {},
   "outputs": [],
   "source": [
    "colors = vtkNamedColors()\n",
    "# Set the background color.\n",
    "colors.SetColor('BkgColor1', [60, 93, 144, 255])\n",
    "colors.SetColor('BkgColor2', [26, 51, 102, 255])"
   ]
  },
  {
   "cell_type": "code",
   "execution_count": 4,
   "id": "38330210-2f0e-4166-bd03-0ae95eb7bb56",
   "metadata": {},
   "outputs": [],
   "source": [
    "# Vaca\n",
    "cow = vtkOBJReader()\n",
    "cow.SetFileName(fileName)\n",
    "cow.Update()\n",
    "\n",
    "cowMapper = vtkPolyDataMapper()\n",
    "cowMapper.SetInputConnection(cow.GetOutputPort())\n",
    "cowMapper.ScalarVisibilityOff()\n",
    "\n",
    "cowActor = vtkActor()\n",
    "cowActor.SetMapper(cowMapper)\n",
    "cowActor.GetProperty().SetColor(colors.GetColor3d('Wheat'))"
   ]
  },
  {
   "cell_type": "code",
   "execution_count": 5,
   "id": "981f8365-822e-436c-ae76-57345866641c",
   "metadata": {},
   "outputs": [],
   "source": [
    "# Ejes\n",
    "cowAxesSource = vtkAxes()\n",
    "cowAxesSource.SetScaleFactor(10.0)\n",
    "cowAxesSource.SetOrigin(0, 0, 0)\n",
    "\n",
    "cowAxesMapper = vtkPolyDataMapper()\n",
    "cowAxesMapper.SetInputConnection(cowAxesSource.GetOutputPort())\n",
    "\n",
    "cowAxes = vtkActor()\n",
    "cowAxes.SetMapper(cowAxesMapper)\n",
    "#cowAxes.VisibilityOff()\n",
    "cowAxes.VisibilityOn()"
   ]
  },
  {
   "cell_type": "code",
   "execution_count": 6,
   "id": "89b71cd5-0d7f-4643-84de-8954c7434474",
   "metadata": {},
   "outputs": [],
   "source": [
    "ren = vtkRenderer()\n",
    "\n",
    "ren.AddActor(cowActor)\n",
    "ren.AddActor(cowAxes)\n",
    "ren.SetBackground(colors.GetColor3d('BkgColor1'))"
   ]
  },
  {
   "cell_type": "code",
   "execution_count": 7,
   "id": "9deb33f8-5ae9-4eba-ab41-dcf00f7c82c3",
   "metadata": {},
   "outputs": [],
   "source": [
    "renWin = vtkRenderWindow()\n",
    "renWin.AddRenderer(ren)\n",
    "renWin.SetWindowName('WalkCow');\n",
    "\n",
    "iren = vtkRenderWindowInteractor()\n",
    "iren.SetRenderWindow(renWin)"
   ]
  },
  {
   "cell_type": "code",
   "execution_count": 8,
   "id": "c4502cf2-b96f-4651-8a65-d9e9d60cf69b",
   "metadata": {},
   "outputs": [],
   "source": [
    "renWin.Render()\n",
    "iren.Start()"
   ]
  },
  {
   "cell_type": "code",
   "execution_count": 9,
   "id": "7deb1520-0709-43a5-b920-dac190f30c08",
   "metadata": {},
   "outputs": [],
   "source": [
    "del renWin, iren"
   ]
  },
  {
   "cell_type": "code",
   "execution_count": null,
   "id": "2d893936-cf74-4f78-be4c-25f356b40f35",
   "metadata": {},
   "outputs": [],
   "source": []
  }
 ],
 "metadata": {
  "kernelspec": {
   "display_name": "Python [conda env:jra]",
   "language": "python",
   "name": "conda-env-jra-py"
  },
  "language_info": {
   "codemirror_mode": {
    "name": "ipython",
    "version": 3
   },
   "file_extension": ".py",
   "mimetype": "text/x-python",
   "name": "python",
   "nbconvert_exporter": "python",
   "pygments_lexer": "ipython3",
   "version": "3.10.6"
  }
 },
 "nbformat": 4,
 "nbformat_minor": 5
}
