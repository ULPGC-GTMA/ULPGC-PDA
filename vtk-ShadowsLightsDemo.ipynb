{
 "cells": [
  {
   "cell_type": "code",
   "execution_count": 1,
   "id": "6915c029-89f6-4350-96a9-d55f0b609b72",
   "metadata": {},
   "outputs": [],
   "source": [
    "\"\"\"\n",
    "The scene consists of\n",
    " * Four actors: a rectangle, a box, a cone and a sphere.\n",
    "     The box, the cone and the sphere are above the rectangle.\n",
    " * Two spotlights: one in the direction of the box, another one in the direction of the sphere.\n",
    "     Both lights are above the box, the cone and the sphere.\n",
    "\n",
    "\"\"\"\n",
    "\n",
    "# noinspection PyUnresolvedReferences\n",
    "import vtkmodules.vtkInteractionStyle\n",
    "# noinspection PyUnresolvedReferences\n",
    "import vtkmodules.vtkRenderingOpenGL2\n",
    "\n",
    "from vtkmodules.vtkCommonColor import vtkNamedColors\n",
    "\n",
    "from vtkmodules.vtkFiltersCore import vtkPolyDataNormals\n",
    "\n",
    "from vtkmodules.vtkFiltersSources import (\n",
    "    vtkConeSource,\n",
    "    vtkCubeSource,\n",
    "    vtkPlaneSource,\n",
    "    vtkSphereSource\n",
    ")\n",
    "\n",
    "from vtkmodules.vtkRenderingCore import (\n",
    "    vtkActor,\n",
    "    vtkLight,\n",
    "    vtkLightActor,\n",
    "    vtkPolyDataMapper,\n",
    "    vtkRenderWindow,\n",
    "    vtkRenderWindowInteractor\n",
    ")\n",
    "\n",
    "from vtkmodules.vtkRenderingOpenGL2 import (\n",
    "    vtkCameraPass,\n",
    "    vtkOpenGLRenderer,\n",
    "    vtkRenderPassCollection,\n",
    "    vtkSequencePass,\n",
    "    vtkShadowMapPass\n",
    ")"
   ]
  },
  {
   "cell_type": "code",
   "execution_count": 2,
   "id": "dcd2b4db-4742-47f6-9d56-1956148bb6dd",
   "metadata": {},
   "outputs": [],
   "source": [
    "interactor = vtkRenderWindowInteractor()\n",
    "\n",
    "renderWindow = vtkRenderWindow()\n",
    "renderWindow.SetSize(400, 400)\n",
    "renderWindow.SetMultiSamples(0)\n",
    "\n",
    "renderWindow.SetAlphaBitPlanes(1)\n",
    "interactor.SetRenderWindow(renderWindow)"
   ]
  },
  {
   "cell_type": "code",
   "execution_count": 3,
   "id": "f03eb1eb-2efb-43c9-a2ad-097cd9867cc2",
   "metadata": {},
   "outputs": [],
   "source": [
    "renderer = vtkOpenGLRenderer()\n",
    "renderWindow.AddRenderer(renderer)\n",
    "renderWindow.SetSize(640, 480)"
   ]
  },
  {
   "cell_type": "code",
   "execution_count": 4,
   "id": "32ff5f97-eaec-469a-a445-d260fb95bb26",
   "metadata": {},
   "outputs": [],
   "source": [
    "rectangleSource = vtkPlaneSource()\n",
    "rectangleSource.SetOrigin(-5.0, 0.0, 5.0)\n",
    "rectangleSource.SetPoint1(5.0, 0.0, 5.0)\n",
    "rectangleSource.SetPoint2(-5.0, 0.0, -5.0)\n",
    "rectangleSource.SetResolution(100, 100)\n",
    "\n",
    "rectangleMapper = vtkPolyDataMapper()\n",
    "rectangleMapper.SetInputConnection(rectangleSource.GetOutputPort())\n",
    "\n",
    "rectangleMapper.SetScalarVisibility(0)"
   ]
  },
  {
   "cell_type": "code",
   "execution_count": 5,
   "id": "6a82e907-3424-4ad9-bf6a-ed69d6c9c855",
   "metadata": {},
   "outputs": [],
   "source": [
    "shadows = vtkShadowMapPass()\n",
    "\n",
    "seq = vtkSequencePass()\n",
    "\n",
    "passes = vtkRenderPassCollection()\n",
    "passes.AddItem(shadows.GetShadowMapBakerPass())\n",
    "passes.AddItem(shadows)\n",
    "seq.SetPasses(passes)\n",
    "\n",
    "cameraP = vtkCameraPass()\n",
    "cameraP.SetDelegatePass(seq)\n",
    "\n",
    "# tell the renderer to use our render pass pipeline\n",
    "glrenderer = renderer\n",
    "glrenderer.SetPass(cameraP)"
   ]
  },
  {
   "cell_type": "code",
   "execution_count": 6,
   "id": "be6c5a52-0dae-479b-b580-537f688f21f3",
   "metadata": {},
   "outputs": [],
   "source": [
    "colors = vtkNamedColors()\n",
    "boxColor = colors.GetColor3d('Tomato')\n",
    "rectangleColor = colors.GetColor3d('Beige')\n",
    "coneColor = colors.GetColor3d('Peacock')\n",
    "sphereColor = colors.GetColor3d('Banana')\n",
    "\n",
    "rectangleActor = vtkActor()\n",
    "rectangleActor.SetMapper(rectangleMapper)\n",
    "rectangleActor.VisibilityOn()\n",
    "rectangleActor.GetProperty().SetColor(rectangleColor)"
   ]
  },
  {
   "cell_type": "code",
   "execution_count": 7,
   "id": "b07a1089-429d-4b79-9498-58b8be3372c3",
   "metadata": {},
   "outputs": [],
   "source": [
    "boxSource = vtkCubeSource()\n",
    "boxSource.SetXLength(2.0)\n",
    "\n",
    "boxNormals = vtkPolyDataNormals()\n",
    "boxNormals.SetInputConnection(boxSource.GetOutputPort())\n",
    "boxNormals.ComputePointNormalsOff()\n",
    "boxNormals.ComputeCellNormalsOn()\n",
    "boxNormals.Update()\n",
    "boxNormals.GetOutput().GetPointData().SetNormals(None)\n",
    "\n",
    "boxMapper = vtkPolyDataMapper()\n",
    "boxMapper.SetInputConnection(boxNormals.GetOutputPort())\n",
    "boxMapper.ScalarVisibilityOff()\n",
    "\n",
    "boxActor = vtkActor()\n",
    "boxActor.SetMapper(boxMapper)\n",
    "boxActor.VisibilityOn()\n",
    "boxActor.SetPosition(-2.0, 2.0, 0.0)\n",
    "boxActor.GetProperty().SetColor(boxColor)"
   ]
  },
  {
   "cell_type": "code",
   "execution_count": 8,
   "id": "e179e77b-acb9-44b5-9d41-a66e539e0dac",
   "metadata": {},
   "outputs": [],
   "source": [
    "coneSource = vtkConeSource()\n",
    "coneSource.SetResolution(24)\n",
    "coneSource.SetDirection(1.0, 1.0, 1.0)\n",
    "\n",
    "coneMapper = vtkPolyDataMapper()\n",
    "coneMapper.SetInputConnection(coneSource.GetOutputPort())\n",
    "coneMapper.SetScalarVisibility(0)\n",
    "\n",
    "coneActor = vtkActor()\n",
    "coneActor.SetMapper(coneMapper)\n",
    "coneActor.VisibilityOn()\n",
    "coneActor.SetPosition(0.0, 1.0, 1.0)\n",
    "coneActor.GetProperty().SetColor(coneColor)"
   ]
  },
  {
   "cell_type": "code",
   "execution_count": 9,
   "id": "b9df9535-f643-4a81-b5c9-28a59a369280",
   "metadata": {},
   "outputs": [],
   "source": [
    "sphereSource = vtkSphereSource()\n",
    "sphereSource.SetThetaResolution(32)\n",
    "sphereSource.SetPhiResolution(32)\n",
    "\n",
    "sphereMapper = vtkPolyDataMapper()\n",
    "sphereMapper.SetInputConnection(sphereSource.GetOutputPort())\n",
    "sphereMapper.ScalarVisibilityOff()\n",
    "\n",
    "sphereActor = vtkActor()\n",
    "sphereActor.SetMapper(sphereMapper)\n",
    "\n",
    "sphereActor.VisibilityOn()\n",
    "sphereActor.SetPosition(2.0, 2.0, -1.0)\n",
    "sphereActor.GetProperty().SetColor(sphereColor)"
   ]
  },
  {
   "cell_type": "code",
   "execution_count": 10,
   "id": "348627a9-ff03-4876-9a61-963ffccf369c",
   "metadata": {},
   "outputs": [],
   "source": [
    "renderer.AddViewProp(rectangleActor)\n",
    "renderer.AddViewProp(boxActor)\n",
    "renderer.AddViewProp(coneActor)\n",
    "renderer.AddViewProp(sphereActor)"
   ]
  },
  {
   "cell_type": "code",
   "execution_count": 11,
   "id": "8408cce5-21a9-4231-a909-811b6a5bdea3",
   "metadata": {},
   "outputs": [],
   "source": [
    "# Spotlights.\n",
    "\n",
    "# lighting the box.\n",
    "l1 = vtkLight()\n",
    "l1.SetPosition(-4.0, 4.0, -1.0)\n",
    "l1.SetFocalPoint(boxActor.GetPosition())\n",
    "l1.SetColor(colors.GetColor3d('White'))\n",
    "l1.PositionalOn()\n",
    "renderer.AddLight(l1)\n",
    "l1.SwitchOn()"
   ]
  },
  {
   "cell_type": "code",
   "execution_count": 12,
   "id": "e90b5e60-25e3-4108-add9-7fa1eab890ee",
   "metadata": {},
   "outputs": [],
   "source": [
    "# lighting the sphere\n",
    "l2 = vtkLight()\n",
    "l2.SetPosition(4.0, 5.0, 1.0)\n",
    "l2.SetFocalPoint(sphereActor.GetPosition())\n",
    "l2.SetColor(colors.GetColor3d('Magenta'))\n",
    "l2.PositionalOn()\n",
    "renderer.AddLight(l2)\n",
    "l2.SwitchOn()"
   ]
  },
  {
   "cell_type": "code",
   "execution_count": 13,
   "id": "1be06db2-546b-40db-a711-47299b1dd7b9",
   "metadata": {},
   "outputs": [],
   "source": [
    "# For each spotlight, add a light frustum wireframe representation and a cone\n",
    "# wireframe representation, colored with the light color.\n",
    "angle = l1.GetConeAngle()\n",
    "if l1.LightTypeIsSceneLight() and l1.GetPositional() and angle < 180.0:  # spotlight\n",
    "    la = vtkLightActor()\n",
    "    la.SetLight(l1)\n",
    "    renderer.AddViewProp(la)\n",
    "\n",
    "angle = l2.GetConeAngle()\n",
    "if l2.LightTypeIsSceneLight() and l2.GetPositional() and angle < 180.0:  # spotlight\n",
    "    la = vtkLightActor()\n",
    "    la.SetLight(l2)\n",
    "    renderer.AddViewProp(la)"
   ]
  },
  {
   "cell_type": "code",
   "execution_count": 14,
   "id": "35aad94b-3cd5-4bc6-9a29-ade827700b24",
   "metadata": {},
   "outputs": [],
   "source": [
    "renderer.SetBackground2(colors.GetColor3d('Black'))\n",
    "renderer.SetBackground(colors.GetColor3d('Silver'))\n",
    "renderer.SetGradientBackground(True)\n",
    "\n",
    "renderWindow.Render()\n",
    "renderWindow.SetWindowName('ShadowsLightsDemo')"
   ]
  },
  {
   "cell_type": "code",
   "execution_count": 15,
   "id": "8aab29c8-679a-45b1-ba49-685abcceaafb",
   "metadata": {},
   "outputs": [],
   "source": [
    "renderer.ResetCamera()\n",
    "\n",
    "camera = renderer.GetActiveCamera()\n",
    "camera.Azimuth(40.0)\n",
    "camera.Elevation(10.0)"
   ]
  },
  {
   "cell_type": "code",
   "execution_count": 16,
   "id": "4c0017c9-5280-4dde-9593-b779383e4246",
   "metadata": {},
   "outputs": [],
   "source": [
    "renderWindow.Render()\n",
    "\n",
    "interactor.Start()\n",
    "\n",
    "del renderWindow, interactor"
   ]
  },
  {
   "cell_type": "code",
   "execution_count": null,
   "id": "772f90be-bc96-4a70-975a-0790fb1d3792",
   "metadata": {},
   "outputs": [],
   "source": []
  }
 ],
 "metadata": {
  "kernelspec": {
   "display_name": "Python [conda env:jra] *",
   "language": "python",
   "name": "conda-env-jra-py"
  },
  "language_info": {
   "codemirror_mode": {
    "name": "ipython",
    "version": 3
   },
   "file_extension": ".py",
   "mimetype": "text/x-python",
   "name": "python",
   "nbconvert_exporter": "python",
   "pygments_lexer": "ipython3",
   "version": "3.10.6"
  }
 },
 "nbformat": 4,
 "nbformat_minor": 5
}
