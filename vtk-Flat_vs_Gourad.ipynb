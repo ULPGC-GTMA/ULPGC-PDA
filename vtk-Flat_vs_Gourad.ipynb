{
 "cells": [
  {
   "cell_type": "code",
   "execution_count": 1,
   "id": "b3753410-30c0-4d4e-adb1-7bdf67440480",
   "metadata": {},
   "outputs": [],
   "source": [
    "from collections import OrderedDict\n",
    "\n",
    "# noinspection PyUnresolvedReferences\n",
    "import vtkmodules.vtkInteractionStyle\n",
    "# noinspection PyUnresolvedReferences\n",
    "import vtkmodules.vtkRenderingOpenGL2\n",
    "from vtkmodules.vtkCommonColor import vtkNamedColors\n",
    "from vtkmodules.vtkCommonDataModel import vtkQuadric\n",
    "from vtkmodules.vtkFiltersCore import vtkContourFilter\n",
    "from vtkmodules.vtkFiltersSources import (\n",
    "    vtkCylinderSource,\n",
    "    vtkSphereSource\n",
    ")\n",
    "from vtkmodules.vtkIOGeometry import vtkOBJReader\n",
    "from vtkmodules.vtkImagingHybrid import vtkSampleFunction\n",
    "from vtkmodules.vtkRenderingCore import (\n",
    "    vtkActor,\n",
    "    vtkPolyDataMapper,\n",
    "    vtkRenderWindow,\n",
    "    vtkRenderWindowInteractor,\n",
    "    vtkRenderer\n",
    ")"
   ]
  },
  {
   "cell_type": "code",
   "execution_count": 2,
   "id": "46ce2c83-3db9-49e6-8791-5037d21085ed",
   "metadata": {},
   "outputs": [],
   "source": [
    "def CreateSphere(flat):\n",
    "    '''\n",
    "\n",
    "    :param flat: The interpolation to use (flat or Gouraud).\n",
    "    :return: the renderer\n",
    "    '''\n",
    "    colors = vtkNamedColors()\n",
    "    sphere = vtkSphereSource()\n",
    "    mapper = vtkPolyDataMapper()\n",
    "    mapper.SetInputConnection(sphere.GetOutputPort())\n",
    "    actor = vtkActor()\n",
    "    actor.SetMapper(mapper)\n",
    "    actor.GetProperty().SetColor(colors.GetColor3d('MistyRose'))\n",
    "    if flat:\n",
    "        actor.GetProperty().SetInterpolationToFlat()\n",
    "    else:\n",
    "        actor.GetProperty().SetInterpolationToGouraud()\n",
    "    renderer = vtkRenderer()\n",
    "    renderer.AddActor(actor)\n",
    "    return renderer"
   ]
  },
  {
   "cell_type": "code",
   "execution_count": 3,
   "id": "510fae87-5d3c-42ce-b75a-7b7af999c1f6",
   "metadata": {},
   "outputs": [],
   "source": [
    "def CreateCylinder(flat):\n",
    "    '''\n",
    "\n",
    "    :param flat: The interpolation to use (flat or Gouraud).\n",
    "    :return: the renderer\n",
    "    '''\n",
    "    colors = vtkNamedColors()\n",
    "    cylinder = vtkCylinderSource()\n",
    "    mapper = vtkPolyDataMapper()\n",
    "    mapper.SetInputConnection(cylinder.GetOutputPort())\n",
    "    actor = vtkActor()\n",
    "    actor.SetMapper(mapper)\n",
    "    actor.GetProperty().SetColor(colors.GetColor3d('MistyRose'))\n",
    "    if flat:\n",
    "        actor.GetProperty().SetInterpolationToFlat()\n",
    "    else:\n",
    "        actor.GetProperty().SetInterpolationToGouraud()\n",
    "    renderer = vtkRenderer()\n",
    "    renderer.AddActor(actor)\n",
    "    return renderer"
   ]
  },
  {
   "cell_type": "code",
   "execution_count": 4,
   "id": "ccbdd3d5-3a7a-4e6e-9ab7-03c27c2297e3",
   "metadata": {},
   "outputs": [],
   "source": [
    "def CreateIsoSurface(flat):\n",
    "    '''\n",
    "\n",
    "    :param flat: The interpolation to use (flat or Gouraud).\n",
    "    :return: the renderer\n",
    "    '''\n",
    "    quadric = vtkQuadric()\n",
    "    quadric.SetCoefficients(1, 2, 3, 0, 1, 0, 0, 0, 0, 0)\n",
    "    sample = vtkSampleFunction()\n",
    "    sample.SetSampleDimensions(25, 25, 25)\n",
    "    sample.SetImplicitFunction(quadric)\n",
    "    # Generate the implicit surface.\n",
    "    contour = vtkContourFilter()\n",
    "    contour.SetInputConnection(sample.GetOutputPort())\n",
    "    range = [1.0, 6.0]\n",
    "    contour.GenerateValues(5, range)\n",
    "    # Map the contour.\n",
    "    contourMapper = vtkPolyDataMapper()\n",
    "    contourMapper.SetInputConnection(contour.GetOutputPort())\n",
    "    contourMapper.SetScalarRange(0, 7)\n",
    "    actor = vtkActor()\n",
    "    actor.SetMapper(contourMapper)\n",
    "    if flat:\n",
    "        actor.GetProperty().SetInterpolationToFlat()\n",
    "    else:\n",
    "        actor.GetProperty().SetInterpolationToGouraud()\n",
    "    renderer = vtkRenderer()\n",
    "    renderer.AddActor(actor)\n",
    "    return renderer"
   ]
  },
  {
   "cell_type": "code",
   "execution_count": 5,
   "id": "72beec00-578e-4031-9633-b302ee2b7083",
   "metadata": {},
   "outputs": [],
   "source": [
    "def CreateModel(flat, fileName):\n",
    "    '''\n",
    "\n",
    "    :param flat: The interpolation to use (flat or Gouraud).\n",
    "    :param fileName: The file name.\n",
    "    :return: the renderer\n",
    "    '''\n",
    "    colors = vtkNamedColors()\n",
    "    reader = vtkOBJReader()\n",
    "    reader.SetFileName(fileName)\n",
    "    mapper = vtkPolyDataMapper()\n",
    "    mapper.SetInputConnection(reader.GetOutputPort())\n",
    "    actor = vtkActor()\n",
    "    actor.SetMapper(mapper)\n",
    "    actor.GetProperty().SetColor(colors.GetColor3d('Tan'))\n",
    "    if flat:\n",
    "        actor.GetProperty().SetInterpolationToFlat()\n",
    "    else:\n",
    "        actor.GetProperty().SetInterpolationToGouraud()\n",
    "    renderer = vtkRenderer()\n",
    "    renderer.AddActor(actor)\n",
    "    return renderer"
   ]
  },
  {
   "cell_type": "code",
   "execution_count": 6,
   "id": "da0488ad-8877-4df7-9d76-f675e8705b7b",
   "metadata": {},
   "outputs": [],
   "source": [
    "fileName = 'data/cow.obj'"
   ]
  },
  {
   "cell_type": "code",
   "execution_count": 7,
   "id": "ab919b40-672b-44b5-b45b-7109dad301f2",
   "metadata": {},
   "outputs": [],
   "source": [
    "colors = vtkNamedColors()"
   ]
  },
  {
   "cell_type": "code",
   "execution_count": 8,
   "id": "bee3a2e2-d5b7-4687-bff9-44fddecb1591",
   "metadata": {},
   "outputs": [],
   "source": [
    "# Create the renderers.\n",
    "renderers = OrderedDict()\n",
    "renderers['flatSphereRenderer'] = CreateSphere(True)\n",
    "renderers['flatCylinderRenderer'] = CreateCylinder(True)\n",
    "renderers['flatIsoSurfaceRenderer'] = CreateIsoSurface(True)\n",
    "renderers['flatModelRenderer'] = CreateModel(True, fileName)\n",
    "\n",
    "renderers['smoothSphereRenderer'] = CreateSphere(False)\n",
    "renderers['smoothCylinderRenderer'] = CreateCylinder(False)\n",
    "renderers['smoothIsoSurfaceRenderer'] = CreateIsoSurface(False)\n",
    "renderers['smoothModelRenderer'] = CreateModel(False, fileName)"
   ]
  },
  {
   "cell_type": "code",
   "execution_count": 9,
   "id": "9fd9bff8-6022-451b-9206-46aca8c9b27a",
   "metadata": {},
   "outputs": [],
   "source": [
    "# Get the keys\n",
    "keys = list(renderers.keys())\n",
    "\n",
    "renderWindow = vtkRenderWindow()\n",
    "\n",
    "# Setup the viewports for the renderers.\n",
    "\n",
    "rendererSize = 256\n",
    "xGridDimensions = 4\n",
    "yGridDimensions = 2\n",
    "\n",
    "renderWindow.SetSize(rendererSize * xGridDimensions, rendererSize * yGridDimensions)\n",
    "renderWindow.SetWindowName('FlatVersusGouraud')"
   ]
  },
  {
   "cell_type": "code",
   "execution_count": 10,
   "id": "e6987c43-b7f0-49b5-bcc7-9dcce387bb58",
   "metadata": {},
   "outputs": [],
   "source": [
    "for row in range(0, yGridDimensions):\n",
    "    for col in range(0, xGridDimensions):\n",
    "        # (xmin, ymin, xmax, ymax)\n",
    "        viewport = [0] * 4\n",
    "        viewport[0] = col / xGridDimensions\n",
    "        viewport[1] = (yGridDimensions - (row + 1)) / yGridDimensions\n",
    "        viewport[2] = (col + 1) / xGridDimensions\n",
    "        viewport[3] = (yGridDimensions - row) / yGridDimensions\n",
    "        index = row * xGridDimensions + col\n",
    "        renderers[keys[index]].SetViewport(viewport)"
   ]
  },
  {
   "cell_type": "code",
   "execution_count": 11,
   "id": "14b586d5-1f75-46de-8baf-f829c53bbd06",
   "metadata": {},
   "outputs": [],
   "source": [
    "for r in range(0, len(renderers)):\n",
    "    renderers[keys[r]].SetBackground(colors.GetColor3d('SlateGray'))\n",
    "    renderers[keys[r]].GetActiveCamera().Azimuth(20)\n",
    "    renderers[keys[r]].GetActiveCamera().Elevation(30)\n",
    "    renderers[keys[r]].ResetCamera()\n",
    "    if r > 3:\n",
    "        renderers[keys[r]].SetActiveCamera(renderers[keys[r - 4]].GetActiveCamera())\n",
    "        \n",
    "    renderWindow.AddRenderer(renderers[keys[r]])"
   ]
  },
  {
   "cell_type": "code",
   "execution_count": 12,
   "id": "5ea114dd-a920-4173-a01f-046ec08788c7",
   "metadata": {},
   "outputs": [],
   "source": [
    "interactor = vtkRenderWindowInteractor()\n",
    "interactor.SetRenderWindow(renderWindow)\n",
    "\n",
    "renderWindow.Render()\n",
    "interactor.Start()"
   ]
  },
  {
   "cell_type": "code",
   "execution_count": 13,
   "id": "bcafe014-dae0-4312-a11d-99dc4ea2a386",
   "metadata": {},
   "outputs": [],
   "source": [
    "del renderWindow, interactor"
   ]
  },
  {
   "cell_type": "code",
   "execution_count": null,
   "id": "e6d6a68a-e4f4-4a1d-a9a6-d565000483d9",
   "metadata": {},
   "outputs": [],
   "source": []
  }
 ],
 "metadata": {
  "kernelspec": {
   "display_name": "Python [conda env:jra]",
   "language": "python",
   "name": "conda-env-jra-py"
  },
  "language_info": {
   "codemirror_mode": {
    "name": "ipython",
    "version": 3
   },
   "file_extension": ".py",
   "mimetype": "text/x-python",
   "name": "python",
   "nbconvert_exporter": "python",
   "pygments_lexer": "ipython3",
   "version": "3.10.6"
  }
 },
 "nbformat": 4,
 "nbformat_minor": 5
}
