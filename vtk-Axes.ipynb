{
 "cells": [
  {
   "cell_type": "code",
   "execution_count": 1,
   "id": "a6be4c19-1832-4218-935f-22270d597718",
   "metadata": {},
   "outputs": [],
   "source": [
    "import vtk\n",
    "\n",
    "from vtk.vtkCommonColor import vtkNamedColors\n",
    "from vtk.vtkCommonTransforms import vtkTransform\n",
    "from vtk.vtkFiltersSources import vtkSphereSource\n",
    "from vtk.vtkRenderingAnnotation import vtkAxesActor\n",
    "from vtk.vtkRenderingCore import (\n",
    "    vtkActor,\n",
    "    vtkPolyDataMapper,\n",
    "    vtkRenderWindow,\n",
    "    vtkRenderWindowInteractor,\n",
    "    vtkRenderer\n",
    ")"
   ]
  },
  {
   "cell_type": "code",
   "execution_count": 2,
   "id": "01e4d3ed-d92d-4009-b4fe-eb76b39e19cb",
   "metadata": {},
   "outputs": [],
   "source": [
    "colors = vtkNamedColors()"
   ]
  },
  {
   "cell_type": "code",
   "execution_count": 3,
   "id": "80f3b059-0c50-42d2-aea6-0a65835bcf80",
   "metadata": {},
   "outputs": [],
   "source": [
    "# create a Sphere\n",
    "sphereSource = vtkSphereSource()\n",
    "sphereSource.SetCenter(0.0, 0.0, 0.0)\n",
    "sphereSource.SetRadius(0.5)"
   ]
  },
  {
   "cell_type": "code",
   "execution_count": 4,
   "id": "8b5200c1-1fd1-4a0d-bb96-39b872233333",
   "metadata": {},
   "outputs": [],
   "source": [
    "# create a mapper\n",
    "sphereMapper = vtkPolyDataMapper()\n",
    "sphereMapper.SetInputConnection(sphereSource.GetOutputPort())"
   ]
  },
  {
   "cell_type": "code",
   "execution_count": 5,
   "id": "3eff032b-6dc7-4829-b324-7a8a60bfeb39",
   "metadata": {},
   "outputs": [],
   "source": [
    "# create an actor\n",
    "sphereActor = vtkActor()\n",
    "sphereActor.SetMapper(sphereMapper)"
   ]
  },
  {
   "cell_type": "code",
   "execution_count": 6,
   "id": "26d0f7cc-28bb-4e8b-a5fa-010c9e77a63d",
   "metadata": {},
   "outputs": [],
   "source": [
    "# a renderer and render window\n",
    "renderer = vtkRenderer()\n",
    "renderWindow = vtkRenderWindow()\n",
    "renderWindow.SetWindowName('Axes')\n",
    "renderWindow.AddRenderer(renderer)"
   ]
  },
  {
   "cell_type": "code",
   "execution_count": 7,
   "id": "d3d7add6-39fa-4cc1-9bd5-08daa15bef8a",
   "metadata": {},
   "outputs": [],
   "source": [
    "# an interactor\n",
    "renderWindowInteractor = vtkRenderWindowInteractor()\n",
    "renderWindowInteractor.SetRenderWindow(renderWindow)"
   ]
  },
  {
   "cell_type": "code",
   "execution_count": 8,
   "id": "602a44b7-d556-42aa-bd62-36e239342bfd",
   "metadata": {},
   "outputs": [],
   "source": [
    "# add the actors to the scene\n",
    "renderer.AddActor(sphereActor)\n",
    "renderer.SetBackground(colors.GetColor3d('SlateGray'))"
   ]
  },
  {
   "cell_type": "code",
   "execution_count": 9,
   "id": "30085fe4-441c-4f16-829a-a1c8d689b95e",
   "metadata": {},
   "outputs": [],
   "source": [
    "transform = vtkTransform()\n",
    "transform.Translate(1.0, 0.0, 0.0)"
   ]
  },
  {
   "cell_type": "code",
   "execution_count": 10,
   "id": "8810f599-4990-4bb5-864e-1a86861977d1",
   "metadata": {},
   "outputs": [],
   "source": [
    "axes0 = vtkAxesActor()"
   ]
  },
  {
   "cell_type": "code",
   "execution_count": 11,
   "id": "b2019fbe-4a4c-4ad3-a0de-5c0edb917e2d",
   "metadata": {},
   "outputs": [],
   "source": [
    "axes = vtkAxesActor()\n",
    "#  The axes are positioned with a user transform\n",
    "axes.SetUserTransform(transform)"
   ]
  },
  {
   "cell_type": "code",
   "execution_count": 12,
   "id": "b51ad18f-e54f-4b15-8140-c2b36757e2a0",
   "metadata": {},
   "outputs": [],
   "source": [
    "# properties of the axes labels can be set as follows\n",
    "# this sets the x axis label to red\n",
    "# axes.GetXAxisCaptionActor2D().GetCaptionTextProperty().SetColor(colors.GetColor3d('Red'));\n",
    "\n",
    "# the actual text of the axis label can be changed:\n",
    "# axes->SetXAxisLabelText('test');\n",
    "\n",
    "renderer.AddActor(axes)\n",
    "renderer.AddActor(axes0)"
   ]
  },
  {
   "cell_type": "code",
   "execution_count": 13,
   "id": "62585a08-e657-4204-93a8-67f98744870b",
   "metadata": {},
   "outputs": [],
   "source": [
    "renderer.GetActiveCamera().Azimuth(50)\n",
    "renderer.GetActiveCamera().Elevation(-30)\n",
    "\n",
    "renderer.ResetCamera()\n",
    "renderWindow.SetWindowName('Axes')\n",
    "renderWindow.Render()\n",
    "\n",
    "# begin mouse interaction\n",
    "renderWindowInteractor.Start()\n",
    "\n",
    "del renderWindow, renderWindowInteractor"
   ]
  },
  {
   "cell_type": "code",
   "execution_count": null,
   "id": "6e5f0c81-d10b-4e10-af4d-286e03da8e97",
   "metadata": {},
   "outputs": [],
   "source": []
  }
 ],
 "metadata": {
  "kernelspec": {
   "display_name": "Python [conda env:jra] *",
   "language": "python",
   "name": "conda-env-jra-py"
  },
  "language_info": {
   "codemirror_mode": {
    "name": "ipython",
    "version": 3
   },
   "file_extension": ".py",
   "mimetype": "text/x-python",
   "name": "python",
   "nbconvert_exporter": "python",
   "pygments_lexer": "ipython3",
   "version": "3.10.6"
  }
 },
 "nbformat": 4,
 "nbformat_minor": 5
}
