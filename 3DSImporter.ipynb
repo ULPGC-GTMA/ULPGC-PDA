{
 "cells": [
  {
   "cell_type": "code",
   "execution_count": 1,
   "id": "1835d402-4caf-419d-9b97-2d63d1b0e999",
   "metadata": {},
   "outputs": [],
   "source": [
    "import vtk\n",
    "\n",
    "from vtk.vtkCommonColor import vtkNamedColors\n",
    "from vtk.vtkIOGeometry import vtkOBJReader\n",
    "from vtk.vtkIOImport import vtk3DSImporter, vtkOBJImporter\n",
    "from vtk.vtkRenderingCore import (\n",
    "    vtkCamera,\n",
    "    vtkRenderWindow,\n",
    "    vtkRenderWindowInteractor,\n",
    "    vtkRenderer\n",
    ")"
   ]
  },
  {
   "cell_type": "code",
   "execution_count": 2,
   "id": "02fb72fb-cce1-4da8-a10f-36e1a7557720",
   "metadata": {},
   "outputs": [],
   "source": [
    "fileName = 'data/iflamingo.3ds'"
   ]
  },
  {
   "cell_type": "code",
   "execution_count": 3,
   "id": "90ad786c-d3c7-411f-aff2-e2125140bcc4",
   "metadata": {},
   "outputs": [],
   "source": [
    "importer = vtk3DSImporter()\n",
    "importer.SetFileName(fileName)\n",
    "importer.ComputeNormalsOn()"
   ]
  },
  {
   "cell_type": "code",
   "execution_count": 4,
   "id": "951b6624-5c09-4e68-a3e9-bbeb5559126a",
   "metadata": {},
   "outputs": [],
   "source": [
    "colors = vtkNamedColors()"
   ]
  },
  {
   "cell_type": "code",
   "execution_count": 5,
   "id": "749b7768-ad86-43f7-b589-0f3e20834ad3",
   "metadata": {},
   "outputs": [
    {
     "name": "stdout",
     "output_type": "stream",
     "text": [
      "There are 33 actors.\n"
     ]
    }
   ],
   "source": [
    "renderer = vtkRenderer()\n",
    "renWin = vtkRenderWindow()\n",
    "iren = vtkRenderWindowInteractor()\n",
    "\n",
    "renWin.AddRenderer(renderer)\n",
    "renderer.SetBackground2(colors.GetColor3d('Gold'))\n",
    "renderer.SetBackground(colors.GetColor3d('Wheat'))\n",
    "renderer.GradientBackgroundOn()\n",
    "\n",
    "iren.SetRenderWindow(renWin)\n",
    "importer.SetRenderWindow(renWin)\n",
    "importer.Update()\n",
    "\n",
    "# actors = vtkActorCollection()\n",
    "actors = renderer.GetActors()\n",
    "print('There are', actors.GetNumberOfItems(), 'actors.')"
   ]
  },
  {
   "cell_type": "code",
   "execution_count": 6,
   "id": "d2ec91e1-621e-4807-966c-25d06cfd3ac5",
   "metadata": {},
   "outputs": [],
   "source": [
    "renWin.SetWindowName('3DSImporter')\n",
    "renWin.Render()\n",
    "camera = vtkCamera()\n",
    "camera.SetPosition(0, -1, 0)\n",
    "camera.SetFocalPoint(0, 0, 0)\n",
    "camera.SetViewUp(0, 0, 1)\n",
    "camera.Azimuth(150)\n",
    "camera.Elevation(30)\n",
    "\n",
    "renderer.SetActiveCamera(camera)\n",
    "renderer.ResetCamera()\n",
    "renderer.ResetCameraClippingRange()\n",
    "\n",
    "renWin.Render()\n",
    "iren.Start()\n",
    "\n",
    "del importer, renWin, iren"
   ]
  },
  {
   "cell_type": "code",
   "execution_count": null,
   "id": "75dde53d-dfb7-4b82-ae7f-49de1359bc24",
   "metadata": {},
   "outputs": [],
   "source": []
  }
 ],
 "metadata": {
  "kernelspec": {
   "display_name": "Python [conda env:jra]",
   "language": "python",
   "name": "conda-env-jra-py"
  },
  "language_info": {
   "codemirror_mode": {
    "name": "ipython",
    "version": 3
   },
   "file_extension": ".py",
   "mimetype": "text/x-python",
   "name": "python",
   "nbconvert_exporter": "python",
   "pygments_lexer": "ipython3",
   "version": "3.10.6"
  }
 },
 "nbformat": 4,
 "nbformat_minor": 5
}
